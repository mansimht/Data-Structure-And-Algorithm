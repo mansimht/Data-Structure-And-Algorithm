{
  "nbformat": 4,
  "nbformat_minor": 0,
  "metadata": {
    "colab": {
      "provenance": []
    },
    "kernelspec": {
      "name": "python3",
      "display_name": "Python 3"
    },
    "language_info": {
      "name": "python"
    }
  },
  "cells": [
    {
      "cell_type": "markdown",
      "source": [
        "**What is Hashing?**\n",
        "\n",
        "- Hashing is method of sorting and indexing data\n",
        "- The idea behind hasing is to allow large amounts of data to be indexed using keys commonly created by formulas.\n",
        "\n",
        "**Why need hashing?**\n",
        "\n",
        "- It is time efficient case of search operation\n",
        "\n",
        "![image.png](data:image/png;base64,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)\n",
        "\n"
      ],
      "metadata": {
        "id": "UUFLNKK25XD2"
      }
    },
    {
      "cell_type": "markdown",
      "source": [
        "**Hashing Terminology**\n",
        "\n",
        "- Hash Function: It is a funciton that can be used to map of arbitary size to data of fixed size\n",
        "- Key: Input data given by user\n",
        "- Hash Value: A value that is returned by Hash function\n",
        "- Hash Table: It is data structure which implements an associative array abstract data type, a structure that map keys to vales\n",
        "- Collision: A collision occurs when two different keys to has funciton produce same output\n",
        "\n",
        "\n",
        "**Hash  Functions:**\n",
        "Ex.1: Mode function\n",
        "```\n",
        "def mod(num,cellnum):\n",
        "    return num % cellnum\n",
        "```\n",
        "mod(400,24) ---> 16 insert index of 16 store 400\n",
        "\n",
        "Ex.2: ASCII function: Use ascii values ot convert string to number\n",
        "```\n",
        "def modascii(string,cellnum):\n",
        "    total=0\n",
        "    for i in string:\n",
        "        total += ord(i)\n",
        "    return total % cellnum\n",
        "```\n",
        "modascii(\"ABC\",24) ---> 65+66+67= 198%192= 6--> So \"ABC\" can be store at index 6\n",
        "\n",
        "\n",
        "**Properties of Good Hash functions**\n",
        "- It distribute has values uniformly accross hash tables\n",
        "- It has to use all input data\n"
      ],
      "metadata": {
        "id": "_VRFevGNPnU6"
      }
    },
    {
      "cell_type": "markdown",
      "source": [
        "**Types of collision resolution techniques**\n",
        "\n",
        "Resolution Techniques:\n",
        "\n",
        "---> Direct Chanining\n",
        "\n",
        "---> Open Addressing   ---> Linear Probing  & Quadratic Probing\n",
        "\n",
        "\n",
        "\n",
        "Direct Chaining: Implements bucket as the list . Colliding are stored in this lists. Inserting physical location of nodes\n",
        "\n",
        "Open addressing: Colliding elements are stored in other vacants buckets. During storage and lookup there are found through probing\n",
        "\n",
        "Linear Probing: It places new ey into closest following mpty cell\n",
        "\n",
        "Quadratic Probing: Adding arbitary quadratic polynomial to index until an empty cell if found. 1^2^2,,3^2...\n",
        "\n",
        "Double Hasing: Interval between probes is computed by another hasing function\n",
        "\n",
        "**Hash Tabe is Full**\n",
        "Direct Chaning: This situation never arise\n",
        "\n",
        "Open Addressing: Create 2x size od current has table and recall hasing for current keys\n",
        "\n",
        "**Pros and cons of COllision resolution Techniques**\n",
        "\n",
        "Direct Chaning:  Hash table never get full and for large data affect time complexity\n",
        "\n",
        "Open Addressing: Easy implementation but for large data affect time complexity\n",
        "\n",
        "If input size is know then use \"open addressing\"\n",
        "\n",
        "**Practical Use of Hashing**\n",
        "\n",
        "1. Password Verification\n",
        "2. FIle system: File path is mapped to physical location on the disk\n",
        "\n"
      ],
      "metadata": {
        "id": "75IeVA7vVCdA"
      }
    },
    {
      "cell_type": "code",
      "execution_count": null,
      "metadata": {
        "id": "27oPq5Mi9e-V"
      },
      "outputs": [],
      "source": []
    }
  ]
}