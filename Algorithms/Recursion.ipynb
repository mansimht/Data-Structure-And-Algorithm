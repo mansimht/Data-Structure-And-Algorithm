{
  "nbformat": 4,
  "nbformat_minor": 0,
  "metadata": {
    "colab": {
      "provenance": []
    },
    "kernelspec": {
      "name": "python3",
      "display_name": "Python 3"
    },
    "language_info": {
      "name": "python"
    }
  },
  "cells": [
    {
      "cell_type": "markdown",
      "source": [
        "**Recursion**\n",
        "\n",
        "Recursion is a way of solvig problem by having a function calling iteself.\n",
        "Making problem smaller and smaller is called recursion\n",
        "\n",
        "**Properties:**\n",
        "1. Performing the same operation multiple times with different inputs\n",
        "2. In every step we try smaller inputs to make the problem smaller\n",
        "3. Base condition is needed to stop the recursion, otherwise infinite loop will occur\n",
        "\n",
        "\n",
        "\n"
      ],
      "metadata": {
        "id": "iHwPgGRwuo5P"
      }
    },
    {
      "cell_type": "code",
      "execution_count": null,
      "metadata": {
        "id": "EY84-P3UunnJ"
      },
      "outputs": [],
      "source": [
        "def openRussiondoll(doll):\n",
        "  if doll == 1:\n",
        "    return \"All dolls are opened\"\n",
        "  else:\n",
        "    openRussiondoll(doll-1)"
      ]
    },
    {
      "cell_type": "markdown",
      "source": [
        "**Why do we need Recursion?**\n",
        "\n",
        "1. Recursive thinking is really important in programming and it helps beak down big problems into smaller one and easier to use\n",
        "\n",
        "When to chose recursion?\n",
        "  - if you can devide the problem into smaller problems, then you can use recursion\n",
        "  - Design an algorithm to compute nth..\n",
        "  - Write a code to list n...\n",
        "  - Implement a method to compute all\n",
        "  - Practice\n",
        "\n",
        "\n",
        "\n"
      ],
      "metadata": {
        "id": "8PZcrZ3ryzMs"
      }
    },
    {
      "cell_type": "markdown",
      "source": [
        "**How recursion works?**\n",
        "\n",
        "2 condition:\n",
        "1. devide input into smaller values\n",
        "2. base condition to exit infinite loop\n",
        "\n",
        "def recursionmethod(parameters):\n",
        "    if base condition satisified:\n",
        "        return some value(exit from loop)\n",
        "    else:\n",
        "         recursionmethod(modified parameters)\n",
        "\n",
        "```\n",
        "def recursionmethod(parameters):\n",
        "    if base condition satisified:\n",
        "        return some value(exit from loop)\n",
        "    else:\n",
        "         recursionmethod(modified parameters)\n",
        "```\n",
        "\n",
        "\n"
      ],
      "metadata": {
        "id": "IC3BCkuj0QMR"
      }
    },
    {
      "cell_type": "code",
      "source": [
        "def firstmethod():\n",
        "  secondmethod()\n",
        "  print('I am first method')\n",
        "\n",
        "def secondmethod():\n",
        "  thirdmethod()\n",
        "  print('I am second method')\n",
        "\n",
        "def thirdmethod():\n",
        "  fourthmethod()\n",
        "  print('I am third method')\n",
        "\n",
        "def fourthmethod():\n",
        "  print('I am fourth method')\n",
        "\n",
        "firstmethod()   #===> WOrk like a stack= LIFO"
      ],
      "metadata": {
        "colab": {
          "base_uri": "https://localhost:8080/"
        },
        "id": "ZVSAYDXj0POO",
        "outputId": "25432f86-6d01-453f-c445-4831b8748847"
      },
      "execution_count": null,
      "outputs": [
        {
          "output_type": "stream",
          "name": "stdout",
          "text": [
            "I am fourth method\n",
            "I am third method\n",
            "I am second method\n",
            "I am first method\n"
          ]
        }
      ]
    },
    {
      "cell_type": "code",
      "source": [
        "def recursivemethod(n):\n",
        "  if n < 1:\n",
        "    print(\"n less than 1\")\n",
        "  else:\n",
        "    recursivemethod(n-1)\n",
        "    print(n)\n",
        "\n",
        "n= 4\n",
        "recursivemethod(n)\n",
        "\n",
        "#also like LIFO= 4 is store in stack first, then 3, then 2 and then 1"
      ],
      "metadata": {
        "colab": {
          "base_uri": "https://localhost:8080/"
        },
        "id": "1iGF2O3m3HGF",
        "outputId": "332c4258-f9ed-4c70-af1b-e158a3e184ad"
      },
      "execution_count": null,
      "outputs": [
        {
          "output_type": "stream",
          "name": "stdout",
          "text": [
            "n less than 1\n",
            "1\n",
            "2\n",
            "3\n",
            "4\n"
          ]
        }
      ]
    },
    {
      "cell_type": "markdown",
      "source": [
        "**Recursive vs Iterative Solution**\n",
        "\n",
        "![image.png](data:image/png;base64,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)"
      ],
      "metadata": {
        "id": "3t1ZjN6P4iqG"
      }
    },
    {
      "cell_type": "code",
      "source": [
        "#Recursion\n",
        "def poweroftwo(n):\n",
        "  if n==0:\n",
        "    return 1\n",
        "  else:\n",
        "    power = poweroftwo(n-1)\n",
        "    print(power)\n",
        "    return power*2\n",
        "\n",
        "n= 8\n",
        "poweroftwo(n)"
      ],
      "metadata": {
        "colab": {
          "base_uri": "https://localhost:8080/"
        },
        "id": "X9m5I3kB309y",
        "outputId": "b8f8e9e3-d8e4-4e34-cefd-5b1a38e9c07e"
      },
      "execution_count": null,
      "outputs": [
        {
          "output_type": "stream",
          "name": "stdout",
          "text": [
            "1\n",
            "2\n",
            "4\n",
            "8\n",
            "16\n",
            "32\n",
            "64\n",
            "128\n"
          ]
        },
        {
          "output_type": "execute_result",
          "data": {
            "text/plain": [
              "256"
            ]
          },
          "metadata": {},
          "execution_count": 12
        }
      ]
    },
    {
      "cell_type": "code",
      "source": [
        "#Iterative method\n",
        "def poweroftwoiter(n):\n",
        "  i=0\n",
        "  power=1\n",
        "  while i < n:\n",
        "    power= power * 2\n",
        "    i= i +1\n",
        "  return power\n",
        "\n",
        "n=8\n",
        "poweroftwoiter(n)"
      ],
      "metadata": {
        "colab": {
          "base_uri": "https://localhost:8080/"
        },
        "id": "t73TdVgZ5DeQ",
        "outputId": "1d5db238-041e-41ea-aedc-f18faf47cf74"
      },
      "execution_count": null,
      "outputs": [
        {
          "output_type": "execute_result",
          "data": {
            "text/plain": [
              "256"
            ]
          },
          "metadata": {},
          "execution_count": 8
        }
      ]
    },
    {
      "cell_type": "markdown",
      "source": [
        "**When to use/avoid iteration?**\n",
        "\n",
        "**When to use?**\n",
        "1. If we easily break problem into similar subproblem\n",
        "2. When we are fine with extra overhead that comes with it\n",
        "3 When we need quick solution instead of efficient one\n",
        "4. Recursion add clarity and reduce time and debug to code\n",
        "5. Recursion is useful in Tree traversal\n",
        "6. When use memoization in recursion\n",
        "\n",
        "\n",
        "**When avoid recursion?**\n",
        "1. If time and space complexity matter us\n",
        "2. Recursion use more memory. If we use embedded memory,\n",
        "3. Recursion is slow\n",
        "\n",
        "\n"
      ],
      "metadata": {
        "id": "MDuTCO6p7G4-"
      }
    },
    {
      "cell_type": "markdown",
      "source": [
        "**How to write recursion in 3 steps?**\n",
        "\n",
        "**Factorial:**\n",
        "- it is produc of all positive integers less than or equal to n\n",
        "- denoted by n!\n",
        "- only positive number\n",
        "- 0!=1\n",
        "\n",
        "Ex. 4!= 4* 3* 2 * 1= 24\n",
        "\n",
        "Formula:\n",
        "```\n",
        "n!= n*(n-1)*(n-2)*...*2*1\n",
        "n! = n* (n-1)!\n",
        "```\n",
        "Step1: Recursive case- the flow\n",
        "\n",
        "Step2: Base case for stopping criteria\n",
        "\n",
        "Step3: Untentional case- the constraint\n",
        "\n"
      ],
      "metadata": {
        "id": "SyH3kuS7F0MK"
      }
    },
    {
      "cell_type": "code",
      "source": [
        "#Factorial\n",
        "def fact(n):\n",
        "  if n==0 or n==1:\n",
        "    return 1\n",
        "  elif n < 0:\n",
        "    return 'N value should be positive integer only'\n",
        "  else:\n",
        "    return n * fact(n-1)\n",
        "\n",
        "n= 4\n",
        "print(fact(n))\n",
        "\n",
        "n1= 11\n",
        "print(fact(n1))\n",
        "\n",
        "n2= 0\n",
        "print(fact(n2))\n",
        "\n",
        "n3= -1\n",
        "print(fact(n3))"
      ],
      "metadata": {
        "colab": {
          "base_uri": "https://localhost:8080/"
        },
        "id": "ZDlQuQFm5Wsh",
        "outputId": "e87278a7-3fd4-49ec-ebac-d5047eb3275c"
      },
      "execution_count": null,
      "outputs": [
        {
          "output_type": "stream",
          "name": "stdout",
          "text": [
            "24\n",
            "39916800\n",
            "1\n",
            "N value should be positive integer only\n"
          ]
        }
      ]
    },
    {
      "cell_type": "markdown",
      "source": [
        "**Fibonacci numbers Recursion**\n",
        "\n",
        "Fibonacci sequence is a sequence of numbers which each number is sum of two preceding ones and sequences starts from 0 and 1\n",
        "\n",
        "0,1,1,2,3,5,8,13,21,34....\n",
        "\n",
        "5= 3+2\n",
        "```\n",
        "f(n)= f(n-1)+f(n+2)\n",
        "```\n",
        "\n",
        "Step1: Recursive case- the flow\n",
        "\n",
        "Step2: Base case for stopping criteria\n",
        "\n",
        "Step3: Untentional case- the constraint"
      ],
      "metadata": {
        "id": "7gwiahpRKUNn"
      }
    },
    {
      "cell_type": "code",
      "source": [
        "#fibonnacci\n",
        "def fib(n):\n",
        "  if n == 0 or n ==1:\n",
        "    return n\n",
        "  elif n < 0:\n",
        "    return None\n",
        "  else:\n",
        "    return fib(n-1)+ fib(n-2)\n",
        "\n",
        "n= 8\n",
        "print(fib(n))\n",
        "\n",
        "n1= 21\n",
        "print(fib(n1))\n",
        "\n",
        "#Time compelxity: 2^0+2^1+2^2+....2^n+2^n-1= O(2^n)"
      ],
      "metadata": {
        "colab": {
          "base_uri": "https://localhost:8080/"
        },
        "id": "PKcLQdXoHRTk",
        "outputId": "a73ad895-54ed-4fbd-a9c1-e37206197721"
      },
      "execution_count": null,
      "outputs": [
        {
          "output_type": "stream",
          "name": "stdout",
          "text": [
            "21\n",
            "10946\n"
          ]
        }
      ]
    },
    {
      "cell_type": "markdown",
      "source": [
        "**How to measure Recursive Algorithm?**\n",
        "\n",
        "\n",
        "\n"
      ],
      "metadata": {
        "id": "kmpW0MGONfTC"
      }
    },
    {
      "cell_type": "code",
      "source": [
        "def findmax(arr,n):   #----------------------------------------->M(n)\n",
        "  if n== 1:           #----------------------------------------->O(1)\n",
        "    return arr[0]     #----------------------------------------->O(1)\n",
        "  return max(arr[n-1],findmax(arr,n-1)) #------------------------>M(n-1)\n",
        "\n",
        "arr= [5,4,10,11,68,87,10]\n",
        "print(findmax(arr,7))\n",
        "\n",
        "##Time Complexity= O(n)\n",
        "# M(n)= O(1)+M(n-1)\n",
        "#M(1)=O(!)\n",
        "#M(n-1)= O(1)+M((n-1)-1)"
      ],
      "metadata": {
        "colab": {
          "base_uri": "https://localhost:8080/"
        },
        "id": "57bfQAQCMDpw",
        "outputId": "80cbc19b-c7d4-41f8-c8e7-c7d647ddbd0f"
      },
      "execution_count": null,
      "outputs": [
        {
          "output_type": "stream",
          "name": "stdout",
          "text": [
            "87\n"
          ]
        }
      ]
    },
    {
      "cell_type": "code",
      "source": [],
      "metadata": {
        "id": "_MaoU0_iOXKX"
      },
      "execution_count": null,
      "outputs": []
    }
  ]
}