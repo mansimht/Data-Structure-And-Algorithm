{
  "nbformat": 4,
  "nbformat_minor": 0,
  "metadata": {
    "colab": {
      "provenance": []
    },
    "kernelspec": {
      "name": "python3",
      "display_name": "Python 3"
    },
    "language_info": {
      "name": "python"
    }
  },
  "cells": [
    {
      "cell_type": "markdown",
      "source": [
        "**What is Queue?**\n",
        "Queue is a data structure that stores items in First-in/First-Out manner(FIFO)\n",
        "\n",
        "Ex.  Like real life queue of peopele. Person first will get first chance to buy something. So that mean it\n",
        "\n",
        "Ex. If there is queue like this 10,20,30. If need to insert 40 in queue, then we have to insert at the end of queue.\n",
        "And when remove it then from the begining of the queue.\n",
        "\n",
        "**Why need queue data strucutre?**\n",
        "- Utilizing first coming data first, while others wait fr their turn\n",
        "- FIFO method= First in first out\n",
        "\n",
        "**Application:**\n",
        "1. Point sale system of resturant\n",
        "2. Printer queue\n",
        "3. Call center phones\n",
        "\n"
      ],
      "metadata": {
        "id": "jMk-xyrxXIjs"
      }
    },
    {
      "cell_type": "markdown",
      "source": [
        "**Queue Operations**\n",
        "\n",
        "1. Create Queue\n",
        "2. Enqueue= Insert element\n",
        "3. Dequeue= remove element\n",
        "4. Peek\n",
        "5. isEmpty\n",
        "6. isFull\n",
        "7. deleteQueue\n",
        "\n",
        "**Implementation**\n",
        "1. Python List:\n",
        "   - Queue without list\n",
        "   - Queue with capacity(Circualr)\n",
        "2. Linked List\n"
      ],
      "metadata": {
        "id": "wFbmwDY5aFmD"
      }
    },
    {
      "cell_type": "markdown",
      "source": [
        "# **Create Queue without size limit**"
      ],
      "metadata": {
        "id": "5phuAwc5jQ8i"
      }
    },
    {
      "cell_type": "code",
      "execution_count": 1,
      "metadata": {
        "id": "ftCoJXqdxsjQ"
      },
      "outputs": [],
      "source": [
        "#Create Queue without size limit\n",
        "class Queue:\n",
        "  def __init__(self):\n",
        "    self.items=[]\n",
        "\n",
        "  def __str__(self):\n",
        "    values= [str(x) for x in self.items]\n",
        "    return ''.join(values)\n",
        "\n",
        "#Time complexity= O(1)\n",
        "#Space complexity= O(1)"
      ]
    },
    {
      "cell_type": "code",
      "source": [
        "#isEmpty Queue\n",
        "class Queue:\n",
        "  def __init__(self):\n",
        "    self.items=[]\n",
        "\n",
        "  def __str__(self):\n",
        "    values= [str(x) for x in self.items]\n",
        "    return ''.join(values)\n",
        "\n",
        "  def isEmpty(self):\n",
        "    if  self.items == []:\n",
        "      return True\n",
        "    else:\n",
        "      return False\n",
        "\n",
        "queue= Queue()\n",
        "print(queue.isEmpty())\n",
        "\n",
        "\n",
        "#Time complexity= O(1)\n",
        "#Space complexity= O(1)"
      ],
      "metadata": {
        "colab": {
          "base_uri": "https://localhost:8080/"
        },
        "id": "74zBkTzUgo3i",
        "outputId": "398863be-a32e-4146-f47a-1602fb18dbb6"
      },
      "execution_count": 2,
      "outputs": [
        {
          "output_type": "stream",
          "name": "stdout",
          "text": [
            "True\n"
          ]
        }
      ]
    },
    {
      "cell_type": "code",
      "source": [
        "#Enqueue Queue\n",
        "class Queue:\n",
        "  def __init__(self):\n",
        "    self.items=[]\n",
        "\n",
        "  def __str__(self):\n",
        "    values= [str(x) for x in self.items]\n",
        "    return '\\n'.join(values)\n",
        "\n",
        "  def isEmpty(self):\n",
        "    if  self.items == []:\n",
        "      return True\n",
        "    else:\n",
        "      return False\n",
        "\n",
        "  def enqueue(self,value):\n",
        "    return self.items.append(value)\n",
        "\n",
        "queue= Queue()\n",
        "queue.enqueue(10)\n",
        "queue.enqueue(20)\n",
        "queue.enqueue(30)\n",
        "queue.enqueue(40)\n",
        "print(queue)\n",
        "\n",
        "#Time complexity= O(n)\n",
        "#Space complexity= O(1)"
      ],
      "metadata": {
        "colab": {
          "base_uri": "https://localhost:8080/"
        },
        "id": "S2K10fEXhJjv",
        "outputId": "965fddca-e578-4d74-abcd-6f7ebdc459cb"
      },
      "execution_count": 5,
      "outputs": [
        {
          "output_type": "stream",
          "name": "stdout",
          "text": [
            "10\n",
            "20\n",
            "30\n",
            "40\n"
          ]
        }
      ]
    },
    {
      "cell_type": "code",
      "source": [
        "#dequeue Queue\n",
        "class Queue:\n",
        "  def __init__(self):\n",
        "    self.items=[]\n",
        "\n",
        "  def __str__(self):\n",
        "    values= [str(x) for x in self.items]\n",
        "    return '\\n'.join(values)\n",
        "\n",
        "  def isEmpty(self):\n",
        "    if  self.items == []:\n",
        "      return True\n",
        "    else:\n",
        "      return False\n",
        "\n",
        "  def enqueue(self,value):\n",
        "    return self.items.append(value)\n",
        "\n",
        "  def dequeue(self):\n",
        "    if self.isEmpty():\n",
        "      return \"There is not element in queue\"\n",
        "    else:\n",
        "      return self.items.pop(0)\n",
        "\n",
        "queue= Queue()\n",
        "queue.enqueue(10)\n",
        "queue.enqueue(20)\n",
        "queue.enqueue(30)\n",
        "queue.enqueue(40)\n",
        "print(queue)\n",
        "print('=================')\n",
        "print(queue.dequeue())\n",
        "print('=================')\n",
        "print(queue.dequeue())\n",
        "\n",
        "\n",
        "#Time complexity= O(n)\n",
        "#Space complexity= O(1)"
      ],
      "metadata": {
        "colab": {
          "base_uri": "https://localhost:8080/"
        },
        "id": "2YTm9tUIhbRU",
        "outputId": "95b99e9e-d06e-4a9d-e7a2-1342aabfb109"
      },
      "execution_count": 13,
      "outputs": [
        {
          "output_type": "stream",
          "name": "stdout",
          "text": [
            "10\n",
            "20\n",
            "30\n",
            "40\n",
            "=================\n",
            "10\n",
            "=================\n",
            "20\n"
          ]
        }
      ]
    },
    {
      "cell_type": "code",
      "source": [
        "#peek Queue\n",
        "class Queue:\n",
        "  def __init__(self):\n",
        "    self.items=[]\n",
        "\n",
        "  def __str__(self):\n",
        "    values= [str(x) for x in self.items]\n",
        "    return '\\n'.join(values)\n",
        "\n",
        "  def isEmpty(self):\n",
        "    if  self.items == []:\n",
        "      return True\n",
        "    else:\n",
        "      return False\n",
        "\n",
        "  def enqueue(self,value):\n",
        "    return self.items.append(value)\n",
        "\n",
        "  def dequeue(self):\n",
        "    if self.isEmpty():\n",
        "      return \"There is not element in queue\"\n",
        "    else:\n",
        "      return self.items.pop(0)\n",
        "\n",
        "  def peek(self):\n",
        "    if self.isEmpty():\n",
        "      return \"There is not element in queue\"\n",
        "    else:\n",
        "      return self.items[0]\n",
        "\n",
        "queue= Queue()\n",
        "queue.enqueue(10)\n",
        "queue.enqueue(20)\n",
        "queue.enqueue(30)\n",
        "queue.enqueue(40)\n",
        "print(queue)\n",
        "print('=================')\n",
        "print(queue.peek())\n",
        "print('=================')\n",
        "queue.dequeue()\n",
        "print(queue.peek())\n",
        "\n",
        "\n",
        "#Time complexity= O(1)\n",
        "#Space complexity= O(1)"
      ],
      "metadata": {
        "colab": {
          "base_uri": "https://localhost:8080/"
        },
        "id": "lWHuO8t6h2zr",
        "outputId": "56e69a04-625e-406f-a095-374289175a85"
      },
      "execution_count": 14,
      "outputs": [
        {
          "output_type": "stream",
          "name": "stdout",
          "text": [
            "10\n",
            "20\n",
            "30\n",
            "40\n",
            "=================\n",
            "10\n",
            "=================\n",
            "20\n"
          ]
        }
      ]
    },
    {
      "cell_type": "code",
      "source": [
        "#delete Queue\n",
        "class Queue:\n",
        "  def __init__(self):\n",
        "    self.items=[]\n",
        "\n",
        "  def __str__(self):\n",
        "    values= [str(x) for x in self.items]\n",
        "    return '\\n'.join(values)\n",
        "\n",
        "  def isEmpty(self):\n",
        "    if  self.items == []:\n",
        "      return True\n",
        "    else:\n",
        "      return False\n",
        "\n",
        "  def enqueue(self,value):\n",
        "    return self.items.append(value)\n",
        "\n",
        "  def dequeue(self):\n",
        "    if self.isEmpty():\n",
        "      return \"There is not element in queue\"\n",
        "    else:\n",
        "      return self.items.pop(0)\n",
        "\n",
        "  def peek(self):\n",
        "    if self.isEmpty():\n",
        "      return \"There is not element in queue\"\n",
        "    else:\n",
        "      return self.items[0]\n",
        "\n",
        "  def delete(self):\n",
        "    self.items= None\n",
        "\n",
        "queue= Queue()\n",
        "queue.enqueue(10)\n",
        "queue.enqueue(20)\n",
        "queue.enqueue(30)\n",
        "queue.enqueue(40)\n",
        "print(queue)\n",
        "print(queue.delete())\n",
        "\n",
        "\n",
        "#Time complexity= O(1)\n",
        "#Space complexity= O(1)"
      ],
      "metadata": {
        "colab": {
          "base_uri": "https://localhost:8080/"
        },
        "id": "s7TuwdLoiYvk",
        "outputId": "a532b65e-08a1-4bb6-a8c5-76580a1dd657"
      },
      "execution_count": 15,
      "outputs": [
        {
          "output_type": "stream",
          "name": "stdout",
          "text": [
            "10\n",
            "20\n",
            "30\n",
            "40\n",
            "None\n"
          ]
        }
      ]
    },
    {
      "cell_type": "markdown",
      "source": [
        "**Time and Space Complexity**\n",
        "\n",
        "1. Create:\n",
        "   - Time complexity: O(1)\n",
        "   - Space Complexity: O(1)\n",
        "\n",
        "2. Enqueue:\n",
        "   - Time complexity: O(n)\n",
        "   - Space Complexity: O(1)\n",
        "\n",
        "3. Dequeue:\n",
        "   - Time complexity: O(n)\n",
        "   - Space Complexity: O(1)\n",
        "\n",
        "4. Peek:\n",
        "   - Time complexity: O(1)\n",
        "   - Space Complexity: O(1)\n",
        "\n",
        "5. isEmpty:\n",
        "   - Time complexity: O(1)\n",
        "   - Space Complexity: O(1)\n",
        "\n",
        "6. Delete:\n",
        "   - Time complexity: O(1)\n",
        "   - Space Complexity: O(1)"
      ],
      "metadata": {
        "id": "LfnSfu8kjLgy"
      }
    },
    {
      "cell_type": "markdown",
      "source": [
        "# **Create List with capacity(Circular Queue)**\n",
        "\n",
        "We don't have to shift left and performance is good\n",
        "\n",
        "steps:\n",
        "1. Create blank list with size and start and top variable with -1.\n",
        "   size= 6\n",
        "   start= -1\n",
        "   top= -1\n",
        "2. Enqueue method start variable same and top variable incremenet by one. And until top= size then stops.\n",
        "3. dequeue first element return and increase start element by one\n",
        "4. Peek method so based on start method"
      ],
      "metadata": {
        "id": "oY311mUQjo5X"
      }
    },
    {
      "cell_type": "code",
      "source": [
        "#Create List with capacity\n",
        "# Circular Queue\n",
        "class Queue:\n",
        "  def __init__(self,size):\n",
        "    self.size= size\n",
        "    self.items=size * [None]\n",
        "    self.start= -1\n",
        "    self.top= -1\n",
        "\n",
        "  def __str__(self):\n",
        "    values= [str(x) for x in self.items]\n",
        "    return '\\n'.join(values)\n",
        "\n",
        "\n",
        "\n",
        "#Time Complexity: O(1)\n",
        "#Space Complexity: O(1)\n"
      ],
      "metadata": {
        "id": "3ilqaGxei8vK"
      },
      "execution_count": 16,
      "outputs": []
    },
    {
      "cell_type": "code",
      "source": [
        "#isFull method\n",
        "\n",
        "class Queue:\n",
        "  def __init__(self,size):\n",
        "    self.size= size\n",
        "    self.items=size * [None]\n",
        "    self.start= -1\n",
        "    self.top= -1\n",
        "\n",
        "  def __str__(self):\n",
        "    values= [str(x) for x in self.items]\n",
        "    return '\\n'.join(values)\n",
        "\n",
        "  def isFull(self):\n",
        "    if self.top +1 == self.start:\n",
        "      return True\n",
        "    elif self.start == 0 and self.top+1 == self.start:\n",
        "      return True\n",
        "    else:\n",
        "      return False\n",
        "\n",
        "queue= Queue(6)\n",
        "print(queue.isFull())\n",
        "\n",
        "\n",
        "#Time Complexity: O(1)\n",
        "#Space Complexity: O(1)\n"
      ],
      "metadata": {
        "colab": {
          "base_uri": "https://localhost:8080/"
        },
        "id": "lfexqyuDqRmO",
        "outputId": "0226bb89-7e07-4459-f4a8-c76f336d2804"
      },
      "execution_count": 18,
      "outputs": [
        {
          "output_type": "stream",
          "name": "stdout",
          "text": [
            "False\n"
          ]
        }
      ]
    },
    {
      "cell_type": "code",
      "source": [
        "#isEmpty method\n",
        "\n",
        "class Queue:\n",
        "  def __init__(self,size):\n",
        "    self.size= size\n",
        "    self.items=size * [None]\n",
        "    self.start= -1\n",
        "    self.top= -1\n",
        "\n",
        "  def __str__(self):\n",
        "    values= [str(x) for x in self.items]\n",
        "    return '\\n'.join(values)\n",
        "\n",
        "  def isFull(self):\n",
        "    if self.top +1 == self.start:\n",
        "      return True\n",
        "    elif self.start == 0 and self.top+1 == self.start:\n",
        "      return True\n",
        "    else:\n",
        "      return False\n",
        "\n",
        "  def isEmpty(self):\n",
        "    if self.top == -1:\n",
        "      return True\n",
        "    else:\n",
        "      return False\n",
        "\n",
        "\n",
        "\n",
        "queue= Queue(6)\n",
        "print(queue.isEmpty())\n",
        "\n",
        "\n",
        "#Time Complexity: O(1)\n",
        "#Space Complexity: O(1)\n"
      ],
      "metadata": {
        "colab": {
          "base_uri": "https://localhost:8080/"
        },
        "id": "EqnGBjnKrKdS",
        "outputId": "8bb94653-4426-4682-c925-7e32680cb44d"
      },
      "execution_count": 19,
      "outputs": [
        {
          "output_type": "stream",
          "name": "stdout",
          "text": [
            "True\n"
          ]
        }
      ]
    },
    {
      "cell_type": "code",
      "source": [
        "#Enqueue method\n",
        "\n",
        "class Queue:\n",
        "  def __init__(self,size):\n",
        "    self.size= size\n",
        "    self.items=size * [None]\n",
        "    self.start= -1\n",
        "    self.top= -1\n",
        "\n",
        "  def __str__(self):\n",
        "    values= [str(x) for x in self.items]\n",
        "    return ' '.join(values)\n",
        "\n",
        "  def isFull(self):\n",
        "    if self.top +1 == self.start:\n",
        "      return True\n",
        "    elif self.start == 0 and self.top+1 == self.start:\n",
        "      return True\n",
        "    else:\n",
        "      return False\n",
        "\n",
        "  def isEmpty(self):\n",
        "    if self.top == -1:\n",
        "      return True\n",
        "    else:\n",
        "      return False\n",
        "\n",
        "  def enqueue(self,value):\n",
        "    if self.isFull():\n",
        "      return \"The queue is Full \"\n",
        "    else:\n",
        "      if self.top+1 == self.size:\n",
        "        self.top= 0\n",
        "      else:\n",
        "        self.top += 1\n",
        "        if self.start == -1:\n",
        "          self.start = 0\n",
        "      self.items[self.top] = value\n",
        "      return \"The element is inserted at end of queue\"\n",
        "\n",
        "\n",
        "\n",
        "queue= Queue(3)\n",
        "queue.enqueue(10)\n",
        "queue.enqueue(20)\n",
        "queue.enqueue(30)\n",
        "print(queue)\n",
        "\n",
        "#Time Complexity: O(1)\n",
        "#Space Complexity: O(1)\n"
      ],
      "metadata": {
        "colab": {
          "base_uri": "https://localhost:8080/"
        },
        "id": "FeKTGlpurjeC",
        "outputId": "93f73a7a-36c0-4704-fe13-ed748fa5c03c"
      },
      "execution_count": 25,
      "outputs": [
        {
          "output_type": "stream",
          "name": "stdout",
          "text": [
            "10 20 30\n"
          ]
        }
      ]
    },
    {
      "cell_type": "code",
      "source": [
        "#dequeue method\n",
        "\n",
        "class Queue:\n",
        "  def __init__(self,size):\n",
        "    self.size= size\n",
        "    self.items=size * [None]\n",
        "    self.start= -1\n",
        "    self.top= -1\n",
        "\n",
        "  def __str__(self):\n",
        "    values= [str(x) for x in self.items]\n",
        "    return ' '.join(values)\n",
        "\n",
        "  def isFull(self):\n",
        "    if self.top +1 == self.start:\n",
        "      return True\n",
        "    elif self.start == 0 and self.top+1 == self.start:\n",
        "      return True\n",
        "    else:\n",
        "      return False\n",
        "\n",
        "  def isEmpty(self):\n",
        "    if self.top == -1:\n",
        "      return True\n",
        "    else:\n",
        "      return False\n",
        "\n",
        "  def enqueue(self,value):\n",
        "    if self.isFull():\n",
        "      return \"The queue is Full \"\n",
        "    else:\n",
        "      if self.top+1 == self.size:\n",
        "        self.top= 0\n",
        "      else:\n",
        "        self.top += 1\n",
        "        if self.start == -1:\n",
        "          self.start = 0\n",
        "      self.items[self.top] = value\n",
        "      return \"The element is inserted at end of queue\"\n",
        "\n",
        "  def dequeue(self):\n",
        "    if self.isEmpty():\n",
        "      return \"There is no element in queue\"\n",
        "    else:\n",
        "      firstelem= self.items[self.start]\n",
        "      start = self.start\n",
        "      if self.start == self.top:\n",
        "        self.start = -1\n",
        "        self.top = -1\n",
        "      elif self.start +1 == self.size:\n",
        "        self.start =0\n",
        "      else:\n",
        "        self.start += 1\n",
        "      self.items[start] = None\n",
        "      return firstelem\n",
        "\n",
        "queue= Queue(3)\n",
        "queue.enqueue(10)\n",
        "queue.enqueue(20)\n",
        "queue.enqueue(30)\n",
        "print(queue)\n",
        "print('================')\n",
        "print(queue.dequeue())\n",
        "print('================')\n",
        "print(queue.dequeue())\n",
        "print(queue)\n",
        "\n",
        "#Time Complexity: O(1)\n",
        "#Space Complexity: O(1)\n"
      ],
      "metadata": {
        "colab": {
          "base_uri": "https://localhost:8080/"
        },
        "id": "lJBNRN5usnIw",
        "outputId": "be718c15-0b91-4bd4-a315-05187b4fd0f2"
      },
      "execution_count": 28,
      "outputs": [
        {
          "output_type": "stream",
          "name": "stdout",
          "text": [
            "10 20 30\n",
            "================\n",
            "10\n",
            "================\n",
            "20\n",
            "None None 30\n"
          ]
        }
      ]
    },
    {
      "cell_type": "code",
      "source": [
        "#peek method\n",
        "\n",
        "class Queue:\n",
        "  def __init__(self,size):\n",
        "    self.size= size\n",
        "    self.items=size * [None]\n",
        "    self.start= -1\n",
        "    self.top= -1\n",
        "\n",
        "  def __str__(self):\n",
        "    values= [str(x) for x in self.items]\n",
        "    return ' '.join(values)\n",
        "\n",
        "  def isFull(self):\n",
        "    if self.top +1 == self.start:\n",
        "      return True\n",
        "    elif self.start == 0 and self.top+1 == self.start:\n",
        "      return True\n",
        "    else:\n",
        "      return False\n",
        "\n",
        "  def isEmpty(self):\n",
        "    if self.top == -1:\n",
        "      return True\n",
        "    else:\n",
        "      return False\n",
        "\n",
        "  def enqueue(self,value):\n",
        "    if self.isFull():\n",
        "      return \"The queue is Full \"\n",
        "    else:\n",
        "      if self.top+1 == self.size:\n",
        "        self.top= 0\n",
        "      else:\n",
        "        self.top += 1\n",
        "        if self.start == -1:\n",
        "          self.start = 0\n",
        "      self.items[self.top] = value\n",
        "      return \"The element is inserted at end of queue\"\n",
        "\n",
        "  def dequeue(self):\n",
        "    if self.isEmpty():\n",
        "      return \"There is no element in queue\"\n",
        "    else:\n",
        "      firstelem= self.items[self.start]\n",
        "      start = self.start\n",
        "      if self.start == self.top:\n",
        "        self.start = -1\n",
        "        self.top = -1\n",
        "      elif self.start +1 == self.size:\n",
        "        self.start =0\n",
        "      else:\n",
        "        self.start += 1\n",
        "      self.items[start] = None\n",
        "      return firstelem\n",
        "\n",
        "  def peek(self):\n",
        "    if self.isEmpty():\n",
        "      return \"There is no element in queue\"\n",
        "    else:\n",
        "      return self.items[self.start]\n",
        "\n",
        "\n",
        "\n",
        "\n",
        "queue= Queue(3)\n",
        "queue.enqueue(10)\n",
        "queue.enqueue(20)\n",
        "queue.enqueue(30)\n",
        "print(queue)\n",
        "print('================')\n",
        "print(queue.dequeue())\n",
        "print('================')\n",
        "print(queue.peek())\n",
        "\n",
        "#Time Complexity: O(1)\n",
        "#Space Complexity: O(1)\n"
      ],
      "metadata": {
        "colab": {
          "base_uri": "https://localhost:8080/"
        },
        "id": "g_Do95aJvL6f",
        "outputId": "efc10425-0e61-4c57-e290-6e6824d268e8"
      },
      "execution_count": 30,
      "outputs": [
        {
          "output_type": "stream",
          "name": "stdout",
          "text": [
            "10 20 30\n",
            "================\n",
            "10\n",
            "================\n",
            "20\n"
          ]
        }
      ]
    },
    {
      "cell_type": "code",
      "source": [
        "#delete method\n",
        "\n",
        "class Queue:\n",
        "  def __init__(self,size):\n",
        "    self.size= size\n",
        "    self.items=size * [None]\n",
        "    self.start= -1\n",
        "    self.top= -1\n",
        "\n",
        "  def __str__(self):\n",
        "    values= [str(x) for x in self.items]\n",
        "    return ' '.join(values)\n",
        "\n",
        "  def isFull(self):\n",
        "    if self.top +1 == self.start:\n",
        "      return True\n",
        "    elif self.start == 0 and self.top+1 == self.start:\n",
        "      return True\n",
        "    else:\n",
        "      return False\n",
        "\n",
        "  def isEmpty(self):\n",
        "    if self.top == -1:\n",
        "      return True\n",
        "    else:\n",
        "      return False\n",
        "\n",
        "  def enqueue(self,value):\n",
        "    if self.isFull():\n",
        "      return \"The queue is Full \"\n",
        "    else:\n",
        "      if self.top+1 == self.size:\n",
        "        self.top= 0\n",
        "      else:\n",
        "        self.top += 1\n",
        "        if self.start == -1:\n",
        "          self.start = 0\n",
        "      self.items[self.top] = value\n",
        "      return \"The element is inserted at end of queue\"\n",
        "\n",
        "  def dequeue(self):\n",
        "    if self.isEmpty():\n",
        "      return \"There is no element in queue\"\n",
        "    else:\n",
        "      firstelem= self.items[self.start]\n",
        "      start = self.start\n",
        "      if self.start == self.top:\n",
        "        self.start = -1\n",
        "        self.top = -1\n",
        "      elif self.start +1 == self.size:\n",
        "        self.start =0\n",
        "      else:\n",
        "        self.start += 1\n",
        "      self.items[start] = None\n",
        "      return firstelem\n",
        "\n",
        "  def peek(self):\n",
        "    if self.isEmpty():\n",
        "      return \"There is no element in queue\"\n",
        "    else:\n",
        "      return self.items[self.start]\n",
        "\n",
        "  def delete(self):\n",
        "    self.items= self.size * [None]\n",
        "    self.start = -1\n",
        "    self.top= -1\n",
        "\n",
        "\n",
        "\n",
        "queue= Queue(3)\n",
        "queue.enqueue(10)\n",
        "queue.enqueue(20)\n",
        "queue.enqueue(30)\n",
        "print(queue)\n",
        "print(queue.delete())\n",
        "\n",
        "#Time Complexity: O(1)\n",
        "#Space Complexity: O(1)\n"
      ],
      "metadata": {
        "colab": {
          "base_uri": "https://localhost:8080/"
        },
        "id": "JrGsAE5MwDLC",
        "outputId": "a9030b06-e7ac-4fb3-d3b6-efd27cb8e198"
      },
      "execution_count": 32,
      "outputs": [
        {
          "output_type": "stream",
          "name": "stdout",
          "text": [
            "10 20 30\n",
            "None\n"
          ]
        }
      ]
    },
    {
      "cell_type": "markdown",
      "source": [
        "**Time and Space Complexity**\n",
        "\n",
        "1. Create:\n",
        "   - Time complexity: O(1)\n",
        "   - Space Complexity: O(1)\n",
        "\n",
        "2. Enqueue:\n",
        "   - Time complexity: O(1)\n",
        "   - Space Complexity: O(1)\n",
        "\n",
        "3. Dequeue:\n",
        "   - Time complexity: O(n)\n",
        "   - Space Complexity: O(1)\n",
        "\n",
        "4. Peek:\n",
        "   - Time complexity: O(1)\n",
        "   - Space Complexity: O(1)\n",
        "\n",
        "5. isEmpty:\n",
        "   - Time complexity: O(1)\n",
        "   - Space Complexity: O(1)\n",
        "\n",
        "6. isFull():\n",
        "   - Time complexity: O(1)\n",
        "   - Space Complexity: O(1)\n",
        "\n",
        "7. Delete:\n",
        "   - Time complexity: O(1)\n",
        "   - Space Complexity: O(1)"
      ],
      "metadata": {
        "id": "bJNNPjc-wZQL"
      }
    },
    {
      "cell_type": "markdown",
      "source": [
        "# **Create Queue using linkedlist**"
      ],
      "metadata": {
        "id": "rnL06YOcwqS4"
      }
    },
    {
      "cell_type": "code",
      "source": [
        "#Create Queue using linkedlist\n",
        "class Node:\n",
        "  def __init__(self,value):\n",
        "    self.value= value\n",
        "    self.next= 0\n",
        "\n",
        "class Linkedlist:\n",
        "  def __init__(self):\n",
        "    self.head= None\n",
        "    self.tail= None\n",
        "    self.length = 0\n",
        "\n",
        "class Queue:\n",
        "  def __init__(self):\n",
        "    linkedlist= Linkedlist()\n",
        "\n",
        "\n",
        "#Time Complexity: O(1)\n",
        "#Space Compexity: O(1)"
      ],
      "metadata": {
        "id": "OQu4r20rwUcG"
      },
      "execution_count": 36,
      "outputs": []
    },
    {
      "cell_type": "code",
      "source": [
        "#isEmpty() method using linkedlist\n",
        "class Node:\n",
        "  def __init__(self,value):\n",
        "    self.value= value\n",
        "    self.next= 0\n",
        "\n",
        "class Linkedlist:\n",
        "  def __init__(self):\n",
        "    self.head= None\n",
        "    self.tail= None\n",
        "\n",
        "class Queue:\n",
        "  def __init__(self):\n",
        "    self.linkedlist= Linkedlist()\n",
        "\n",
        "  def isEmpty(self):\n",
        "    if self.linkedlist.head  == None:\n",
        "      return True\n",
        "    else:\n",
        "      return False\n",
        "\n",
        "queue= Queue()\n",
        "print(queue.isEmpty())\n",
        "\n",
        "\n",
        "#Time Complexity: O(1)\n",
        "#Space Compexity: O(1)"
      ],
      "metadata": {
        "colab": {
          "base_uri": "https://localhost:8080/"
        },
        "id": "4ZQWTnuAyY9y",
        "outputId": "bcae49f7-c686-4ec6-8240-8f9d2df10f8f"
      },
      "execution_count": 37,
      "outputs": [
        {
          "output_type": "stream",
          "name": "stdout",
          "text": [
            "True\n"
          ]
        }
      ]
    },
    {
      "cell_type": "code",
      "source": [
        "#enqueue method using linkedlist\n",
        "class Node:\n",
        "  def __init__(self,value):\n",
        "    self.value= value\n",
        "    self.next= None\n",
        "\n",
        "class Linkedlist:\n",
        "  def __init__(self):\n",
        "    self.head= None\n",
        "    self.tail= None\n",
        "\n",
        "class Queue:\n",
        "  def __init__(self):\n",
        "    self.linkedlist= Linkedlist()\n",
        "\n",
        "  def __str__(self):\n",
        "    temp_node= self.linkedlist.head\n",
        "    res = ''\n",
        "    while temp_node:\n",
        "      res += str(temp_node.value)\n",
        "      if temp_node.next is not None:\n",
        "        res += '-->'\n",
        "      temp_node = temp_node.next\n",
        "    return res\n",
        "\n",
        "  def isEmpty(self):\n",
        "    if self.linkedlist.head  == None:\n",
        "      return True\n",
        "    else:\n",
        "      return False\n",
        "\n",
        "  def enqueue(self,value):\n",
        "    newnode= Node(value)\n",
        "    if self.linkedlist.head == None:\n",
        "      self.linkedlist.head= newnode\n",
        "      self.linkedlist.tail= newnode\n",
        "    else:\n",
        "      self.linkedlist.tail.next= newnode\n",
        "      self.linkedlist.tail= newnode\n",
        "\n",
        "\n",
        "queue= Queue()\n",
        "queue.enqueue(10)\n",
        "queue.enqueue(20)\n",
        "queue.enqueue(30)\n",
        "queue.enqueue(40)\n",
        "print(queue)\n",
        "\n",
        "#Time Complexity: O(1)\n",
        "#Space Compexity: O(1)"
      ],
      "metadata": {
        "colab": {
          "base_uri": "https://localhost:8080/"
        },
        "id": "FrlWwfnHzJ3e",
        "outputId": "1eb98bb7-f990-4590-d872-12ea8fd0723a"
      },
      "execution_count": 61,
      "outputs": [
        {
          "output_type": "stream",
          "name": "stdout",
          "text": [
            "10-->20-->30-->40\n"
          ]
        }
      ]
    },
    {
      "cell_type": "code",
      "source": [
        "#dequeue method using linkedlist\n",
        "class Node:\n",
        "  def __init__(self,value):\n",
        "    self.value= value\n",
        "    self.next= None\n",
        "\n",
        "class Linkedlist:\n",
        "  def __init__(self):\n",
        "    self.head= None\n",
        "    self.tail= None\n",
        "\n",
        "class Queue:\n",
        "  def __init__(self):\n",
        "    self.linkedlist= Linkedlist()\n",
        "\n",
        "  def __str__(self):\n",
        "    temp_node= self.linkedlist.head\n",
        "    res = ''\n",
        "    while temp_node:\n",
        "      res += str(temp_node.value)\n",
        "      if temp_node.next is not None:\n",
        "        res += '-->'\n",
        "      temp_node = temp_node.next\n",
        "    return res\n",
        "\n",
        "  def isEmpty(self):\n",
        "    if self.linkedlist.head  == None:\n",
        "      return True\n",
        "    else:\n",
        "      return False\n",
        "\n",
        "  def enqueue(self,value):\n",
        "    newnode= Node(value)\n",
        "    if self.linkedlist.head == None:\n",
        "      self.linkedlist.head= newnode\n",
        "      self.linkedlist.tail= newnode\n",
        "    else:\n",
        "      self.linkedlist.tail.next= newnode\n",
        "      self.linkedlist.tail= newnode\n",
        "\n",
        "  def dequeue(self):\n",
        "    if self.isEmpty():\n",
        "      return 'There is no element is queue'\n",
        "    else:\n",
        "      pop_node= self.linkedlist.head\n",
        "      if self.linkedlist.head == self.linkedlist.tail:\n",
        "        self.linkedlist.head= None\n",
        "        self.linkedlist.tail= None\n",
        "      else:\n",
        "        self.linkedlist.head= self.linkedlist.head.next\n",
        "        pop_node.next= None\n",
        "      return pop_node.value\n",
        "\n",
        "queue= Queue()\n",
        "queue.enqueue(10)\n",
        "queue.enqueue(20)\n",
        "queue.enqueue(30)\n",
        "queue.enqueue(40)\n",
        "print(queue)\n",
        "print('=================')\n",
        "print(queue.dequeue())\n",
        "print('=================')\n",
        "print(queue.dequeue())\n",
        "print('=================')\n",
        "print(queue)\n",
        "\n",
        "#Time Complexity: O(1)\n",
        "#Space Compexity: O(1)"
      ],
      "metadata": {
        "colab": {
          "base_uri": "https://localhost:8080/"
        },
        "id": "aN-cmpbzzyVW",
        "outputId": "bf4306fe-a2c7-4c85-ea54-1be7146a1bb6"
      },
      "execution_count": 58,
      "outputs": [
        {
          "output_type": "stream",
          "name": "stdout",
          "text": [
            "10-->20-->30-->40\n",
            "=================\n",
            "10\n",
            "=================\n",
            "20\n",
            "=================\n",
            "30-->40\n"
          ]
        }
      ]
    },
    {
      "cell_type": "code",
      "source": [
        "#peek method using linkedlist\n",
        "class Node:\n",
        "  def __init__(self,value):\n",
        "    self.value= value\n",
        "    self.next= None\n",
        "\n",
        "class Linkedlist:\n",
        "  def __init__(self):\n",
        "    self.head= None\n",
        "    self.tail= None\n",
        "\n",
        "class Queue:\n",
        "  def __init__(self):\n",
        "    self.linkedlist= Linkedlist()\n",
        "\n",
        "  def __str__(self):\n",
        "    temp_node= self.linkedlist.head\n",
        "    res = ''\n",
        "    while temp_node:\n",
        "      res += str(temp_node.value)\n",
        "      if temp_node.next is not None:\n",
        "        res += '-->'\n",
        "      temp_node = temp_node.next\n",
        "    return res\n",
        "\n",
        "  def isEmpty(self):\n",
        "    if self.linkedlist.head  == None:\n",
        "      return True\n",
        "    else:\n",
        "      return False\n",
        "\n",
        "  def enqueue(self,value):\n",
        "    newnode= Node(value)\n",
        "    if self.linkedlist.head == None:\n",
        "      self.linkedlist.head= newnode\n",
        "      self.linkedlist.tail= newnode\n",
        "    else:\n",
        "      self.linkedlist.tail.next= newnode\n",
        "      self.linkedlist.tail= newnode\n",
        "\n",
        "  def dequeue(self):\n",
        "    if self.isEmpty():\n",
        "      return 'There is no element is queue'\n",
        "    else:\n",
        "      pop_node= self.linkedlist.head\n",
        "      if self.linkedlist.head == self.linkedlist.tail:\n",
        "        self.linkedlist.head= None\n",
        "        self.linkedlist.tail= None\n",
        "      else:\n",
        "        self.linkedlist.head= self.linkedlist.head.next\n",
        "        pop_node.next= None\n",
        "      return pop_node.value\n",
        "\n",
        "  def peek(self):\n",
        "    if self.isEmpty():\n",
        "      return 'There is no element is queue'\n",
        "    else:\n",
        "      return self.linkedlist.head.value\n",
        "\n",
        "\n",
        "queue= Queue()\n",
        "queue.enqueue(10)\n",
        "queue.enqueue(20)\n",
        "queue.enqueue(30)\n",
        "queue.enqueue(40)\n",
        "print(queue)\n",
        "print('=================')\n",
        "print(queue.dequeue())\n",
        "print('=================')\n",
        "print(queue)\n",
        "print('=================')\n",
        "print(queue.peek())\n",
        "\n",
        "#Time Complexity: O(1)\n",
        "#Space Compexity: O(1)"
      ],
      "metadata": {
        "colab": {
          "base_uri": "https://localhost:8080/"
        },
        "id": "4KXHuMBt1wDE",
        "outputId": "3cb0c063-8c65-4276-897c-eb17708c1108"
      },
      "execution_count": 59,
      "outputs": [
        {
          "output_type": "stream",
          "name": "stdout",
          "text": [
            "10-->20-->30-->40\n",
            "=================\n",
            "10\n",
            "=================\n",
            "20-->30-->40\n",
            "=================\n",
            "20\n"
          ]
        }
      ]
    },
    {
      "cell_type": "code",
      "source": [
        "#delete method using linkedlist\n",
        "class Node:\n",
        "  def __init__(self,value):\n",
        "    self.value= value\n",
        "    self.next= None\n",
        "\n",
        "class Linkedlist:\n",
        "  def __init__(self):\n",
        "    self.head= None\n",
        "    self.tail= None\n",
        "\n",
        "class Queue:\n",
        "  def __init__(self):\n",
        "    self.linkedlist= Linkedlist()\n",
        "\n",
        "  def __str__(self):\n",
        "    temp_node= self.linkedlist.head\n",
        "    res = ''\n",
        "    while temp_node:\n",
        "      res += str(temp_node.value)\n",
        "      if temp_node.next is not None:\n",
        "        res += '-->'\n",
        "      temp_node = temp_node.next\n",
        "    return res\n",
        "\n",
        "  def isEmpty(self):\n",
        "    if self.linkedlist.head  == None:\n",
        "      return True\n",
        "    else:\n",
        "      return False\n",
        "\n",
        "  def enqueue(self,value):\n",
        "    newnode= Node(value)\n",
        "    if self.linkedlist.head == None:\n",
        "      self.linkedlist.head= newnode\n",
        "      self.linkedlist.tail= newnode\n",
        "    else:\n",
        "      self.linkedlist.tail.next= newnode\n",
        "      self.linkedlist.tail= newnode\n",
        "\n",
        "  def dequeue(self):\n",
        "    if self.isEmpty():\n",
        "      return 'There is no element is queue'\n",
        "    else:\n",
        "      pop_node= self.linkedlist.head\n",
        "      if self.linkedlist.head == self.linkedlist.tail:\n",
        "        self.linkedlist.head= None\n",
        "        self.linkedlist.tail= None\n",
        "      else:\n",
        "        self.linkedlist.head= self.linkedlist.head.next\n",
        "        pop_node.next= None\n",
        "      return pop_node.value\n",
        "\n",
        "  def peek(self):\n",
        "    if self.isEmpty():\n",
        "      return 'There is no element is queue'\n",
        "    else:\n",
        "      return self.linkedlist.head.value\n",
        "\n",
        "  def delete(self):\n",
        "    self.linkedlist.head= None\n",
        "    self.linkedlist.tail= None\n",
        "\n",
        "\n",
        "queue= Queue()\n",
        "queue.enqueue(10)\n",
        "queue.enqueue(20)\n",
        "queue.enqueue(30)\n",
        "queue.enqueue(40)\n",
        "print(queue)\n",
        "print(queue.delete())\n",
        "\n",
        "#Time Complexity: O(1)\n",
        "#Space Compexity: O(1)"
      ],
      "metadata": {
        "colab": {
          "base_uri": "https://localhost:8080/"
        },
        "id": "SDzIDENx2PuN",
        "outputId": "9165ef06-5f6a-4732-cd84-2733af964c62"
      },
      "execution_count": 60,
      "outputs": [
        {
          "output_type": "stream",
          "name": "stdout",
          "text": [
            "10-->20-->30-->40\n",
            "None\n"
          ]
        }
      ]
    },
    {
      "cell_type": "markdown",
      "source": [
        "**Time and Space Complexity of Queue with Linkedlist**\n",
        "\n",
        "1. Create:\n",
        "- Time Complexity: O(1)\n",
        "- Space Complexity: O(1)\n",
        "\n",
        "2. Enqueue:\n",
        "- Time Complexity: O(1)\n",
        "- Space Complexity: O(1)\n",
        "\n",
        "3. Dequeue:\n",
        "- Time Complexity: O(1)\n",
        "- Space Complexity: O(1)\n",
        "\n",
        "4. isEmpty:\n",
        "- Time Complexity: O(1)\n",
        "- Space Complexity: O(1)\n",
        "\n",
        "5. Peek:\n",
        "- Time Complexity: O(1)\n",
        "- Space Complexity: O(1)\n",
        "\n",
        "6. Delete:\n",
        "- Time Complexity: O(1)\n",
        "- Space Complexity: O(1)"
      ],
      "metadata": {
        "id": "VfNaSD6124oZ"
      }
    },
    {
      "cell_type": "markdown",
      "source": [
        "**List vs LinkedList Implementation**\n",
        "\n",
        "![image.png](data:image/png;base64,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)"
      ],
      "metadata": {
        "id": "pG4PA6mC3UKJ"
      }
    },
    {
      "cell_type": "markdown",
      "source": [
        "# **Python Queue Modules**\n",
        "\n",
        "1. Collection Module\n",
        "2. Queue Mpodule\n",
        "3. Multiprocessing module\n",
        "\n",
        "\n",
        "\n"
      ],
      "metadata": {
        "id": "jRaUZX5BDzcU"
      }
    },
    {
      "cell_type": "markdown",
      "source": [
        "**Collection Module** - It implements a double eneded queue that spports adding and removing elements other end.(Double linked lists for good performance in enqueing and dequeuing ). Here use in FIFO.\n",
        "\n",
        "**method:**\n",
        "- dequeue()- create a queue with max length\n",
        "- append()- enqueue() method equivalent\n",
        "- popleft()- deueue() methof equivalent\n",
        "- clear()- remove all element"
      ],
      "metadata": {
        "id": "j4sY9D01Ex1C"
      }
    },
    {
      "cell_type": "code",
      "source": [
        "#Collextion module\n",
        "from collections import deque\n",
        "queue= deque()\n",
        "print(f'Queue is: {queue}')\n",
        "\n",
        "#append method\n",
        "queue.append(1)\n",
        "queue.append(2)\n",
        "queue.append(3)\n",
        "print(f'Append method: {queue}')\n",
        "\n",
        "#append left method\n",
        "queue.appendleft(4)\n",
        "queue.appendleft(5)\n",
        "print(f'Append left method: {queue}')\n",
        "\n",
        "\n",
        "#Popleft() method\n",
        "print(f'popleft method: {queue.popleft()}')\n",
        "\n",
        "#pop() method\n",
        "print(f'pop method: {queue.pop()}')\n",
        "\n",
        "#clear method\n",
        "print(f'pop method: {queue.clear()}')"
      ],
      "metadata": {
        "colab": {
          "base_uri": "https://localhost:8080/"
        },
        "id": "wnZY5Jcg23gI",
        "outputId": "2026239d-1934-4a52-b6d8-97834391d048"
      },
      "execution_count": 69,
      "outputs": [
        {
          "output_type": "stream",
          "name": "stdout",
          "text": [
            "Queue is: deque([])\n",
            "Append method: deque([1, 2, 3])\n",
            "Append left method: deque([5, 4, 1, 2, 3])\n",
            "popleft method: 5\n",
            "pop method: 3\n",
            "pop method: None\n"
          ]
        }
      ]
    },
    {
      "cell_type": "markdown",
      "source": [
        "**Queue Module** - It implements multiproducer and multiconsumer queues. ANd used in threated programing\n",
        "\n",
        "1. FIFO queue = Queue(maxsize=0)\n",
        "   - qsize()\n",
        "   - empty()\n",
        "   - full()\n",
        "   - put()\n",
        "   - get()\n",
        "   - task_done()\n",
        "   - join()\n",
        "\n",
        "2. LIFO queue- Stack\n",
        "   \n",
        "\n",
        "\n",
        "3. Priority Queue\n",
        "\n",
        "\n"
      ],
      "metadata": {
        "id": "-NG3ZGWrFyoL"
      }
    },
    {
      "cell_type": "code",
      "source": [
        "#Queue module\n",
        "import queue as q\n",
        "queue= q.Queue(maxsize=3)\n",
        "\n",
        "queue.put(1)\n",
        "queue.put(2)\n",
        "queue.put(3)\n",
        "print(f'full method: {queue.full()}')\n",
        "print(f'empty method: {queue.empty()}')\n",
        "\n",
        "print(f'get method deque element: {queue.get()}')\n",
        "print(f'Size of queue: {queue.qsize()}')"
      ],
      "metadata": {
        "colab": {
          "base_uri": "https://localhost:8080/"
        },
        "id": "owscQprsE6K2",
        "outputId": "69d939cd-4d22-4b5f-d321-f2c917c510de"
      },
      "execution_count": 81,
      "outputs": [
        {
          "output_type": "stream",
          "name": "stdout",
          "text": [
            "full method: True\n",
            "empty method: False\n",
            "get method deque element: 1\n",
            "Size of queue: 2\n"
          ]
        }
      ]
    },
    {
      "cell_type": "markdown",
      "source": [
        "**MultiProcessing Module** - It is meant for sharing data between process and can store any pickable objects\n"
      ],
      "metadata": {
        "id": "R_1fflWcHtHZ"
      }
    },
    {
      "cell_type": "code",
      "source": [
        "#multiprocessing module\n",
        "from multiprocessing import Queue\n",
        "\n",
        "queue= Queue(maxsize=3)\n",
        "\n",
        "\n",
        "queue.put(1)\n",
        "queue.put(2)\n",
        "queue.put(3)\n",
        "\n",
        "print(f'full method: {queue.full()}')\n",
        "print(f'empty method: {queue.empty()}')\n",
        "\n",
        "print(f'get method deque element: {queue.get()}')\n",
        "print(f'Size of queue: {queue.qsize()}')"
      ],
      "metadata": {
        "colab": {
          "base_uri": "https://localhost:8080/"
        },
        "id": "ciOsw6UBHNi7",
        "outputId": "f1b5e537-3d0c-441f-ccce-24a5d4099a6c"
      },
      "execution_count": 80,
      "outputs": [
        {
          "output_type": "stream",
          "name": "stdout",
          "text": [
            "full method: True\n",
            "empty method: False\n",
            "get method deque element: 1\n",
            "Size of queue: 2\n"
          ]
        }
      ]
    },
    {
      "cell_type": "code",
      "source": [],
      "metadata": {
        "id": "w8oyYjzjIQRG"
      },
      "execution_count": null,
      "outputs": []
    }
  ]
}