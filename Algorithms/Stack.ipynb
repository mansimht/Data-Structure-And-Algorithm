{
  "nbformat": 4,
  "nbformat_minor": 0,
  "metadata": {
    "colab": {
      "provenance": []
    },
    "kernelspec": {
      "name": "python3",
      "display_name": "Python 3"
    },
    "language_info": {
      "name": "python"
    }
  },
  "cells": [
    {
      "cell_type": "markdown",
      "source": [
        "**Stack**\n",
        "\n",
        "Stack is a data structure that stores items in a Last-In/First Out manner.(LIFO method)\n",
        "\n",
        "Ex. 1. Pile of dinner plates- LIFO method\n",
        "    2. Bangles in the hand\n",
        "\n",
        "**Example in Compute Science:**\n",
        "In a bucket first insert number 10, then 20, then 30 and then 40.\n",
        "If remove first it will remove 40, then 30,then 20 and last remove 10\n",
        "\n",
        "\n",
        "**Why we need stack data structure?**\n",
        "- Whenever need functinality to get last coming data first.\n",
        "\n",
        "**Ex.** Browser back button- First we visit udemy.com, then email viaa gmail.com and then linkedin.com.\n",
        "If click bck button linkedin.com then go back via back button then go gmail.com and then udemy.com So linkedin.com first poped out.\n",
        "\n"
      ],
      "metadata": {
        "id": "U30eEAnebeZj"
      }
    },
    {
      "cell_type": "markdown",
      "source": [
        "**Stack Operations**\n",
        "1. Create stack\n",
        "2. Push method= append the data\n",
        "3. Pop Method= last enter element(top) remove\n",
        "4. Peek method= top element return\n",
        "5. isEmpty() method= check element in the stack\n",
        "6. isFull() method= check stack is full\n",
        "7. detele() method= detele the entire stack\n",
        "\n",
        "\n",
        "**Create stack using list**\n",
        "- easy to implement\n",
        "- speed problem when it grows\n",
        "\n",
        "**Stack using Linkedlist:**\n",
        "- Fast Performance\n",
        "- Implementation not easy\n",
        "\n",
        "\n"
      ],
      "metadata": {
        "id": "ggNvm-aYwsA1"
      }
    },
    {
      "cell_type": "markdown",
      "source": [
        "# **Create stack and stack operation using list**"
      ],
      "metadata": {
        "id": "TmHzJCk6wIzy"
      }
    },
    {
      "cell_type": "code",
      "source": [
        "#create stack using list without size limit\n",
        "class Stack:\n",
        "  def __init__(self):\n",
        "    self.list= []\n",
        "\n",
        "#Time complexity= O(1)\n",
        "#Space complexity= O(1)\n"
      ],
      "metadata": {
        "id": "0BaWAkgkxFWx"
      },
      "execution_count": 8,
      "outputs": []
    },
    {
      "cell_type": "code",
      "source": [
        "#String representation of stack\n",
        "class Stack:\n",
        "  def __init__(self):\n",
        "    self.list= []\n",
        "\n",
        "  def __str__(self):\n",
        "    values= [str(x) for x in reversed(self.list)]\n",
        "    return '\\n'.join(values)\n",
        "\n",
        "stack= Stack()\n",
        "print(stack)\n",
        "\n",
        "#Time complexity= O(1)\n",
        "#Space complexity= O(1)"
      ],
      "metadata": {
        "colab": {
          "base_uri": "https://localhost:8080/"
        },
        "id": "h7WTjB7lABWR",
        "outputId": "1ae1d17d-1dfc-4267-8d11-ace3b3df6e53"
      },
      "execution_count": 11,
      "outputs": [
        {
          "output_type": "stream",
          "name": "stdout",
          "text": [
            "\n"
          ]
        }
      ]
    },
    {
      "cell_type": "code",
      "source": [
        "#isEmpty method\n",
        "class Stack:\n",
        "  def __init__(self):\n",
        "    self.list= []\n",
        "\n",
        "  def __str__(self):\n",
        "    values= [str(x) for x in reversed(self.list)]\n",
        "    return '\\n'.join(values)\n",
        "\n",
        "  def isEmpty(self):\n",
        "    if self.list == []:\n",
        "      return True\n",
        "    else:\n",
        "      return False\n",
        "\n",
        "\n",
        "stack= Stack()\n",
        "print(stack.isEmpty())\n",
        "\n",
        "\n",
        "#Time complexity= O(1)\n",
        "#Space complexity= O(1)"
      ],
      "metadata": {
        "colab": {
          "base_uri": "https://localhost:8080/"
        },
        "id": "CvNHubjsAy3G",
        "outputId": "4411c524-e032-418c-8a1e-14f901a10507"
      },
      "execution_count": 12,
      "outputs": [
        {
          "output_type": "stream",
          "name": "stdout",
          "text": [
            "True\n"
          ]
        }
      ]
    },
    {
      "cell_type": "code",
      "source": [
        "#push method\n",
        "class Stack:\n",
        "  def __init__(self):\n",
        "    self.list= []\n",
        "\n",
        "  def __str__(self):\n",
        "    values= [str(x) for x in reversed(self.list)]\n",
        "    return '\\n'.join(values)\n",
        "\n",
        "  def isEmpty(self):\n",
        "    if self.list == []:\n",
        "      return True\n",
        "    else:\n",
        "      return False\n",
        "\n",
        "  def push(self,value):\n",
        "    return self.list.append(value)\n",
        "\n",
        "\n",
        "stack= Stack()\n",
        "stack.push(1)\n",
        "stack.push(2)\n",
        "stack.push(3)\n",
        "stack.push(4)\n",
        "print(stack)\n",
        "print(stack.isEmpty())\n",
        "\n",
        "#Time complexity= O(n)\n",
        "#Space complexity= O(1)"
      ],
      "metadata": {
        "colab": {
          "base_uri": "https://localhost:8080/"
        },
        "id": "ty0V6RHdBOKJ",
        "outputId": "fe8455ab-2450-410c-aaac-cb401397ef93"
      },
      "execution_count": 13,
      "outputs": [
        {
          "output_type": "stream",
          "name": "stdout",
          "text": [
            "4\n",
            "3\n",
            "2\n",
            "1\n",
            "False\n"
          ]
        }
      ]
    },
    {
      "cell_type": "code",
      "source": [
        "#pop method\n",
        "class Stack:\n",
        "  def __init__(self):\n",
        "    self.list= []\n",
        "\n",
        "  def __str__(self):\n",
        "    values= [str(x) for x in reversed(self.list)]\n",
        "    return '\\n'.join(values)\n",
        "\n",
        "  def isEmpty(self):\n",
        "    if self.list == []:\n",
        "      return True\n",
        "    else:\n",
        "      return False\n",
        "\n",
        "  def push(self,value):\n",
        "    return self.list.append(value)\n",
        "\n",
        "  def pop(self):\n",
        "    return self.list.pop()\n",
        "\n",
        "\n",
        "stack= Stack()\n",
        "stack.push(1)\n",
        "stack.push(2)\n",
        "stack.push(3)\n",
        "stack.push(4)\n",
        "print(stack)\n",
        "print('=======================')\n",
        "print(stack.pop())\n",
        "print('=======================')\n",
        "print(stack.pop())\n",
        "\n",
        "\n",
        "#Time complexity= O(1)\n",
        "#Space complexity= O(1)"
      ],
      "metadata": {
        "colab": {
          "base_uri": "https://localhost:8080/"
        },
        "id": "T77fb1VtBrby",
        "outputId": "b66c1e7b-f7ce-46f4-ed81-160829fd5706"
      },
      "execution_count": 19,
      "outputs": [
        {
          "output_type": "stream",
          "name": "stdout",
          "text": [
            "4\n",
            "3\n",
            "2\n",
            "1\n",
            "=======================\n",
            "4\n",
            "=======================\n",
            "3\n"
          ]
        }
      ]
    },
    {
      "cell_type": "code",
      "source": [
        "#peek method\n",
        "class Stack:\n",
        "  def __init__(self):\n",
        "    self.list= []\n",
        "\n",
        "  def __str__(self):\n",
        "    values= [str(x) for x in reversed(self.list)]\n",
        "    return '\\n'.join(values)\n",
        "\n",
        "  def isEmpty(self):\n",
        "    if self.list == []:\n",
        "      return True\n",
        "    else:\n",
        "      return False\n",
        "\n",
        "  def push(self,value):\n",
        "    return self.list.append(value)\n",
        "\n",
        "  def pop(self):\n",
        "    return self.list.pop()\n",
        "\n",
        "  def peek(self):\n",
        "    return self.list[len(self.list)-1]\n",
        "\n",
        "\n",
        "stack= Stack()\n",
        "stack.push(1)\n",
        "stack.push(2)\n",
        "stack.push(3)\n",
        "stack.push(4)\n",
        "print(stack)\n",
        "print('=======================')\n",
        "print(stack.peek())\n",
        "\n",
        "\n",
        "#Time complexity= O(1)\n",
        "#Space complexity= O(1)"
      ],
      "metadata": {
        "colab": {
          "base_uri": "https://localhost:8080/"
        },
        "id": "Uj3sUzMTB5Ez",
        "outputId": "33c69ecd-98dc-4931-cd0d-51d0dcbd95a8"
      },
      "execution_count": 23,
      "outputs": [
        {
          "output_type": "stream",
          "name": "stdout",
          "text": [
            "4\n",
            "3\n",
            "2\n",
            "1\n",
            "=======================\n",
            "4\n"
          ]
        }
      ]
    },
    {
      "cell_type": "code",
      "source": [
        "#delete method\n",
        "class Stack:\n",
        "  def __init__(self):\n",
        "    self.list= []\n",
        "\n",
        "  def __str__(self):\n",
        "    values= [str(x) for x in reversed(self.list)]\n",
        "    return '\\n'.join(values)\n",
        "\n",
        "  def isEmpty(self):\n",
        "    if self.list == []:\n",
        "      return True\n",
        "    else:\n",
        "      return False\n",
        "\n",
        "  def push(self,value):\n",
        "    return self.list.append(value)\n",
        "\n",
        "  def pop(self):\n",
        "    return self.list.pop()\n",
        "\n",
        "  def peek(self):\n",
        "    return self.list[len(self.list)-1]\n",
        "\n",
        "  def delete(self):\n",
        "    self.list= None\n",
        "\n",
        "\n",
        "stack= Stack()\n",
        "stack.push(1)\n",
        "stack.push(2)\n",
        "stack.push(3)\n",
        "stack.push(4)\n",
        "print(stack)\n",
        "print('=======================')\n",
        "print(stack.delete())\n",
        "\n",
        "\n",
        "#Time complexity= O(1)\n",
        "#Space complexity= O(1)"
      ],
      "metadata": {
        "colab": {
          "base_uri": "https://localhost:8080/"
        },
        "id": "PKz2YE3FCVF_",
        "outputId": "80836da6-4a8e-4d22-9294-8a828d2d6e01"
      },
      "execution_count": 24,
      "outputs": [
        {
          "output_type": "stream",
          "name": "stdout",
          "text": [
            "4\n",
            "3\n",
            "2\n",
            "1\n",
            "=======================\n",
            "None\n"
          ]
        }
      ]
    },
    {
      "cell_type": "code",
      "source": [
        "#Create stack with limit\n",
        "class Stack:\n",
        "   def __init__(self,maxSize):\n",
        "    self.maxSize= maxSize\n",
        "    self.list=[]\n",
        "\n",
        "   def __str__(self):\n",
        "    values= [str(x) for x in reversed(self.list)]\n",
        "    return '\\n'.join(values)\n",
        "\n",
        "#Time complexity= O(1)\n",
        "#Space complexity= O(1)"
      ],
      "metadata": {
        "id": "gTw0aRvyCwNx"
      },
      "execution_count": 25,
      "outputs": []
    },
    {
      "cell_type": "code",
      "source": [
        "#isEmpty method\n",
        "class Stack:\n",
        "   def __init__(self,maxSize):\n",
        "    self.maxSize= maxSize\n",
        "    self.list=[]\n",
        "\n",
        "   def __str__(self):\n",
        "    values= [str(x) for x in reversed(self.list)]\n",
        "    return '\\n'.join(values)\n",
        "\n",
        "   def isEmpty(self):\n",
        "    if self.list == []:\n",
        "      return True\n",
        "    else:\n",
        "      return False\n",
        "\n",
        "stack= Stack(5)\n",
        "print(stack.isEmpty())\n",
        "\n",
        "\n",
        "\n",
        "#Time complexity= O(1)\n",
        "#Space complexity= O(1)"
      ],
      "metadata": {
        "colab": {
          "base_uri": "https://localhost:8080/"
        },
        "id": "D73Nt2-sEf3G",
        "outputId": "ba97c256-2b44-4388-9017-d4d64f2a59c6"
      },
      "execution_count": 28,
      "outputs": [
        {
          "output_type": "stream",
          "name": "stdout",
          "text": [
            "True\n"
          ]
        }
      ]
    },
    {
      "cell_type": "code",
      "source": [
        "\n",
        "#Full method\n",
        "class Stack:\n",
        "   def __init__(self,maxSize):\n",
        "    self.maxSize= maxSize\n",
        "    self.list=[]\n",
        "\n",
        "   def __str__(self):\n",
        "    values= [str(x) for x in reversed(self.list)]\n",
        "    return '\\n'.join(values)\n",
        "\n",
        "   def isEmpty(self):\n",
        "    if self.list == []:\n",
        "      return True\n",
        "    else:\n",
        "      return False\n",
        "\n",
        "   def isFull(self):\n",
        "    if len(self.list) == self.maxSize:\n",
        "      return True\n",
        "    else:\n",
        "      return False\n",
        "\n",
        "\n",
        "\n",
        "stack= Stack(5)\n",
        "print(stack.isFull())\n",
        "\n",
        "\n",
        "#Time complexity= O(1)\n",
        "#Space complexity= O(1)"
      ],
      "metadata": {
        "colab": {
          "base_uri": "https://localhost:8080/"
        },
        "id": "39RVIdVPE2bD",
        "outputId": "fc350be7-20a9-4f03-9c36-0c022d9ccbed"
      },
      "execution_count": 30,
      "outputs": [
        {
          "output_type": "stream",
          "name": "stdout",
          "text": [
            "False\n"
          ]
        }
      ]
    },
    {
      "cell_type": "code",
      "source": [
        "\n",
        "#Full method\n",
        "class Stack:\n",
        "   def __init__(self,maxSize):\n",
        "    self.maxSize= maxSize\n",
        "    self.list=[]\n",
        "\n",
        "   def __str__(self):\n",
        "    values= [str(x) for x in reversed(self.list)]\n",
        "    return '\\n'.join(values)\n",
        "\n",
        "   def isEmpty(self):\n",
        "    if self.list == []:\n",
        "      return True\n",
        "    else:\n",
        "      return False\n",
        "\n",
        "   def isFull(self):\n",
        "    if len(self.list) == self.maxSize:\n",
        "      return True\n",
        "    else:\n",
        "      return False\n",
        "\n",
        "   def push(self,value):\n",
        "    if self.isFull():\n",
        "      return 'The stack is Full'\n",
        "    else:\n",
        "      return self.list.append(value)\n",
        "\n",
        "stack= Stack(5)\n",
        "stack.push(1)\n",
        "stack.push(2)\n",
        "stack.push(3)\n",
        "stack.push(4)\n",
        "print(stack)\n",
        "\n",
        "\n",
        "#Time complexity= O(n)\n",
        "#Space complexity= O(1)"
      ],
      "metadata": {
        "colab": {
          "base_uri": "https://localhost:8080/"
        },
        "id": "AiD-6s6FFOLB",
        "outputId": "47c17bab-178c-4d71-a1e2-80aa4a16282f"
      },
      "execution_count": 32,
      "outputs": [
        {
          "output_type": "stream",
          "name": "stdout",
          "text": [
            "4\n",
            "3\n",
            "2\n",
            "1\n"
          ]
        }
      ]
    },
    {
      "cell_type": "code",
      "source": [
        "#pop method\n",
        "class Stack:\n",
        "   def __init__(self,maxSize):\n",
        "    self.maxSize= maxSize\n",
        "    self.list=[]\n",
        "\n",
        "   def __str__(self):\n",
        "    values= [str(x) for x in reversed(self.list)]\n",
        "    return '\\n'.join(values)\n",
        "\n",
        "   def isEmpty(self):\n",
        "    if self.list == []:\n",
        "      return True\n",
        "    else:\n",
        "      return False\n",
        "\n",
        "   def isFull(self):\n",
        "    if len(self.list) == self.maxSize:\n",
        "      return True\n",
        "    else:\n",
        "      return False\n",
        "\n",
        "   def push(self,value):\n",
        "    if self.isFull():\n",
        "      return 'The stack is Full'\n",
        "    else:\n",
        "      return self.list.append(value)\n",
        "\n",
        "   def pop(self):\n",
        "    if self.isEmpty():\n",
        "      return 'There is no element in stack'\n",
        "    else:\n",
        "      return self.list.pop()\n",
        "\n",
        "stack= Stack(5)\n",
        "stack.push(1)\n",
        "stack.push(2)\n",
        "stack.push(3)\n",
        "stack.push(4)\n",
        "print(stack)\n",
        "print('=============')\n",
        "print(stack.pop())\n",
        "print('=============')\n",
        "print(stack.pop())\n",
        "\n",
        "\n",
        "#Time complexity= O(1)\n",
        "#Space complexity= O(1)"
      ],
      "metadata": {
        "colab": {
          "base_uri": "https://localhost:8080/"
        },
        "id": "JTxzwbxNFoC2",
        "outputId": "fd513693-aede-47b0-bb8c-b90891c39c2e"
      },
      "execution_count": 35,
      "outputs": [
        {
          "output_type": "stream",
          "name": "stdout",
          "text": [
            "4\n",
            "3\n",
            "2\n",
            "1\n",
            "=============\n",
            "4\n",
            "3\n",
            "2\n",
            "1\n",
            "=============\n",
            "3\n",
            "2\n",
            "1\n"
          ]
        }
      ]
    },
    {
      "cell_type": "code",
      "source": [
        "#peek method\n",
        "class Stack:\n",
        "   def __init__(self,maxSize):\n",
        "    self.maxSize= maxSize\n",
        "    self.list=[]\n",
        "\n",
        "   def __str__(self):\n",
        "    values= [str(x) for x in reversed(self.list)]\n",
        "    return '\\n'.join(values)\n",
        "\n",
        "   def isEmpty(self):\n",
        "    if self.list == []:\n",
        "      return True\n",
        "    else:\n",
        "      return False\n",
        "\n",
        "   def isFull(self):\n",
        "    if len(self.list) == self.maxSize:\n",
        "      return True\n",
        "    else:\n",
        "      return False\n",
        "\n",
        "   def push(self,value):\n",
        "    if self.isFull():\n",
        "      return 'The stack is Full'\n",
        "    else:\n",
        "      return self.list.append(value)\n",
        "\n",
        "   def pop(self):\n",
        "    if self.isEmpty():\n",
        "      return 'There is no element in stack'\n",
        "    else:\n",
        "      return self.list.pop()\n",
        "\n",
        "   def peek(self):\n",
        "    if self.isEmpty():\n",
        "      return 'There is no element in stack'\n",
        "    else:\n",
        "      return self.list[len(self.list)-1]\n",
        "\n",
        "stack= Stack(5)\n",
        "stack.push(1)\n",
        "stack.push(2)\n",
        "stack.push(3)\n",
        "stack.push(4)\n",
        "print(stack.peek())\n",
        "\n",
        "\n",
        "#Time complexity= O(1)\n",
        "#Space complexity= O(1)"
      ],
      "metadata": {
        "colab": {
          "base_uri": "https://localhost:8080/"
        },
        "id": "5Cu2MxivGjiW",
        "outputId": "6395858f-4603-46f5-b6af-00d57fe9bf87"
      },
      "execution_count": 40,
      "outputs": [
        {
          "output_type": "stream",
          "name": "stdout",
          "text": [
            "4\n"
          ]
        }
      ]
    },
    {
      "cell_type": "code",
      "source": [
        "#delete method\n",
        "class Stack:\n",
        "   def __init__(self,maxSize):\n",
        "    self.maxSize= maxSize\n",
        "    self.list=[]\n",
        "\n",
        "   def __str__(self):\n",
        "    values= [str(x) for x in reversed(self.list)]\n",
        "    return '\\n'.join(values)\n",
        "\n",
        "   def isEmpty(self):\n",
        "    if self.list == []:\n",
        "      return True\n",
        "    else:\n",
        "      return False\n",
        "\n",
        "   def isFull(self):\n",
        "    if len(self.list) == self.maxSize:\n",
        "      return True\n",
        "    else:\n",
        "      return False\n",
        "\n",
        "   def push(self,value):\n",
        "    if self.isFull():\n",
        "      return 'The stack is Full'\n",
        "    else:\n",
        "      return self.list.append(value)\n",
        "\n",
        "   def pop(self):\n",
        "    if self.isEmpty():\n",
        "      return 'There is no element in stack'\n",
        "    else:\n",
        "      return self.list.pop()\n",
        "\n",
        "   def delete(self):\n",
        "    self.list= None\n",
        "\n",
        "stack= Stack(5)\n",
        "stack.push(1)\n",
        "stack.push(2)\n",
        "stack.push(3)\n",
        "stack.push(4)\n",
        "print(stack.delete())\n",
        "\n",
        "\n",
        "#Time complexity= O(1)\n",
        "#Space complexity= O(1)"
      ],
      "metadata": {
        "colab": {
          "base_uri": "https://localhost:8080/"
        },
        "id": "YxhcO_pgGDh1",
        "outputId": "c662d18c-a3ac-4c8d-d9be-2cf5e46723b1"
      },
      "execution_count": 41,
      "outputs": [
        {
          "output_type": "stream",
          "name": "stdout",
          "text": [
            "None\n"
          ]
        }
      ]
    },
    {
      "cell_type": "markdown",
      "source": [
        "**Time and Space Complexity for Stack using list**\n",
        "\n",
        "1. Create Stack:\n",
        "  - Time Compelxity: O(1)\n",
        "  - Space COmplexity: O(1)\n",
        "\n",
        "2. Push:\n",
        "  - Time Compelxity: O(1)/O(n)\n",
        "  - Space COmplexity: O(1)\n",
        "\n",
        "3. Pop:\n",
        "  - Time Compelxity: O(1)\n",
        "  - Space COmplexity: O(1)\n",
        "\n",
        "4. Peek:\n",
        "  - Time Compelxity: O(1)\n",
        "  - Space COmplexity: O(1)\n",
        "\n",
        "5. isEmpty:\n",
        "  - Time Compelxity: O(1)\n",
        "  - Space COmplexity: O(1)\n",
        "\n",
        "6. Delete:\n",
        "  - Time Compelxity: O(1)\n",
        "  - Space COmplexity: O(1)"
      ],
      "metadata": {
        "id": "I214wkmdGzW_"
      }
    },
    {
      "cell_type": "markdown",
      "source": [
        "# **Create stack and stack operation using linkedlist**"
      ],
      "metadata": {
        "id": "IvzCYaBpwCKJ"
      }
    },
    {
      "cell_type": "code",
      "source": [
        "#Create stack using linkedlist\n",
        "class Node:\n",
        "  def __init__(self,value):\n",
        "    self.value= value\n",
        "    self.next= 0\n",
        "\n",
        "class LinkedList:\n",
        "  def __init__(self):\n",
        "    self.head= None\n",
        "\n",
        "class Stack:\n",
        "  def __init__(self):\n",
        "    self.linkedlist= LinkedList\n",
        "\n",
        "#Time Complexity: O(1)\n",
        "#Space Complexity: O(1)\n"
      ],
      "metadata": {
        "id": "ppSRxYBTGdC2"
      },
      "execution_count": 45,
      "outputs": []
    },
    {
      "cell_type": "code",
      "source": [
        "# isEmpty method using linkedlist\n",
        "class Node:\n",
        "  def __init__(self,value):\n",
        "    self.value= value\n",
        "    self.next= 0\n",
        "\n",
        "class LinkedList:\n",
        "  def __init__(self):\n",
        "    self.head= None\n",
        "\n",
        "class Stack:\n",
        "  def __init__(self):\n",
        "    self.linkedlist= LinkedList()\n",
        "\n",
        "  def isEmpty(self):\n",
        "    if self.linkedlist.head == None:\n",
        "      return True\n",
        "    else:\n",
        "      return False\n",
        "\n",
        "stack= Stack()\n",
        "print(stack.isEmpty())\n",
        "\n",
        "\n",
        "#Time Complexity: O(1)\n",
        "#Space Complexity: O(1)\n"
      ],
      "metadata": {
        "colab": {
          "base_uri": "https://localhost:8080/"
        },
        "id": "5zzVilevHvWo",
        "outputId": "23bbebe2-54dd-4f15-96a8-ca92f6209d4a"
      },
      "execution_count": 47,
      "outputs": [
        {
          "output_type": "stream",
          "name": "stdout",
          "text": [
            "True\n"
          ]
        }
      ]
    },
    {
      "cell_type": "code",
      "source": [
        "#Push method\n",
        "class Node:\n",
        "  def __init__(self,value):\n",
        "    self.value= value\n",
        "    self.next= 0\n",
        "\n",
        "class LinkedList:\n",
        "  def __init__(self):\n",
        "    self.head= None\n",
        "\n",
        "class Stack:\n",
        "  def __init__(self):\n",
        "    self.linkedlist= LinkedList()\n",
        "\n",
        "  def __str__(self):\n",
        "    temp_node= self.linkedlist.head\n",
        "    res = ''\n",
        "    while temp_node:\n",
        "      res += str(temp_node.value)\n",
        "      if temp_node.next is not None:\n",
        "        res += '-->'\n",
        "      temp_node = temp_node.next\n",
        "    return res\n",
        "\n",
        "\n",
        "  def isEmpty(self):\n",
        "    if self.linkedlist.head == None:\n",
        "      return True\n",
        "    else:\n",
        "      return False\n",
        "\n",
        "  def push(self,value):\n",
        "    newnode= Node(value)\n",
        "    newnode.next= self.linkedlist.head\n",
        "    self.linkedlist.head= newnode\n",
        "\n",
        "\n",
        "stack= Stack()\n",
        "stack.push(1)\n",
        "stack.push(2)\n",
        "stack.push(3)\n",
        "stack.push(4)\n",
        "print(stack)\n",
        "\n",
        "#Time Complexity: O(1)\n",
        "#Space Complexity: O(1)\n"
      ],
      "metadata": {
        "colab": {
          "base_uri": "https://localhost:8080/"
        },
        "id": "WP-zvobaJPbG",
        "outputId": "a6b9d0d8-4ba6-4cc1-d51e-bcd4da30d7bc"
      },
      "execution_count": 2,
      "outputs": [
        {
          "output_type": "stream",
          "name": "stdout",
          "text": [
            "4-->3-->2-->1\n"
          ]
        }
      ]
    },
    {
      "cell_type": "code",
      "source": [
        "#Push method\n",
        "class Node:\n",
        "  def __init__(self,value):\n",
        "    self.value= value\n",
        "    self.next= 0\n",
        "\n",
        "class LinkedList:\n",
        "  def __init__(self):\n",
        "    self.head= None\n",
        "\n",
        "class Stack:\n",
        "  def __init__(self):\n",
        "    self.linkedlist= LinkedList()\n",
        "\n",
        "  def __str__(self):\n",
        "    temp_node= self.linkedlist.head\n",
        "    res = ''\n",
        "    while temp_node:\n",
        "      res += str(temp_node.value)\n",
        "      if temp_node.next is not None:\n",
        "        res += '-->'\n",
        "      temp_node = temp_node.next\n",
        "    return res\n",
        "\n",
        "\n",
        "  def isEmpty(self):\n",
        "    if self.linkedlist.head == None:\n",
        "      return True\n",
        "    else:\n",
        "      return False\n",
        "\n",
        "  def push(self,value):\n",
        "    newnode= Node(value)\n",
        "    newnode.next= self.linkedlist.head\n",
        "    self.linkedlist.head= newnode\n",
        "\n",
        "  def pop(self):\n",
        "    if self.isEmpty():\n",
        "      return 'There is no elemenr in stack'\n",
        "    else:\n",
        "      pop_node= self.linkedlist.head.value\n",
        "      self.linkedlist.head= self.linkedlist.head.next\n",
        "      return pop_node\n",
        "\n",
        "\n",
        "\n",
        "stack= Stack()\n",
        "stack.push(1)\n",
        "stack.push(2)\n",
        "stack.push(3)\n",
        "stack.push(4)\n",
        "print(stack)\n",
        "print('=============')\n",
        "stack.pop()\n",
        "\n",
        "\n",
        "#Time Complexity: O(1)\n",
        "#Space Complexity: O(1)\n"
      ],
      "metadata": {
        "colab": {
          "base_uri": "https://localhost:8080/"
        },
        "id": "sJSDTlBMt8vG",
        "outputId": "fa93922d-a8be-44c3-be4a-044751fe0ec3"
      },
      "execution_count": 13,
      "outputs": [
        {
          "output_type": "stream",
          "name": "stdout",
          "text": [
            "4-->3-->2-->1\n",
            "=============\n"
          ]
        },
        {
          "output_type": "execute_result",
          "data": {
            "text/plain": [
              "4"
            ]
          },
          "metadata": {},
          "execution_count": 13
        }
      ]
    },
    {
      "cell_type": "code",
      "source": [
        "#Peek method\n",
        "class Node:\n",
        "  def __init__(self,value):\n",
        "    self.value= value\n",
        "    self.next= 0\n",
        "\n",
        "class LinkedList:\n",
        "  def __init__(self):\n",
        "    self.head= None\n",
        "\n",
        "class Stack:\n",
        "  def __init__(self):\n",
        "    self.linkedlist= LinkedList()\n",
        "\n",
        "  def __str__(self):\n",
        "    temp_node= self.linkedlist.head\n",
        "    res = ''\n",
        "    while temp_node:\n",
        "      res += str(temp_node.value)\n",
        "      if temp_node.next is not None:\n",
        "        res += '-->'\n",
        "      temp_node = temp_node.next\n",
        "    return res\n",
        "\n",
        "\n",
        "  def isEmpty(self):\n",
        "    if self.linkedlist.head == None:\n",
        "      return True\n",
        "    else:\n",
        "      return False\n",
        "\n",
        "  def push(self,value):\n",
        "    newnode= Node(value)\n",
        "    newnode.next= self.linkedlist.head\n",
        "    self.linkedlist.head= newnode\n",
        "\n",
        "  def pop(self):\n",
        "    if self.isEmpty():\n",
        "      return 'There is no elemenr in stack'\n",
        "    else:\n",
        "      pop_node= self.linkedlist.head.value\n",
        "      self.linkedlist.head= self.linkedlist.head.next\n",
        "      return pop_node\n",
        "\n",
        "  def peek(self):\n",
        "    if self.isEmpty():\n",
        "      return 'There is no elemenr in stack'\n",
        "    else:\n",
        "      return self.linkedlist.head.value\n",
        "\n",
        "\n",
        "\n",
        "stack= Stack()\n",
        "stack.push(1)\n",
        "stack.push(2)\n",
        "stack.push(3)\n",
        "print(stack)\n",
        "print('=============')\n",
        "stack.peek()\n",
        "\n",
        "\n",
        "#Time Complexity: O(1)\n",
        "#Space Complexity: O(1)\n"
      ],
      "metadata": {
        "colab": {
          "base_uri": "https://localhost:8080/"
        },
        "id": "8l_HjThDueAN",
        "outputId": "bf3f8064-bff9-4d73-8b5a-9af78e772f9a"
      },
      "execution_count": 15,
      "outputs": [
        {
          "output_type": "stream",
          "name": "stdout",
          "text": [
            "3-->2-->1\n",
            "=============\n"
          ]
        },
        {
          "output_type": "execute_result",
          "data": {
            "text/plain": [
              "3"
            ]
          },
          "metadata": {},
          "execution_count": 15
        }
      ]
    },
    {
      "cell_type": "code",
      "source": [
        "#Delete method\n",
        "class Node:\n",
        "  def __init__(self,value):\n",
        "    self.value= value\n",
        "    self.next= 0\n",
        "\n",
        "class LinkedList:\n",
        "  def __init__(self):\n",
        "    self.head= None\n",
        "\n",
        "class Stack:\n",
        "  def __init__(self):\n",
        "    self.linkedlist= LinkedList()\n",
        "\n",
        "  def __str__(self):\n",
        "    temp_node= self.linkedlist.head\n",
        "    res = ''\n",
        "    while temp_node:\n",
        "      res += str(temp_node.value)\n",
        "      if temp_node.next is not None:\n",
        "        res += '-->'\n",
        "      temp_node = temp_node.next\n",
        "    return res\n",
        "\n",
        "\n",
        "  def isEmpty(self):\n",
        "    if self.linkedlist.head == None:\n",
        "      return True\n",
        "    else:\n",
        "      return False\n",
        "\n",
        "  def push(self,value):\n",
        "    newnode= Node(value)\n",
        "    newnode.next= self.linkedlist.head\n",
        "    self.linkedlist.head= newnode\n",
        "\n",
        "  def pop(self):\n",
        "    if self.isEmpty():\n",
        "      return 'There is no elemenr in stack'\n",
        "    else:\n",
        "      pop_node= self.linkedlist.head.value\n",
        "      self.linkedlist.head= self.linkedlist.head.next\n",
        "      return pop_node\n",
        "\n",
        "  def peek(self):\n",
        "    if self.isEmpty():\n",
        "      return 'There is no elemenr in stack'\n",
        "    else:\n",
        "      return self.linkedlist.head.value\n",
        "\n",
        "  def delete(self):\n",
        "    self.linkedlist.head= None\n",
        "\n",
        "stack= Stack()\n",
        "stack.push(1)\n",
        "stack.push(2)\n",
        "stack.push(3)\n",
        "print(stack)\n",
        "print('=============')\n",
        "print(stack.delete())\n",
        "\n",
        "\n",
        "#Time Complexity: O(1)\n",
        "#Space Complexity: O(1)\n"
      ],
      "metadata": {
        "colab": {
          "base_uri": "https://localhost:8080/"
        },
        "id": "WnnZN7n6vTC9",
        "outputId": "67f756b5-0862-438c-ccc2-f4e7cd5fcb73"
      },
      "execution_count": 17,
      "outputs": [
        {
          "output_type": "stream",
          "name": "stdout",
          "text": [
            "3-->2-->1\n",
            "=============\n",
            "None\n"
          ]
        }
      ]
    },
    {
      "cell_type": "markdown",
      "source": [
        "**Time and Space Complexity for Stack using LinkedList**\n",
        "\n",
        "1. Create Stack:\n",
        "  - Time Compelxity: O(1)\n",
        "  - Space COmplexity: O(1)\n",
        "\n",
        "2. Push:\n",
        "  - Time Compelxity: O(1)\n",
        "  - Space COmplexity: O(1)\n",
        "\n",
        "3. Pop:\n",
        "  - Time Compelxity: O(1)\n",
        "  - Space COmplexity: O(1)\n",
        "\n",
        "4. Peek:\n",
        "  - Time Compelxity: O(1)\n",
        "  - Space COmplexity: O(1)\n",
        "\n",
        "5. isEmpty:\n",
        "  - Time Compelxity: O(1)\n",
        "  - Space COmplexity: O(1)\n",
        "\n",
        "6. Delete:\n",
        "  - Time Compelxity: O(1)\n",
        "  - Space COmplexity: O(1)"
      ],
      "metadata": {
        "id": "S_rHxXNtvx7U"
      }
    },
    {
      "cell_type": "markdown",
      "source": [
        "**When to use stack**\n",
        "\n",
        "- LIFO Functionality\n",
        "- The chance of data corruption is minimum\n",
        "\n",
        "**When to avoid stack**\n",
        "- Random access is not possible\n",
        "-\n",
        "\n"
      ],
      "metadata": {
        "id": "qy_97UnKwfr3"
      }
    },
    {
      "cell_type": "code",
      "source": [],
      "metadata": {
        "id": "dKznEZ1vw5Wj"
      },
      "execution_count": null,
      "outputs": []
    }
  ]
}