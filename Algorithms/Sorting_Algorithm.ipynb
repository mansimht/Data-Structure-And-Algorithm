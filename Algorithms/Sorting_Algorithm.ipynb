{
  "nbformat": 4,
  "nbformat_minor": 0,
  "metadata": {
    "colab": {
      "provenance": []
    },
    "kernelspec": {
      "name": "python3",
      "display_name": "Python 3"
    },
    "language_info": {
      "name": "python"
    }
  },
  "cells": [
    {
      "cell_type": "markdown",
      "source": [
        "**What is Sorting?**\n",
        "- Sorting refers to arranging data in particular format:either descending or ascending\n",
        "\n",
        "**Practical Use of sorting**\n",
        "- Microsoft excel: built in functionn to sort data\n",
        "- Online stores: Online shopping websites have option for sorting\n",
        "\n",
        "\n",
        "**Tyeps of sorting**\n",
        "1. Space Used: Inplace and Out of place\n",
        "2. Stability: Stable and Unstable\n",
        "\n",
        "\n",
        "In Place Sorting: Sorting algoritm which doesnot require any extra space for sorting\n",
        "Ex. Bubble sort\n",
        "\n",
        "Outplace Sorting: Sorting algoritm which  require  extra space for sorting\n",
        "Ex. Merge Sort\n",
        "\n",
        "Stability Sorting: If a sorting algorithm fter sorting contents doesnot change the sequence of similar content in wich tehy appear, then called stable sorting\n",
        "Ex. Insertion sort\n",
        "\n",
        "Unstable Sorting: If a sorting algorithm fter sorting contents  change the sequence of similar content in wich tehy appear, then called unstable sorting\n",
        "Ex. Quick sort\n",
        "\n",
        "\n",
        "**In databases GROUP BY uses sorting algorithm**\n",
        "\n",
        "**Sorting Terminologies**\n",
        "1. Increasing order: If successive element is greater than the previous one. Ex. 1,3,5,7,9,11\n",
        "2. Decreasing Order: If successive element is less than the previous one. Ex. 11,9,7,5,3,1\n",
        "3. Non Increaing order: If successive element is less than or equal to previous element in the sequence. Ex. 11,9,7,5,5,3,1\n",
        "4. Non ecreasing order: If successive element is greater than or equal to previous element in the sequence. Ex. 1,3,5,7,7,9,11\n",
        "\n",
        "**Requirements of sorting algorithm selection**\n",
        "- Stability\n",
        "- Space efficient\n",
        "- Time Efficient\n"
      ],
      "metadata": {
        "id": "PNch7Dn6A1ST"
      }
    },
    {
      "cell_type": "markdown",
      "source": [
        "**Bubble Sort**(Shrinking sort)\n",
        "\n",
        "- We repeatdly  compare each pair of adjacent items and swap them if they are wrong order\n",
        "\n",
        "Ex. 5,9,3,1,2,8,4,7,6\n",
        "- After 1st: 5,3,1,2,8,4,7,6,9\n",
        "- After 2nd: 3,1,2,5,4,7,6,8,9\n",
        "- After 3rd: 1,2,3,4,5,6,7,8,9\n",
        "\n",
        "**When to Use?**\n",
        "- When inpput is already sorted\n",
        "- SPace is concern\n",
        "- Easy to implement\n",
        "\n",
        "**When To avoid?**\n",
        "- Average time complexity is poor\n"
      ],
      "metadata": {
        "id": "1ipxUEqC1ULd"
      }
    },
    {
      "cell_type": "code",
      "source": [
        "#Bubble sort\n",
        "def buuble_sort(arr):\n",
        "  for i in range(len(arr)):\n",
        "    for j in range(0,len(arr)-i-1):\n",
        "      if arr[j] > arr[j+1]:\n",
        "        arr[j],arr[j+1] = arr[j+1],arr[j]\n",
        "  return arr\n",
        "\n",
        "arr= [5,9,3,1,2,8,4,7,6]\n",
        "print(buuble_sort(arr))\n",
        "\n",
        "#Time complexity: O(n^2)\n",
        "#Space COmplexity: O(1)"
      ],
      "metadata": {
        "colab": {
          "base_uri": "https://localhost:8080/"
        },
        "id": "606mg0WsA04r",
        "outputId": "9f306cad-4b22-41ec-f47b-3932ca08a522"
      },
      "execution_count": 17,
      "outputs": [
        {
          "output_type": "stream",
          "name": "stdout",
          "text": [
            "[1, 2, 3, 4, 5, 6, 7, 8, 9]\n"
          ]
        }
      ]
    },
    {
      "cell_type": "markdown",
      "source": [
        "**Selection sort**\n",
        "\n",
        "- In case of selection sort we repeatedly find minimum and maximum element and move it to the sorted part of array to make unsorted part to be sorted\n",
        "\n",
        "\n",
        "**When to Use?**\n",
        "- When we have insufficient memory\n",
        "- Easy to impelement\n",
        "\n",
        "\n",
        "**When To avoid?**\n",
        "- Average time complexity is poor\n"
      ],
      "metadata": {
        "id": "5c3R99CP584x"
      }
    },
    {
      "cell_type": "code",
      "execution_count": 23,
      "metadata": {
        "id": "S_3W-xvcbmkm",
        "colab": {
          "base_uri": "https://localhost:8080/"
        },
        "outputId": "627272fd-bb8f-4415-dff5-30b11377c314"
      },
      "outputs": [
        {
          "output_type": "stream",
          "name": "stdout",
          "text": [
            "[1, 2, 3, 4, 5, 6, 7, 8, 9]\n"
          ]
        }
      ],
      "source": [
        "#Selection sort\n",
        "def selection(arr):\n",
        "  for i in range(len(arr)):\n",
        "    min_index=i\n",
        "    for j in range(i+1,len(arr)):\n",
        "      if arr[min_index] > arr[j]:\n",
        "        min_index= j\n",
        "    arr[i],arr[min_index]= arr[min_index],arr[i]\n",
        "  return arr\n",
        "\n",
        "arr= [5,7,4,3,8,6,1,9,2]\n",
        "print(selection(arr))\n",
        "\n",
        "#Time complexity: O(n^2)\n",
        "#Space COmplexity: O(1)"
      ]
    },
    {
      "cell_type": "markdown",
      "source": [
        "**Insertion Sort**\n",
        "\n",
        "- Divide the array into two part\n",
        "- Take first element from sorted array and find its correct position in sorted array\n",
        "- Repeat until unsorted array is empty\n",
        "\n",
        "**When to use?**\n",
        "- When we have insufficient memory\n",
        "- Easy to implement\n",
        "- When we have continous inflow of numbers and we want to keep sorted\n",
        "\n",
        "**When to avoid?**\n",
        "- Average time complexity is poor"
      ],
      "metadata": {
        "id": "X8-xU4HkCL88"
      }
    },
    {
      "cell_type": "code",
      "source": [
        "#Insertion sort\n",
        "def insertion_sort(arr):\n",
        "  for i in range(len(arr)):\n",
        "    first_index= i\n",
        "    for j in range(i+1,len(arr)):\n",
        "      if arr[first_index] > arr[j]:\n",
        "        arr[first_index],arr[j]= arr[j],arr[first_index]\n",
        "  return arr\n",
        "\n",
        "\n",
        "arr= [5,3,4,7,2,8,6,9,1]\n",
        "print(insertion_sort(arr))\n",
        "\n",
        "#Time complexity: O(n^2)\n",
        "#Space COmplexity: O(1)"
      ],
      "metadata": {
        "colab": {
          "base_uri": "https://localhost:8080/"
        },
        "id": "kdmpodsA9s9S",
        "outputId": "306a02d1-a845-4dd1-8fdd-95c0eee2be91"
      },
      "execution_count": 2,
      "outputs": [
        {
          "output_type": "stream",
          "name": "stdout",
          "text": [
            "[1, 2, 3, 4, 5, 6, 7, 8, 9]\n"
          ]
        }
      ]
    },
    {
      "cell_type": "markdown",
      "source": [
        "**Bucket Sort**\n",
        "- Create Buckets and distribute elements of array into buckets\n",
        "- Sort buckets individually\n",
        "- Merge buckets after sorting\n",
        "\n",
        "```number of buckets= round(sqrt(no. of elements))```\n",
        "\n",
        "```appropriate_bucket= ceil(Value * no. of buckets/maxValue)```\n",
        "\n",
        "``` Sort all buckets by any algorithm```\n",
        "\n",
        "\n",
        "**When to use?**\n",
        "- When input is uniformly distributed over range\n",
        "\n",
        "**When to avoid?**\n",
        "- When space is concern\n",
        "\n",
        "\n",
        "\n"
      ],
      "metadata": {
        "id": "vdRUeXlaavgp"
      }
    },
    {
      "cell_type": "code",
      "source": [
        "import math\n",
        "\n",
        "#bubble sorrt\n",
        "def bubble_sort(arr):\n",
        "  no_buckets= round(math.sqrt(len(arr)))\n",
        "  maxVal= max(arr)\n",
        "  ans=[]\n",
        "  for i in range(no_buckets):\n",
        "    ans.append([])\n",
        "  for val in arr:\n",
        "    bucket_index= math.ceil(val*no_buckets/maxVal)\n",
        "    ans[bucket_index-1].append(val)\n",
        "\n",
        "  for i in range(no_buckets):\n",
        "    ans[i]= insertion_sort(ans[i])\n",
        "\n",
        "  k= 0\n",
        "  for i in range(no_buckets):\n",
        "    for j in range(len(ans[i])):\n",
        "      arr[k]= ans[i][j]\n",
        "      k += 1\n",
        "  return arr\n",
        "\n",
        "\n",
        "\n",
        "arr= [5,3,4,7,2,8,6,9,1]\n",
        "print(bubble_sort(arr))\n",
        "\n",
        "#Time complexity: O(n^2)\n",
        "#Space COmplexity: O(N)"
      ],
      "metadata": {
        "colab": {
          "base_uri": "https://localhost:8080/"
        },
        "id": "quZ8_PP0ZxXC",
        "outputId": "bd18ac53-4fcb-4e79-a23a-de04146caaa3"
      },
      "execution_count": 12,
      "outputs": [
        {
          "output_type": "stream",
          "name": "stdout",
          "text": [
            "[1, 2, 3, 4, 5, 6, 7, 8, 9]\n"
          ]
        }
      ]
    },
    {
      "cell_type": "code",
      "source": [
        "\n",
        "# Bucket sort with negative number\n",
        "def bucketsort(arr):\n",
        "  no_bucket= round(math.sqrt(len(arr)))\n",
        "  minVal= min(arr)\n",
        "  maxVal= max(arr)\n",
        "  rangeVal = (maxVal - minVal) / no_bucket\n",
        "\n",
        "  buckets= [[] for _ in range(no_bucket)]\n",
        "\n",
        "  for j in arr:\n",
        "    if j == arr:\n",
        "      buckets[-1].append(j)\n",
        "    else:\n",
        "      bucket_index= math.ceil((j*minVal)/rangeVal)\n",
        "      buckets[bucket_index].append(j)\n",
        "\n",
        "  ans= []\n",
        "  for i in range(no_bucket):\n",
        "    buckets[i]= insertion_sort(buckets[i])\n",
        "    ans.exted(buckets[i])\n",
        "\n",
        "  return ans\n"
      ],
      "metadata": {
        "id": "SwgJ53Eqf9gK"
      },
      "execution_count": 14,
      "outputs": []
    },
    {
      "cell_type": "markdown",
      "source": [
        "**Merge Sort**\n",
        "- It is devide and conqer algorithm\n",
        "- Divide input array ito two halves and we keep halving recursively until they becone too smalland that cannot devide further\n",
        "- Merge halves by sorting algorithm\n",
        "\n",
        "**When to use?**\n",
        "- When you need stable sort\n",
        "- When average expected time is O(nlogN)\n",
        "\n",
        "**When to avoid?**\n",
        "- When space is concern\n"
      ],
      "metadata": {
        "id": "ihG91iEMfsvx"
      }
    },
    {
      "cell_type": "code",
      "source": [
        "#merge sort\n",
        "def merge(arr,l,m,r):\n",
        "  n1= m - l +1\n",
        "  n2= r -m\n",
        "  L= [0]*(n1)\n",
        "  R= [0]*(n2)\n",
        "\n",
        "  for i in range(0,n1):\n",
        "    L[i]= arr[l+i]\n",
        "  for j in range(0,n2):\n",
        "    R[j]= arr[m+1+j]\n",
        "\n",
        "  i= 0    #index of firstsubarray\n",
        "  j= 0    #index of second subarray\n",
        "  k= l    #index of merge subarray\n",
        "\n",
        "  while i < n1 and j < n2:\n",
        "    if L[i] <= R[j]:\n",
        "      arr[k]= L[i]\n",
        "      i += 1\n",
        "    else:\n",
        "      arr[k]= R[j]\n",
        "      j += 1\n",
        "    k += 1\n",
        "\n",
        "  while i < n1:\n",
        "    arr[k]= L[i]\n",
        "    i += 1\n",
        "    k += 1\n",
        "\n",
        "  while j < n2:\n",
        "    arr[k]= R[j]\n",
        "    j += 1\n",
        "    k += 1\n",
        "\n",
        "\n",
        "def merge_sort(arr,l,r):\n",
        "  if l < r:\n",
        "    m = (l + (r-1))//2\n",
        "    merge_sort(arr,l,m)\n",
        "    merge_sort(arr,m+1,r)\n",
        "    merge(arr,l,m,r)\n",
        "  return arr\n",
        "\n",
        "\n",
        "arr= [6,4,3,7,5,1,2]\n",
        "print(merge_sort(arr,0,len(arr)-1))\n",
        "\n",
        "#Time complexity: O(nlogn)\n",
        "#Space complexity: O(n)"
      ],
      "metadata": {
        "colab": {
          "base_uri": "https://localhost:8080/"
        },
        "id": "mCPuURCKc_0i",
        "outputId": "4df8e503-e7db-4fea-88cc-639043410bc1"
      },
      "execution_count": 9,
      "outputs": [
        {
          "output_type": "stream",
          "name": "stdout",
          "text": [
            "[1, 2, 3, 4, 5, 6, 7]\n"
          ]
        }
      ]
    },
    {
      "cell_type": "markdown",
      "source": [
        "**Quick Sort**\n",
        "\n",
        "Ex. [3,5,0,6,2,1,4]\n",
        "\n",
        "- Create pivot number of each eleemnt\n",
        "then compare all number with private number  and swap it\n",
        "\n",
        "\n",
        "**Pivot function**\n",
        "```\n",
        "- Pivot is very first number of array\n",
        "- And pivot number is compare with all another number\n",
        "- If pivot number < anotehr number then increate swap index and swap value with another number and swap index\n",
        "- Swap pivot number with min number\n",
        "- After swap index same process follow on left and right index\n",
        "```\n"
      ],
      "metadata": {
        "id": "6FUY8CwMplxc"
      }
    },
    {
      "cell_type": "code",
      "source": [
        "#quick sort\n",
        "def swap(arr,index1,index2):\n",
        "  arr[index1],arr[index2]= arr[index2],arr[index1]\n",
        "\n",
        "def pivot(arr,pivot_index,end_index):\n",
        "  swap_index= pivot_index\n",
        "  for i in range(pivot_index+1,end_index+1):\n",
        "    if arr[i] < arr[pivot_index]:\n",
        "       swap_index += 1\n",
        "       swap(arr,swap_index,i)\n",
        "  swap(arr,pivot_index,swap_index)\n",
        "  return swap_index\n",
        "\n",
        "def quick_sort(arr,left,right):\n",
        "  if left < right:\n",
        "    pivot_index= pivot(arr,left,right)\n",
        "    quick_sort(arr,left,pivot_index-1)\n",
        "    quick_sort(arr,pivot_index+1,right)\n",
        "  return arr\n",
        "\n",
        "\n",
        "\n",
        "arr= [3,5,0,6,2,1,4]\n",
        "print(pivot(arr,0,len(arr)-1))\n",
        "print(arr)\n",
        "print(quick_sort(arr,0,len(arr)-1))"
      ],
      "metadata": {
        "colab": {
          "base_uri": "https://localhost:8080/"
        },
        "id": "-r91vshwnVTk",
        "outputId": "920c26b7-c889-495f-c7d9-ac8bdd9c96c6"
      },
      "execution_count": 18,
      "outputs": [
        {
          "output_type": "stream",
          "name": "stdout",
          "text": [
            "3\n",
            "[1, 0, 2, 3, 5, 6, 4]\n",
            "[0, 1, 2, 3, 4, 5, 6]\n"
          ]
        }
      ]
    },
    {
      "cell_type": "markdown",
      "source": [
        "**Heap Sort**\n",
        "Step1: Insert all data into Binary Heap tree\n",
        "Step2: Extract data from binary heap\n",
        "It is suited with array not with linked list\n",
        "\n",
        "Binary heap is a binary tree with special properties\n",
        "  - The value of any give node must be less or equal to its children (min Heap)\n",
        "  - The value of any give node must be greater or equal to its children (max Heap)\n",
        "\n",
        "\n",
        "\n"
      ],
      "metadata": {
        "id": "NUMHwiAOzR09"
      }
    },
    {
      "cell_type": "code",
      "source": [
        "#heap sort\n",
        "def heapify(arr,n,i):\n",
        "  small_no= i\n",
        "  l= 2*i + 1\n",
        "  r= 2*i + 2\n",
        "  if l < n and arr[l] < arr[small_no]:\n",
        "    small_no = l\n",
        "  if r < n and arr[r] < arr[small_no]:\n",
        "    small_no = r\n",
        "  if small_no != i:\n",
        "    arr[i],arr[small_no]= arr[small_no],arr[i]\n",
        "    heapify(arr,n,small_no)\n",
        "\n",
        "def heap_sort(arr):\n",
        "  n = len(arr)\n",
        "  for i in range(int(n//2)-1,-1,-1):\n",
        "    heapify(arr,n,i)\n",
        "\n",
        "  for i in range(n-1,0,-1):\n",
        "    arr[i],arr[0]= arr[0],arr[i]\n",
        "    heapify(arr,i,0)\n",
        "  arr.reverse()\n",
        "  return arr\n",
        "\n",
        "\n",
        "arr= [15,10,40,20,50,10,30,45,5]\n",
        "print(heap_sort(arr))\n",
        "\n",
        "# Time COmplexity: O(nLogN)\n",
        "#Space complexity: O(1)"
      ],
      "metadata": {
        "colab": {
          "base_uri": "https://localhost:8080/"
        },
        "id": "6hW4cTpz0pFQ",
        "outputId": "2bcaaf12-a0dd-41d1-94bd-e730bc40046f"
      },
      "execution_count": 25,
      "outputs": [
        {
          "output_type": "stream",
          "name": "stdout",
          "text": [
            "[5, 10, 10, 15, 20, 30, 40, 45, 50]\n"
          ]
        }
      ]
    },
    {
      "cell_type": "markdown",
      "source": [
        "**Time and Space Complexity**\n",
        "\n",
        "![image.png](data:image/png;base64,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)"
      ],
      "metadata": {
        "id": "7MpbQHvE7A3U"
      }
    },
    {
      "cell_type": "code",
      "source": [],
      "metadata": {
        "id": "yVyrdd0Zw8N9"
      },
      "execution_count": null,
      "outputs": []
    }
  ]
}