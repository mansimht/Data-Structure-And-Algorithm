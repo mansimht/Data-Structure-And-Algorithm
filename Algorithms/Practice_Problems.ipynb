{
  "nbformat": 4,
  "nbformat_minor": 0,
  "metadata": {
    "colab": {
      "provenance": [],
      "collapsed_sections": [
        "Uqv5xCvfIDcS",
        "8FbeB_M0r_-W"
      ]
    },
    "kernelspec": {
      "name": "python3",
      "display_name": "Python 3"
    },
    "language_info": {
      "name": "python"
    }
  },
  "cells": [
    {
      "cell_type": "markdown",
      "source": [
        "# **Array and Lists practice problems**"
      ],
      "metadata": {
        "id": "Uqv5xCvfIDcS"
      }
    },
    {
      "cell_type": "code",
      "execution_count": null,
      "metadata": {
        "colab": {
          "base_uri": "https://localhost:8080/"
        },
        "id": "9I3jztjcfeCK",
        "outputId": "3c6ae229-5aea-49d9-a7ef-e8fb7a50c405"
      },
      "outputs": [
        {
          "output_type": "stream",
          "name": "stdout",
          "text": [
            "Howmany day's temprature: 2\n",
            "Day1High Temprautre:1\n",
            "Day2High Temprautre:3\n",
            "Average temp is: 2.0\n",
            "Days above average: 1\n"
          ]
        }
      ],
      "source": [
        "total=0\n",
        "temp_days= int(input(\"Howmany day's temprature: \"))\n",
        "day_temp= []\n",
        "for i in range(1,(temp_days+1)):\n",
        "  next_day= int(input('Day'+ str(i)+ 'High Temprautre:'))\n",
        "  day_temp.append(next_day)\n",
        "  total= total + temp_days\n",
        "avg_temp= total/temp_days\n",
        "print(f'Average temp is: {avg_temp}')\n",
        "high_temp_days= [t for t in day_temp if t > avg_temp]\n",
        "print(f'Days above average: {len(high_temp_days)}')"
      ]
    },
    {
      "cell_type": "code",
      "source": [
        "def removeElement(nums,val):\n",
        "  ans=0\n",
        "  for i in range(0,len(nums)-1):\n",
        "      if nums[i] != val:\n",
        "          nums[i] = nums[i+1]\n",
        "          ans += 1\n",
        "  return ans\n",
        "nums = [3,2,2,3]\n",
        "val = 3\n",
        "print(removeElement(nums,val))"
      ],
      "metadata": {
        "id": "YIGDmbLOH_7j"
      },
      "execution_count": null,
      "outputs": []
    },
    {
      "cell_type": "code",
      "source": [
        "arr= [2,6,3,9,11]\n",
        "target= 9\n",
        "\n",
        "#Approch1\n",
        "ans=[]\n",
        "for i in range(0,len(arr)-1):\n",
        "  if arr[i]+arr[i+1] == target:\n",
        "    ans.append(arr[i])\n",
        "    ans.append(arr[i+1])\n",
        "    break\n",
        "print(ans)\n",
        "\n",
        "# Time complexity: O(n)\n",
        "# Space complexity: O(1)\n",
        "\n",
        "#approch2\n",
        "\n",
        "def two_sum(arr,target):\n",
        "  has_map={}\n",
        "  ans=[]\n",
        "  for i in range(len(arr)):\n",
        "    diff= target-arr[i]\n",
        "    if diff in has_map:\n",
        "      ans.append(has_map[diff])\n",
        "      ans.append(arr[i])\n",
        "    else:\n",
        "      has_map[arr[i]]=i\n",
        "  return ans\n",
        "\n",
        "\n",
        "print(two_sum(arr,target))\n",
        "\n",
        "# Time complexity: O(n)\n",
        "# Space complexity: O(n)\n"
      ],
      "metadata": {
        "colab": {
          "base_uri": "https://localhost:8080/"
        },
        "id": "gujtawMGicfF",
        "outputId": "ca2f40ce-8136-4500-a8e5-3e716c6309e0"
      },
      "execution_count": null,
      "outputs": [
        {
          "output_type": "stream",
          "name": "stdout",
          "text": [
            "[6, 3]\n",
            "[1, 3]\n"
          ]
        }
      ]
    },
    {
      "cell_type": "code",
      "source": [
        "arr = [1, 7, 3, 4, 9, 5]\n",
        "\n",
        "def max_product(arr):\n",
        "    val=1\n",
        "    for i in range(0,len(arr)-1):\n",
        "        for j in range(i+1,len(arr)):\n",
        "            if arr[i]*arr[j] >val:\n",
        "                val= arr[i]*arr[j]\n",
        "    return val\n",
        "print(max_product(arr))"
      ],
      "metadata": {
        "colab": {
          "base_uri": "https://localhost:8080/"
        },
        "id": "cEeZWWA3GHhr",
        "outputId": "14cf17d8-c211-466d-9d38-3a82af1c8c59"
      },
      "execution_count": null,
      "outputs": [
        {
          "output_type": "stream",
          "name": "stdout",
          "text": [
            "63\n"
          ]
        }
      ]
    },
    {
      "cell_type": "code",
      "source": [
        "myList2D= [[1,2,3],[4,5,6],[7,8,9]]\n",
        "\n",
        "def diagonal_sum(matrix):\n",
        "    sum= 0\n",
        "    for i in range(len(matrix)):\n",
        "        for j in range(len(matrix[0])):\n",
        "            if i == j:\n",
        "                sum += matrix[i][j]\n",
        "    return sum\n",
        "\n",
        "print(diagonal_sum(myList2D))\n"
      ],
      "metadata": {
        "colab": {
          "base_uri": "https://localhost:8080/"
        },
        "id": "lLNiTVZl2Adg",
        "outputId": "6c7e4f8d-fc2c-4656-8e1e-8bab1b4c14af"
      },
      "execution_count": null,
      "outputs": [
        {
          "output_type": "stream",
          "name": "stdout",
          "text": [
            "15\n"
          ]
        }
      ]
    },
    {
      "cell_type": "code",
      "source": [
        "myList = [84,85,86,87,85,90,85,83,23,45,84,1,2,0]\n",
        "\n",
        "\n",
        "def first_second(my_list):\n",
        "    max1,max2=0,0\n",
        "\n",
        "    for num in my_list:\n",
        "        if num > max1:\n",
        "            max2= max1\n",
        "            max1= num\n",
        "        elif num > max2:\n",
        "            max2 = num\n",
        "    return max1,max2\n",
        "\n",
        "print(first_second(myList))"
      ],
      "metadata": {
        "colab": {
          "base_uri": "https://localhost:8080/"
        },
        "id": "KnR9Vrsf8F2x",
        "outputId": "a6cd63b4-8803-45cb-8eab-276c9babf52d"
      },
      "execution_count": null,
      "outputs": [
        {
          "output_type": "stream",
          "name": "stdout",
          "text": [
            "(90, 87)\n"
          ]
        }
      ]
    },
    {
      "cell_type": "code",
      "source": [
        "arr= [1, 1, 2, 2, 3, 4, 5]\n",
        "\n",
        "def remove_duplicates(arr):\n",
        "    ans=[]\n",
        "    for i in range(0,len(arr)-1):\n",
        "        if arr[i] != arr[i+1]:\n",
        "            ans.append(arr[i])\n",
        "    ans.append(arr[-1])\n",
        "    return ans\n",
        "\n",
        "print(remove_duplicates(arr))\n",
        "\n",
        "def remove_duplicates(arr):\n",
        "    ans=[]\n",
        "    seen=set()\n",
        "    for n in arr:\n",
        "        if n not in seen:\n",
        "            ans.append(n)\n",
        "        seen.add(n)\n",
        "    return ans\n",
        "\n",
        "\n",
        "print(remove_duplicates(arr))"
      ],
      "metadata": {
        "colab": {
          "base_uri": "https://localhost:8080/"
        },
        "id": "5a2eDdXN8F5z",
        "outputId": "d256f80d-042e-4449-8d8b-1c21ca15be2f"
      },
      "execution_count": null,
      "outputs": [
        {
          "output_type": "stream",
          "name": "stdout",
          "text": [
            "[1, 2, 3, 4, 5]\n",
            "[1, 2, 3, 4, 5]\n"
          ]
        }
      ]
    },
    {
      "cell_type": "code",
      "source": [
        "myList= [2, 4, 3, 5, 6, -2, 4, 7, 8, 9]\n",
        "sum=7\n",
        "\n",
        "def pair_sum(myList, sum):\n",
        "     for i in range(0,len(myList)-1):\n",
        "        if myList[i]+myList[i+1] == sum:\n",
        "            ans=[myList[i],myList[i+1]]\n",
        "            return ans\n",
        "print(pair_sum(myList,sum))"
      ],
      "metadata": {
        "colab": {
          "base_uri": "https://localhost:8080/"
        },
        "id": "9eQWrMCt2gPb",
        "outputId": "df9ecb8d-8ce2-4ffa-b14a-b9db0053ac0e"
      },
      "execution_count": null,
      "outputs": [
        {
          "output_type": "stream",
          "name": "stdout",
          "text": [
            "[4, 3]\n"
          ]
        }
      ]
    },
    {
      "cell_type": "code",
      "source": [
        "nums = [1,2,3,1]\n",
        "\n",
        "def contains_duplicate(nums):\n",
        "    seen= set()\n",
        "    for n in nums:\n",
        "        if n in seen:\n",
        "            return True\n",
        "        seen.add(n)\n",
        "    return False\n",
        "\n",
        "print(contains_duplicate(nums))"
      ],
      "metadata": {
        "colab": {
          "base_uri": "https://localhost:8080/"
        },
        "id": "U3Y2rgj0_35Y",
        "outputId": "5cf9e149-ee90-4d86-9092-a69ba702d5da"
      },
      "execution_count": null,
      "outputs": [
        {
          "output_type": "stream",
          "name": "stdout",
          "text": [
            "True\n"
          ]
        }
      ]
    },
    {
      "cell_type": "code",
      "source": [
        "arr= [[1,2,3],[4,5,6],[7,8,9]]\n",
        "\n",
        "def rotate(arr):\n",
        "  for i in range(len(arr)):\n",
        "    for j in range(len(arr[0])):\n",
        "      if i < j:\n",
        "        arr[i][j],arr[j][i]= arr[j][i],arr[i][j]\n",
        "  for row in arr:\n",
        "    row.reverse()\n",
        "  return arr\n",
        "\n",
        "print(rotate(arr))"
      ],
      "metadata": {
        "colab": {
          "base_uri": "https://localhost:8080/"
        },
        "id": "J0bLeUSKEQu4",
        "outputId": "3d3f0aae-4377-44b5-9a2a-04008927c880"
      },
      "execution_count": null,
      "outputs": [
        {
          "output_type": "stream",
          "name": "stdout",
          "text": [
            "[[7, 4, 1], [8, 5, 2], [9, 6, 3]]\n"
          ]
        }
      ]
    },
    {
      "cell_type": "code",
      "source": [
        "def foo(array):\n",
        "    sum = 0\n",
        "    product = 1\n",
        "    for i in array:\n",
        "        sum += i\n",
        "    for i in array:\n",
        "        product *= i\n",
        "    print(\"Sum = \"+str(sum)+\", Product = \"+str(product))\n",
        "\n",
        "ar1 = [1,2,3,4]\n",
        "foo(ar1)\n",
        "\n",
        "#Time complexity: O(n)"
      ],
      "metadata": {
        "id": "f3fQ5pGkGix6"
      },
      "execution_count": null,
      "outputs": []
    },
    {
      "cell_type": "code",
      "source": [
        "def printPairs(array):\n",
        "    for i in array:\n",
        "        for j in array:\n",
        "            print(str(i)+\",\"+str(j))\n",
        "\n",
        "#Time complexity: O(n^2)"
      ],
      "metadata": {
        "id": "M6WAfMrtrsmN"
      },
      "execution_count": null,
      "outputs": []
    },
    {
      "cell_type": "code",
      "source": [
        "def printUnorderedPairs(array):\n",
        "    for i in range(0,len(array)):\n",
        "        for j in range(i+1,len(array)):\n",
        "            print(array[i] + \",\" + array[j])\n",
        "\n",
        "#Time complexity: O(n^2)"
      ],
      "metadata": {
        "id": "7LAOZPjTrsoy"
      },
      "execution_count": null,
      "outputs": []
    },
    {
      "cell_type": "code",
      "source": [
        "def printUnorderedPairs(arrayA, arrayB):\n",
        "    for i in range(len(arrayA)):\n",
        "        for j in range(len(arrayB)):\n",
        "            if arrayA[i] < arrayB[j]:\n",
        "                print(str(arrayA[i]) + \",\" + str(arrayB[j]))\n",
        "\n",
        "arrayA = [1,2,3,4,5]\n",
        "arrayB = [2,6,7,8]\n",
        "\n",
        "printUnorderedPairs(arrayA,arrayB)\n",
        "\n",
        "#Time complexity: O(a*b)"
      ],
      "metadata": {
        "id": "6gV79Vl6rsrw"
      },
      "execution_count": null,
      "outputs": []
    },
    {
      "cell_type": "code",
      "source": [
        "def reverse(array):\n",
        "    for i in range(0,int(len(array)/2)):\n",
        "        other = len(array)-i-1\n",
        "        temp = array[i]\n",
        "        array[i] = array[other]\n",
        "        array[other] = temp\n",
        "    print(array)\n",
        "\n",
        "reverse(arrayA)\n",
        "\n",
        "#Time complexity: O(n)"
      ],
      "metadata": {
        "id": "jj5kxOyNrsud"
      },
      "execution_count": null,
      "outputs": []
    },
    {
      "cell_type": "markdown",
      "source": [
        "# **Dictionary and Tuple practice problems**"
      ],
      "metadata": {
        "id": "8FbeB_M0r_-W"
      }
    },
    {
      "cell_type": "code",
      "source": [
        "#dict comphrehension\n",
        "# new_dict= {k:v for (k,v) in dict.items() if condition}\n",
        "\n",
        "#ex.\n",
        "import random\n",
        "city_names= ['Paris','London','Rome','Berlin','Madrid']\n",
        "\n",
        "new_dict= {city:random.randint(20,50) for city in city_names}\n",
        "print(new_dict)\n",
        "\n",
        "new_dict1= {city:temp for (city,temp) in new_dict.items() if temp < 30}\n",
        "print(new_dict1)"
      ],
      "metadata": {
        "colab": {
          "base_uri": "https://localhost:8080/"
        },
        "id": "cn9fTccMsIoL",
        "outputId": "7776fa4f-7b83-401e-f3f2-64571019bcda"
      },
      "execution_count": null,
      "outputs": [
        {
          "output_type": "stream",
          "name": "stdout",
          "text": [
            "{'Paris': 40, 'London': 22, 'Rome': 33, 'Berlin': 41, 'Madrid': 22}\n",
            "{'London': 22, 'Madrid': 22}\n"
          ]
        }
      ]
    },
    {
      "cell_type": "code",
      "source": [
        "words = ['apple', 'orange', 'banana', 'apple', 'orange', 'apple']\n",
        "\n",
        "def count_word_frequency(words):\n",
        "  ans= {}\n",
        "  for i in range(len(words)):\n",
        "      ans[words[i]]= words.count(words[i])\n",
        "  return ans\n",
        "\n",
        "print(count_word_frequency(words))\n",
        "\n",
        "def count_word_frequency(words):\n",
        "    word_count = {}\n",
        "    for word in words:\n",
        "        word_count[word] = word_count.get(word, 0) + 1\n",
        "    return word_count\n",
        "\n",
        "def count_word_frequency(words):\n",
        "    ans={}\n",
        "    for item in words:\n",
        "        if item in ans:\n",
        "            ans[item] += 1\n",
        "        else:\n",
        "            ans[item] = 1\n",
        "    return ans"
      ],
      "metadata": {
        "id": "YaGjuWdAsJ6Z",
        "colab": {
          "base_uri": "https://localhost:8080/"
        },
        "outputId": "f7e88016-cc05-43a4-ccd9-3c7cf926e72f"
      },
      "execution_count": null,
      "outputs": [
        {
          "output_type": "stream",
          "name": "stdout",
          "text": [
            "{'apple': 3, 'orange': 2, 'banana': 1}\n"
          ]
        }
      ]
    },
    {
      "cell_type": "code",
      "source": [
        "def merge_dicts(dict1, dict2):\n",
        "    new_dict= dict1.copy()\n",
        "    for key,value in dict2.items():\n",
        "        if key in new_dict:\n",
        "            new_dict[key] += value\n",
        "        else:\n",
        "            new_dict[key]= value\n",
        "    return new_dict\n",
        "\n",
        "\n",
        "dict1 = {'a': 1, 'b': 2, 'c': 3}\n",
        "dict2 = {'b': 3, 'c': 4, 'd': 5}\n",
        "merge_dicts(dict1, dict2)"
      ],
      "metadata": {
        "id": "XExv2QdSsKAA",
        "colab": {
          "base_uri": "https://localhost:8080/"
        },
        "outputId": "93c253e3-1398-4879-dcb6-6cd0d13b200a"
      },
      "execution_count": null,
      "outputs": [
        {
          "output_type": "execute_result",
          "data": {
            "text/plain": [
              "{'a': 1, 'b': 5, 'c': 7, 'd': 5}"
            ]
          },
          "metadata": {},
          "execution_count": 17
        }
      ]
    },
    {
      "cell_type": "code",
      "source": [
        "def max_value_key(my_dict):\n",
        "    max_val= 0\n",
        "    for k,v in my_dict.items():\n",
        "        if v > max_val:\n",
        "            max_val= v\n",
        "            ans= k\n",
        "    return ans\n",
        "\n",
        "\n",
        "my_dict = {'a': 12, 'b': 9, 'c': 2}\n",
        "max_value_key(my_dict)"
      ],
      "metadata": {
        "colab": {
          "base_uri": "https://localhost:8080/",
          "height": 36
        },
        "id": "9Cb52ZuIHZ1r",
        "outputId": "3135e39f-ab2f-4bc5-aac9-b4111adf286f"
      },
      "execution_count": null,
      "outputs": [
        {
          "output_type": "execute_result",
          "data": {
            "text/plain": [
              "'a'"
            ],
            "application/vnd.google.colaboratory.intrinsic+json": {
              "type": "string"
            }
          },
          "metadata": {},
          "execution_count": 7
        }
      ]
    },
    {
      "cell_type": "code",
      "source": [
        "def reverse_dict(my_dict):\n",
        "    ans={}\n",
        "    for k,v in my_dict.items():\n",
        "        ans[v]= k\n",
        "    return ans\n",
        "\n",
        "\n",
        "my_dict = {'a': 1, 'b': 2, 'c': 3}\n",
        "reverse_dict(my_dict)"
      ],
      "metadata": {
        "colab": {
          "base_uri": "https://localhost:8080/"
        },
        "id": "sFrTTwmtfmtV",
        "outputId": "0bbbc530-e61e-468a-8ac2-7b766ab6fcbe"
      },
      "execution_count": null,
      "outputs": [
        {
          "output_type": "execute_result",
          "data": {
            "text/plain": [
              "{1: 'a', 2: 'b', 3: 'c'}"
            ]
          },
          "metadata": {},
          "execution_count": 11
        }
      ]
    },
    {
      "cell_type": "code",
      "source": [
        "def filter_dict(my_dict, condition):\n",
        "    return {k:v for k,v in my_dict.items() if v%2 == 0}\n",
        "\n",
        "my_dict = {'a': 1, 'b': 2, 'c': 3, 'd': 4}\n",
        "filter_dict(my_dict, lambda k, v: v % 2 == 0)"
      ],
      "metadata": {
        "colab": {
          "base_uri": "https://localhost:8080/"
        },
        "id": "aqkTq2Kchupe",
        "outputId": "e953b747-c1b8-42b7-b256-27b306f6cd1b"
      },
      "execution_count": null,
      "outputs": [
        {
          "output_type": "execute_result",
          "data": {
            "text/plain": [
              "{'b': 2, 'd': 4}"
            ]
          },
          "metadata": {},
          "execution_count": 13
        }
      ]
    },
    {
      "cell_type": "code",
      "source": [
        "def check_same_frequency(list1, list2):\n",
        "    return sorted(list1) == sorted(list2)\n",
        "\n",
        "list1 = [1, 2, 3, 2, 1]\n",
        "list2 = [3, 1, 2, 1, 3]\n",
        "check_same_frequency(list1, list2)\n",
        "\n",
        "# time complexity: O(nlogn)"
      ],
      "metadata": {
        "colab": {
          "base_uri": "https://localhost:8080/"
        },
        "id": "5tLJO8Y8impY",
        "outputId": "c09a9ba1-8d7f-4b78-b389-1908dde4d1dd"
      },
      "execution_count": null,
      "outputs": [
        {
          "output_type": "execute_result",
          "data": {
            "text/plain": [
              "False"
            ]
          },
          "metadata": {},
          "execution_count": 1
        }
      ]
    },
    {
      "cell_type": "code",
      "source": [
        "def sum_product(input_tuple):\n",
        "    sum_result= 0\n",
        "    product_result= 1\n",
        "    for val in input_tuple:\n",
        "        sum_result += val\n",
        "        product_result *= val\n",
        "    return sum_result,product_result\n",
        "\n",
        "\n",
        "input_tuple = (1, 2, 3, 4)\n",
        "sum_result, product_result = sum_product(input_tuple)\n",
        "print(sum_result, product_result)\n",
        "\n",
        "# Time complexity: O(n)\n"
      ],
      "metadata": {
        "id": "DSyd8SKjlK__",
        "colab": {
          "base_uri": "https://localhost:8080/"
        },
        "outputId": "50242be3-ec2b-479f-9351-a7e9c1dea195"
      },
      "execution_count": null,
      "outputs": [
        {
          "output_type": "stream",
          "name": "stdout",
          "text": [
            "10 24\n"
          ]
        }
      ]
    },
    {
      "cell_type": "code",
      "source": [
        "def tuple_elementwise_sum(tuple1, tuple2):\n",
        "  if len(tuple1) != len(tuple2):\n",
        "    return ValueError(\"Tuple length should be same\")\n",
        "  return tuple(x+y for x,y in zip(tuple1,tuple2))\n",
        "\n",
        "tuple1 = (1, 2, 3)\n",
        "tuple2 = (4, 5, 6)\n",
        "output_tuple = tuple_elementwise_sum(tuple1, tuple2)\n",
        "print(output_tuple)"
      ],
      "metadata": {
        "colab": {
          "base_uri": "https://localhost:8080/"
        },
        "id": "bDEtJt45hDXN",
        "outputId": "6b765722-d69b-4019-ed63-10269d9e5177"
      },
      "execution_count": null,
      "outputs": [
        {
          "output_type": "stream",
          "name": "stdout",
          "text": [
            "(5, 7, 9)\n"
          ]
        }
      ]
    },
    {
      "cell_type": "code",
      "source": [
        "def insert_value_front(input_tuple, value_to_insert):\n",
        "    return (value_to_insert,) + input_tuple\n",
        "\n",
        "input_tuple = (2, 3, 4)\n",
        "value_to_insert = 1\n",
        "output_tuple = insert_value_front(input_tuple, value_to_insert)\n",
        "print(output_tuple)  # Expected output: (1, 2, 3, 4)"
      ],
      "metadata": {
        "colab": {
          "base_uri": "https://localhost:8080/"
        },
        "id": "v9xsrw69hgzL",
        "outputId": "6c7c8151-aeca-4bba-d25f-695f18bb2a0f"
      },
      "execution_count": null,
      "outputs": [
        {
          "output_type": "stream",
          "name": "stdout",
          "text": [
            "(1, 2, 3, 4)\n"
          ]
        }
      ]
    },
    {
      "cell_type": "code",
      "source": [
        "def concatenate_strings(input_tuple):\n",
        "    ans= ''\n",
        "    for val in input_tuple:\n",
        "        ans = ans + val + ' '\n",
        "    return ans.strip()\n",
        "\n",
        "\n",
        "input_tuple = ('Hello', 'World', 'from', 'Python')\n",
        "output_string = concatenate_strings(input_tuple)\n",
        "print(output_string)  # Expected output: 'Hello World from Python'\n"
      ],
      "metadata": {
        "colab": {
          "base_uri": "https://localhost:8080/"
        },
        "id": "n37RMR9-kBKC",
        "outputId": "eb3a2d64-3263-4acd-9e91-fe733bf74df2"
      },
      "execution_count": null,
      "outputs": [
        {
          "output_type": "stream",
          "name": "stdout",
          "text": [
            "Hello World from Python\n"
          ]
        }
      ]
    },
    {
      "cell_type": "code",
      "source": [
        "def get_diagonal(tup):\n",
        "  ans=[]\n",
        "  for i in range(len(tup)):\n",
        "      ans.append(tup[i][i])\n",
        "  return tuple(ans)\n",
        "\n",
        "input_tuple = (\n",
        "    (1, 2, 3),\n",
        "    (4, 5, 6),\n",
        "    (7, 8, 9)\n",
        ")\n",
        "output_tuple = get_diagonal(input_tuple)\n",
        "print(output_tuple)  # Expected output: (1, 5, 9)"
      ],
      "metadata": {
        "colab": {
          "base_uri": "https://localhost:8080/"
        },
        "id": "aHtPR0vkk_Ip",
        "outputId": "5094637e-715a-4b5f-9feb-78e951f5b227"
      },
      "execution_count": null,
      "outputs": [
        {
          "output_type": "stream",
          "name": "stdout",
          "text": [
            "(1, 5, 9)\n"
          ]
        }
      ]
    },
    {
      "cell_type": "code",
      "source": [
        "def common_elements(tuple1, tuple2):\n",
        "    res= (x for x in tuple1 if x in tuple2)\n",
        "    return tuple(res)\n",
        "\n",
        "tuple1 = (1, 2, 3, 4, 5)\n",
        "tuple2 = (4, 5, 6, 7, 8)\n",
        "output_tuple = common_elements(tuple1, tuple2)\n",
        "print(output_tuple)  # Expected output: (4, 5)\n"
      ],
      "metadata": {
        "colab": {
          "base_uri": "https://localhost:8080/"
        },
        "id": "XSz9clzemVub",
        "outputId": "7a9463ed-48b8-4a1d-b271-04480d9ebf81"
      },
      "execution_count": null,
      "outputs": [
        {
          "output_type": "stream",
          "name": "stdout",
          "text": [
            "(4, 5)\n"
          ]
        }
      ]
    },
    {
      "cell_type": "markdown",
      "source": [
        "# **Single Linked List practice problems**"
      ],
      "metadata": {
        "id": "Yqiir2k7oMS3"
      }
    },
    {
      "cell_type": "code",
      "source": [
        "##Create singly linkeed list\n",
        "class Node:\n",
        "    def __init__(self,value):\n",
        "        self.value= value\n",
        "        self.next= None\n",
        "\n",
        "class LinkedList:\n",
        "  def __init__(self,value):\n",
        "    newnode= Node(value)\n",
        "    self.head= newnode\n",
        "    self.tail= newnode\n",
        "    self.length= 1\n",
        "\n",
        "newlinkedlist= LinkedList(10)\n",
        "print(newlinkedlist)"
      ],
      "metadata": {
        "colab": {
          "base_uri": "https://localhost:8080/"
        },
        "id": "l0vOcCd_oQpB",
        "outputId": "11c1182a-709b-4ad6-920f-89a457fb8dd7"
      },
      "execution_count": null,
      "outputs": [
        {
          "output_type": "stream",
          "name": "stdout",
          "text": [
            "<__main__.LinkedList object at 0x7e7d853325c0>\n"
          ]
        }
      ]
    },
    {
      "cell_type": "code",
      "source": [
        "#Insertion at the Beginning of a Singly Linked List= prepend method\n",
        "class Node:\n",
        "  def __init__(self,value):\n",
        "    self.value= value\n",
        "    self.next= None\n",
        "\n",
        "class LinkedList:\n",
        "  def __init__(self):\n",
        "    self.head= None\n",
        "    self.length= 0\n",
        "\n",
        "  def prepend(self,value):\n",
        "    newnode= Node(value)\n",
        "    if self.head is None:\n",
        "      self.head= newnode\n",
        "    else:\n",
        "      newnode.next= self.head\n",
        "      self.head= newnode\n",
        "    self.length += 1\n",
        "\n",
        "newlinkedlist= LinkedList()\n",
        "newlinkedlist.prepend(10)\n",
        "print(newlinkedlist.head.value)"
      ],
      "metadata": {
        "colab": {
          "base_uri": "https://localhost:8080/"
        },
        "id": "g6EZerQFHD4i",
        "outputId": "524edcbd-322d-40ed-9bcd-bc1b7f3ac3b6"
      },
      "execution_count": null,
      "outputs": [
        {
          "output_type": "stream",
          "name": "stdout",
          "text": [
            "10\n"
          ]
        }
      ]
    },
    {
      "cell_type": "code",
      "source": [
        "# Insertion at the End of a Singly Linked List\n",
        "class Node:\n",
        "  def __init__(self,value):\n",
        "    self.value= value\n",
        "    self.next= None\n",
        "\n",
        "class LinkedList:\n",
        "  def __init__(self):\n",
        "    self.head = None\n",
        "    self.tail = None\n",
        "    self.length = 0\n",
        "\n",
        "  def append(self,value):\n",
        "    newnode= Node(value)\n",
        "    if self.head is None:\n",
        "      self.head= newnode\n",
        "      self.tail= newnode\n",
        "    else:\n",
        "      self.tail.next= newnode\n",
        "      self.tail= newnode\n",
        "    self.length += 1\n",
        "\n",
        "newlinkedlist= LinkedList()\n",
        "newlinkedlist.append(10)\n",
        "newlinkedlist.append(20)\n",
        "print(newlinkedlist.tail.value)"
      ],
      "metadata": {
        "colab": {
          "base_uri": "https://localhost:8080/"
        },
        "id": "nUyFeVsIR7Le",
        "outputId": "24068088-08ee-4574-8899-d3fd930c2966"
      },
      "execution_count": null,
      "outputs": [
        {
          "output_type": "stream",
          "name": "stdout",
          "text": [
            "20\n"
          ]
        }
      ]
    },
    {
      "cell_type": "code",
      "source": [
        "#Deletion from a Singly Linked List\n",
        "class Node:\n",
        "    def __init__(self, value):\n",
        "        self.value = value\n",
        "        self.next = None\n",
        "\n",
        "class LinkedList:\n",
        "    def __init__(self):\n",
        "        self.head = None\n",
        "        self.tail = None\n",
        "        self.length = 0\n",
        "\n",
        "    def __str__(self):\n",
        "        temp_node = self.head\n",
        "        result = ''\n",
        "        while temp_node is not None:\n",
        "            result += str(temp_node.value)\n",
        "            if temp_node.next is not None:\n",
        "                result += ' -> '\n",
        "            temp_node = temp_node.next\n",
        "        return result\n",
        "\n",
        "    def append(self, value):\n",
        "        new_node = Node(value)\n",
        "        if self.head is None:\n",
        "            self.head = new_node\n",
        "            self.tail = new_node\n",
        "        else:\n",
        "            self.tail.next = new_node\n",
        "            self.tail = new_node\n",
        "        self.length += 1\n",
        "\n",
        "    def remove(self,index):\n",
        "      if index >= self.length and index <0:\n",
        "        return None\n",
        "      elif index == 0:\n",
        "        pop_node= self.head\n",
        "        if self.length == 1:\n",
        "          self.head = None\n",
        "          self.tail= None\n",
        "        else:\n",
        "          self.head= self.head.next\n",
        "        pop_node.next= None\n",
        "        self.length -= 1\n",
        "        return pop_node\n",
        "      else:\n",
        "        current= self.head\n",
        "        for _ in range(index-1):\n",
        "          current= current.next\n",
        "        pop_node= current.next\n",
        "        if pop_node.next is None:\n",
        "          self.tail= current\n",
        "\n",
        "        current.next= current.next.next\n",
        "        pop_node.next= None\n",
        "        self.length -= 1\n",
        "        return pop_node\n",
        "\n",
        "\n",
        "\n",
        "newlinkedlist= LinkedList()\n",
        "newlinkedlist.append(10)\n",
        "newlinkedlist.append(20)\n",
        "newlinkedlist.append(30)\n",
        "newlinkedlist.append(40)\n",
        "newlinkedlist.remove(2)\n",
        "newlinkedlist.__str__()"
      ],
      "metadata": {
        "colab": {
          "base_uri": "https://localhost:8080/",
          "height": 36
        },
        "id": "jk2Th9MXajF-",
        "outputId": "aac47960-6e1d-46fe-91a6-3d1c0ebe08d2"
      },
      "execution_count": null,
      "outputs": [
        {
          "output_type": "execute_result",
          "data": {
            "text/plain": [
              "'10 -> 20 -> 40'"
            ],
            "application/vnd.google.colaboratory.intrinsic+json": {
              "type": "string"
            }
          },
          "metadata": {},
          "execution_count": 8
        }
      ]
    },
    {
      "cell_type": "code",
      "source": [
        "#reverse the string\n",
        "class Node:\n",
        "    def __init__(self, value):\n",
        "        self.value = value\n",
        "        self.next = None\n",
        "\n",
        "class LinkedList:\n",
        "    def __init__(self):\n",
        "        self.head = None\n",
        "        self.tail = None\n",
        "        self.length = 0\n",
        "\n",
        "    def __str__(self):\n",
        "        temp_node = self.head\n",
        "        result = ''\n",
        "        while temp_node is not None:\n",
        "            result += str(temp_node.value)\n",
        "            if temp_node.next is not None:\n",
        "                result += ' -> '\n",
        "            temp_node = temp_node.next\n",
        "        return result\n",
        "\n",
        "    def append(self, value):\n",
        "        new_node = Node(value)\n",
        "        if self.head is None:\n",
        "            self.head = new_node\n",
        "            self.tail = new_node\n",
        "        else:\n",
        "            self.tail.next = new_node\n",
        "            self.tail = new_node\n",
        "        self.length += 1\n",
        "\n",
        "    def reverse(self):\n",
        "      prev= None\n",
        "      current= self.head\n",
        "      next_node= None\n",
        "      while current is not None:\n",
        "       next_node= current.next\n",
        "       current.next= prev\n",
        "       prev= current\n",
        "       current= next_node\n",
        "      self.head,self.tail= self.tail,self.head\n",
        "\n",
        "\n",
        "newlinkedlist= LinkedList()\n",
        "newlinkedlist.append(10)\n",
        "newlinkedlist.append(20)\n",
        "newlinkedlist.append(30)\n",
        "newlinkedlist.append(40)\n",
        "newlinkedlist.reverse()\n",
        "newlinkedlist.__str__()"
      ],
      "metadata": {
        "colab": {
          "base_uri": "https://localhost:8080/",
          "height": 36
        },
        "id": "mKjYNHOFbKqJ",
        "outputId": "ad881e10-f296-4194-df43-1ff17309f588"
      },
      "execution_count": null,
      "outputs": [
        {
          "output_type": "execute_result",
          "data": {
            "text/plain": [
              "'40 -> 30 -> 20 -> 10'"
            ],
            "application/vnd.google.colaboratory.intrinsic+json": {
              "type": "string"
            }
          },
          "metadata": {},
          "execution_count": 14
        }
      ]
    },
    {
      "cell_type": "code",
      "source": [
        "#Middle of singly linked list\n",
        "\n",
        "class Node:\n",
        "    def __init__(self, value):\n",
        "        self.value = value\n",
        "        self.next = None\n",
        "\n",
        "class LinkedList:\n",
        "    def __init__(self):\n",
        "        self.head = None\n",
        "        self.tail = None\n",
        "        self.length = 0\n",
        "\n",
        "    def append(self, value):\n",
        "        new_node = Node(value)\n",
        "        if self.head is None:\n",
        "            self.head = new_node\n",
        "            self.tail = new_node\n",
        "        else:\n",
        "            self.tail.next = new_node\n",
        "            self.tail = new_node\n",
        "        self.length += 1\n",
        "\n",
        "    def find_middle(self):\n",
        "        middle= int(self.length/2)\n",
        "        current= self.head\n",
        "        for _ in range(middle):\n",
        "          current= current.next\n",
        "        return current.value\n",
        "\n",
        "newlinkedlist= LinkedList()\n",
        "newlinkedlist.append(10)\n",
        "newlinkedlist.append(20)\n",
        "newlinkedlist.append(30)\n",
        "newlinkedlist.find_middle()\n",
        "\n"
      ],
      "metadata": {
        "colab": {
          "base_uri": "https://localhost:8080/"
        },
        "id": "FqaX0GDsx5AW",
        "outputId": "8a754fcb-ded9-4472-b9a4-f0c34c46dde4"
      },
      "execution_count": null,
      "outputs": [
        {
          "output_type": "execute_result",
          "data": {
            "text/plain": [
              "20"
            ]
          },
          "metadata": {},
          "execution_count": 17
        }
      ]
    },
    {
      "cell_type": "code",
      "source": [
        "#remove duplicates from singly linked list\n",
        "# Original Linked List - \"1 -> 2 -> 4-> 3 -> 4->2\"\n",
        "\n",
        "# Result Linked List - \"1 -> 2 -> 4 -> 3\n",
        "class Node:\n",
        "    def __init__(self, value):\n",
        "        self.value = value\n",
        "        self.next = None\n",
        "\n",
        "class LinkedList:\n",
        "    def __init__(self):\n",
        "        self.head = None\n",
        "        self.tail = None\n",
        "        self.length = 0\n",
        "\n",
        "    def __str__(self):\n",
        "        temp_node = self.head\n",
        "        result = ''\n",
        "        while temp_node is not None:\n",
        "            result += str(temp_node.value)\n",
        "            if temp_node.next is not None:\n",
        "                result += ' -> '\n",
        "            temp_node = temp_node.next\n",
        "        return result\n",
        "\n",
        "    def append(self, value):\n",
        "        new_node = Node(value)\n",
        "        if self.head is None:\n",
        "            self.head = new_node\n",
        "            self.tail = new_node\n",
        "        else:\n",
        "            self.tail.next = new_node\n",
        "            self.tail = new_node\n",
        "        self.length += 1\n",
        "\n",
        "    def remove_duplicates(self):\n",
        "      if self.head is None:\n",
        "        return\n",
        "\n",
        "      node_values= set()\n",
        "      current= self.head\n",
        "      node_values.add(current.value)\n",
        "      while current.next:\n",
        "        if current.next.value in node_values:\n",
        "          current.next= current.next.next\n",
        "          self.length -= 1\n",
        "        else:\n",
        "          node_values.add(current.next.value)\n",
        "          current= current.next\n",
        "      self.tail= current\n",
        "\n",
        "\n",
        "newlinkedlist= LinkedList()\n",
        "newlinkedlist.append(1)\n",
        "newlinkedlist.append(2)\n",
        "newlinkedlist.append(4)\n",
        "newlinkedlist.append(3)\n",
        "newlinkedlist.append(4)\n",
        "newlinkedlist.append(2)\n",
        "newlinkedlist.remove_duplicates()\n",
        "newlinkedlist.__str__()"
      ],
      "metadata": {
        "colab": {
          "base_uri": "https://localhost:8080/",
          "height": 36
        },
        "id": "_nwhlRwj5-2S",
        "outputId": "b19a9731-fd07-4c21-8cab-3198227a6ad0"
      },
      "execution_count": null,
      "outputs": [
        {
          "output_type": "execute_result",
          "data": {
            "text/plain": [
              "'1 -> 2 -> 4 -> 3'"
            ],
            "application/vnd.google.colaboratory.intrinsic+json": {
              "type": "string"
            }
          },
          "metadata": {},
          "execution_count": 29
        }
      ]
    },
    {
      "cell_type": "code",
      "source": [
        "##Merge two lists\n",
        "class ListNode(object):\n",
        "    def __init__(self, val=0, next=None):\n",
        "        self.val = val\n",
        "        self.next = next\n",
        "class Solution(object):\n",
        "    def mergeTwoLists(self, l1:ListNode, l2:ListNode) -> ListNode:\n",
        "\n",
        "      output= ListNode(-1)\n",
        "      prev= output\n",
        "      while l1 and l2:\n",
        "        if l1.val <= l2.val:\n",
        "          prev= l1\n",
        "          l1= l1.next\n",
        "      else:\n",
        "          prev= l2\n",
        "          l2= l2.next\n",
        "      prev= prev.next\n",
        "\n",
        "      if l1:\n",
        "        prev.next= l1\n",
        "      else:\n",
        "        prev.next= l2\n",
        "\n",
        "      return output.next\n",
        "\n",
        "\n",
        "list1 = [1,2,4]\n",
        "list2 = [1,3,4]\n",
        "solution_instance = Solution()\n",
        "solution_instance.mergeTwoLists(list1,list2)"
      ],
      "metadata": {
        "colab": {
          "base_uri": "https://localhost:8080/"
        },
        "id": "qHF8l984FgBU",
        "outputId": "b7a56969-d9a9-4b77-82aa-7d5bfc5e8caa"
      },
      "execution_count": null,
      "outputs": [
        {
          "output_type": "stream",
          "name": "stdout",
          "text": [
            "-1\n"
          ]
        },
        {
          "output_type": "execute_result",
          "data": {
            "text/plain": [
              "<__main__.ListNode at 0x7fce19740370>"
            ]
          },
          "metadata": {},
          "execution_count": 61
        }
      ]
    },
    {
      "cell_type": "code",
      "source": [
        "#remove duplicates\n",
        "class ListNode(object):\n",
        "    def __init__(self, val=0, next=None):\n",
        "        self.val = val\n",
        "        self.next = next\n",
        "\n",
        "class Solution(object):\n",
        "    def deleteDuplicates(self, head):\n",
        "        if not head:\n",
        "            return None\n",
        "\n",
        "        dummy= ListNode(-1)\n",
        "        dummy.next= head\n",
        "        prev= dummy\n",
        "        current= head\n",
        "        value_nodes= set()\n",
        "\n",
        "        while current:\n",
        "          if current.val in value_nodes:\n",
        "            prev.next= current.next\n",
        "            current= current.next\n",
        "          else:\n",
        "            value_nodes.add(current.val)\n",
        "            prev= current\n",
        "            current= current.next\n",
        "          return dummy.next\n",
        "\n",
        "\n",
        "\n",
        "\n",
        "head = [1,1,2]\n",
        "solution_instance = Solution()\n",
        "solution_instance.deleteDuplicates(head)"
      ],
      "metadata": {
        "colab": {
          "base_uri": "https://localhost:8080/"
        },
        "id": "1EtoLDc_TFs8",
        "outputId": "ed5f715f-732f-454d-ff5c-61d0bebfbfd8"
      },
      "execution_count": null,
      "outputs": [
        {
          "output_type": "stream",
          "name": "stdout",
          "text": [
            "[1, 1, 2]\n"
          ]
        }
      ]
    },
    {
      "cell_type": "code",
      "source": [
        "def deleteDuplicates(self, head):\n",
        "        if not head:\n",
        "            return None\n",
        "\n",
        "        seen = set()\n",
        "        dummy = ListNode(-1)\n",
        "        dummy.next = head\n",
        "        prev_node = dummy\n",
        "        current_node = head\n",
        "\n",
        "        while current_node:\n",
        "            if current_node.val in seen:\n",
        "                prev_node.next = current_node.next\n",
        "                current_node = current_node.next\n",
        "            else:\n",
        "                seen.add(current_node.val)\n",
        "                prev_node = current_node\n",
        "                current_node = current_node.next\n",
        "\n",
        "        return dummy.next"
      ],
      "metadata": {
        "id": "3H4obWNBcPNd"
      },
      "execution_count": null,
      "outputs": []
    },
    {
      "cell_type": "code",
      "source": [
        "# Remove Linked List Elements\n",
        "class ListNode(object):\n",
        "    def __init__(self, val=0, next=None):\n",
        "        self.val = val\n",
        "        self.next = next\n",
        "\n",
        "class Solution(object):\n",
        "    def removeElements(self, head, val):\n",
        "        if not head:\n",
        "            return None\n",
        "\n",
        "        dummy= ListNode(-1)\n",
        "        dummy.next= head\n",
        "        prev_node= dummy\n",
        "        current_node= head\n",
        "\n",
        "        while current_node:\n",
        "            if current_node.val == val:\n",
        "                prev_node.next= current_node.next\n",
        "            else:\n",
        "                prev_node= current_node\n",
        "            current_node= current_node.next\n",
        "\n",
        "\n",
        "        return dummy.next"
      ],
      "metadata": {
        "id": "WSzGt1RY8QRs"
      },
      "execution_count": null,
      "outputs": []
    },
    {
      "cell_type": "code",
      "source": [
        "#reverse linked list\n",
        "class ListNode(object):\n",
        "    def __init__(self, val=0, next=None):\n",
        "        self.val = val\n",
        "        self.next = next\n",
        "class Solution(object):\n",
        "\n",
        "    def reverseList(self, head):\n",
        "      if head is None:\n",
        "        return None\n",
        "\n",
        "      prev= None\n",
        "      current= head\n",
        "      while current:\n",
        "        current.next= prev\n",
        "        prev= current\n",
        "        current= current.next\n",
        "      return prev\n"
      ],
      "metadata": {
        "id": "DMvVc67YBzCk"
      },
      "execution_count": null,
      "outputs": []
    },
    {
      "cell_type": "code",
      "source": [
        "class Node:\n",
        "  def __init__(self,value):\n",
        "    self.value= value\n",
        "    self.next= None\n",
        "\n",
        "\n",
        "class LinkedList:\n",
        "  def __init__(self):\n",
        "    self.head= None\n",
        "    self.tail= None\n",
        "    self.length= 0\n",
        "\n",
        "  def append(self,value):\n",
        "    newnode= Node(value)\n",
        "    if self.head is None:\n",
        "      self.head= newnode\n",
        "      self.tail= newnode\n",
        "    else:\n",
        "      self.tail.next= newnode\n",
        "      self.tail= self.tail.next\n",
        "    self.length += 1\n",
        "\n",
        "  def reverse(self):\n",
        "    prev= None\n",
        "    current= self.head\n",
        "    while current:\n",
        "      next= current.next\n",
        "      current.next= prev\n",
        "      prev= current\n",
        "      current= next\n",
        "    self.head= prev\n",
        "\n",
        "\n",
        "  def __str__(self):\n",
        "    temp_node= self.head\n",
        "    res= ''\n",
        "    while temp_node:\n",
        "      res += str(temp_node.value)\n",
        "      if temp_node.next is not None:\n",
        "        res += ' --> '\n",
        "      temp_node= temp_node.next\n",
        "    return res\n",
        "\n",
        "\n",
        "newlinkedlist= LinkedList()\n",
        "newlinkedlist.append(1)\n",
        "newlinkedlist.append(2)\n",
        "newlinkedlist.append(3)\n",
        "newlinkedlist.append(4)\n",
        "newlinkedlist.append(5)\n",
        "print(newlinkedlist)\n",
        "newlinkedlist.reverse()\n",
        "print(newlinkedlist)\n"
      ],
      "metadata": {
        "id": "I4rwWXnuNnAW",
        "colab": {
          "base_uri": "https://localhost:8080/"
        },
        "outputId": "2fde5cb0-263d-40dc-b155-38b07e046065"
      },
      "execution_count": null,
      "outputs": [
        {
          "output_type": "stream",
          "name": "stdout",
          "text": [
            "1 --> 2 --> 3 --> 4 --> 5\n",
            "5 --> 4 --> 3 --> 2 --> 1\n"
          ]
        }
      ]
    },
    {
      "cell_type": "code",
      "source": [
        "#Find palindrome\n",
        "class Node:\n",
        "  def __init__(self,value):\n",
        "    self.value= value\n",
        "    self.next= None\n",
        "\n",
        "\n",
        "class LinkedList:\n",
        "  def __init__(self):\n",
        "    self.head= None\n",
        "    self.tail= None\n",
        "    self.length= 0\n",
        "\n",
        "  def append(self,value):\n",
        "    newnode= Node(value)\n",
        "    if self.head is None:\n",
        "      self.head= newnode\n",
        "      self.tail= newnode\n",
        "    else:\n",
        "      self.tail.next= newnode\n",
        "      self.tail= self.tail.next\n",
        "    self.length += 1\n",
        "\n",
        "  def palindrome(self):\n",
        "    prev= None\n",
        "    current= self.head\n",
        "    while current:\n",
        "      next= current.next\n",
        "      current.next= prev\n",
        "      prev= current\n",
        "      current= next\n",
        "    current= self.head\n",
        "\n",
        "    while current and prev:\n",
        "      if current.value != prev.value:\n",
        "        return False\n",
        "      current= current.next\n",
        "      prev= prev.next\n",
        "    return True\n",
        "\n",
        "\n",
        "  def __str__(self):\n",
        "    temp_node= self.head\n",
        "    res= ''\n",
        "    while temp_node:\n",
        "      res += str(temp_node.value)\n",
        "      if temp_node.next is not None:\n",
        "        res += ' --> '\n",
        "      temp_node= temp_node.next\n",
        "    return res\n",
        "\n",
        "\n",
        "newlinkedlist= LinkedList()\n",
        "newlinkedlist.append(1)\n",
        "newlinkedlist.append(2)\n",
        "newlinkedlist.append(2)\n",
        "newlinkedlist.append(1)\n",
        "print(newlinkedlist)\n",
        "newlinkedlist.palindrome()\n"
      ],
      "metadata": {
        "colab": {
          "base_uri": "https://localhost:8080/"
        },
        "id": "RlMx0D4oTg1v",
        "outputId": "9dfd431a-68c3-4466-9e4a-ea34aa3d05cc"
      },
      "execution_count": null,
      "outputs": [
        {
          "output_type": "stream",
          "name": "stdout",
          "text": [
            "1 --> 2 --> 2 --> 1\n"
          ]
        },
        {
          "output_type": "execute_result",
          "data": {
            "text/plain": [
              "True"
            ]
          },
          "metadata": {},
          "execution_count": 42
        }
      ]
    },
    {
      "cell_type": "code",
      "source": [
        "#Middle of linked list\n",
        "class ListNode(object):\n",
        "    def __init__(self, val=0, next=None):\n",
        "        self.val = val\n",
        "        self.next = next\n",
        "\n",
        "class Solution(object):\n",
        "    def middleNode(self, head):\n",
        "        current= head\n",
        "        while current and current.next:\n",
        "            head= head.next\n",
        "            current= current.next.next\n",
        "        return head\n",
        "\n"
      ],
      "metadata": {
        "id": "mp3sPSqmeDGv"
      },
      "execution_count": null,
      "outputs": []
    },
    {
      "cell_type": "code",
      "source": [
        "#Swap nodes\n",
        "class Node:\n",
        "  def __init__(self,value):\n",
        "    self.value= value\n",
        "    self.next= None\n",
        "\n",
        "\n",
        "class LinkedList:\n",
        "  def __init__(self):\n",
        "    self.head= None\n",
        "    self.tail= None\n",
        "    self.length= 0\n",
        "\n",
        "  def append(self,value):\n",
        "    newnode= Node(value)\n",
        "    if self.head is None:\n",
        "      self.head= newnode\n",
        "      self.tail= newnode\n",
        "    else:\n",
        "      self.tail.next= newnode\n",
        "      self.tail= self.tail.next\n",
        "    self.length += 1\n",
        "\n",
        "  def swap_nodes(self):\n",
        "    current= self.head\n",
        "    while current and current.next:\n",
        "      current.value,current.next.value= current.next.value,current.value\n",
        "      current= current.next.next\n",
        "\n",
        "    # prev= FileNotFoundError(0)\n",
        "    # while current and current.next:\n",
        "    #   prev.next= current.next\n",
        "    #   prev.next.next= current\n",
        "    #   prev= current\n",
        "    #   current= current.next\n",
        "    # return prev.next\n",
        "\n",
        "\n",
        "\n",
        "\n",
        "  def __str__(self):\n",
        "    temp_node= self.head\n",
        "    res= ''\n",
        "    while temp_node:\n",
        "      res += str(temp_node.value)\n",
        "      if temp_node.next is not None:\n",
        "        res += ' --> '\n",
        "      temp_node= temp_node.next\n",
        "    return res\n",
        "\n",
        "\n",
        "newlinkedlist= LinkedList()\n",
        "newlinkedlist.append(1)\n",
        "newlinkedlist.append(2)\n",
        "newlinkedlist.append(3)\n",
        "# newlinkedlist.append(4)\n",
        "print(newlinkedlist)\n",
        "newlinkedlist.swap_nodes()\n",
        "print(newlinkedlist)"
      ],
      "metadata": {
        "id": "xzyqeS3Fm3q8",
        "colab": {
          "base_uri": "https://localhost:8080/"
        },
        "outputId": "e657f572-cc5e-4050-b567-3643481899bc"
      },
      "execution_count": null,
      "outputs": [
        {
          "output_type": "stream",
          "name": "stdout",
          "text": [
            "1 --> 2 --> 3\n",
            "2 --> 1 --> 3\n"
          ]
        }
      ]
    },
    {
      "cell_type": "markdown",
      "source": [
        "# **Circular Single Linked List practice problems**"
      ],
      "metadata": {
        "id": "NilGrdco6awk"
      }
    },
    {
      "cell_type": "code",
      "source": [
        "#Implement Circular Singly Linked List\n",
        "class Node:\n",
        "  def __init__(self,value):\n",
        "    self.value= value\n",
        "    self.next= None\n",
        "\n",
        "class CSLinkedList:\n",
        "  def __init__(self):\n",
        "    self.head= None\n",
        "    self.tail=None\n",
        "    self.length=0\n",
        "\n",
        "  def prepend(self,value):\n",
        "    newnode= Node(value)\n",
        "    if self.head is None:\n",
        "      self.head= newnode\n",
        "      self.tail= newnode\n",
        "      newnode.next= newnode\n",
        "    else:\n",
        "      newnode.next= self.head\n",
        "      self.head= newnode\n",
        "      self.tail.next= newnode\n",
        "    self.length += 1\n",
        "\n",
        "  def append(self,value):\n",
        "    newnode= Node(value)\n",
        "    if self.head is None:\n",
        "      self.head= newnode\n",
        "      self.tail= newnode\n",
        "      newnode.next= newnode\n",
        "    else:\n",
        "      self.tail.next= newnode\n",
        "      newnode.next= self.head\n",
        "      self.tail= newnode\n",
        "    self.length += 1\n",
        "\n",
        "  def __str__(self):\n",
        "    temp_node= self.head\n",
        "    res=''\n",
        "    while temp_node:\n",
        "      res += str(temp_node.value)\n",
        "      temp_node= temp_node.next\n",
        "      if temp_node == self.head:\n",
        "        break\n",
        "      res += ' --> '\n",
        "    return res\n",
        "\n",
        "\n",
        "cslinkedlist= CSLinkedList()\n",
        "cslinkedlist.append(10)\n",
        "cslinkedlist.append(20)\n",
        "cslinkedlist.prepend(50)\n",
        "cslinkedlist.append(30)\n",
        "cslinkedlist.append(40)\n",
        "print(cslinkedlist)"
      ],
      "metadata": {
        "colab": {
          "base_uri": "https://localhost:8080/"
        },
        "id": "bQ8fo6fzWzB2",
        "outputId": "cc6a4826-c048-42a0-f515-ae5ff5bd81c0"
      },
      "execution_count": null,
      "outputs": [
        {
          "output_type": "stream",
          "name": "stdout",
          "text": [
            "50 --> 10 --> 20 --> 30 --> 40\n"
          ]
        }
      ]
    },
    {
      "cell_type": "code",
      "source": [
        "# Delete a Node from a Circular Singly Linked List\n",
        "class Node:\n",
        "    def __init__(self, value):\n",
        "        self.value = value\n",
        "        self.next = None\n",
        "\n",
        "    def __str__(self):\n",
        "        return str(self.value)\n",
        "\n",
        "class CSLinkedList:\n",
        "    def __init__(self):\n",
        "        self.head = None\n",
        "        self.tail = None\n",
        "        self.length = 0\n",
        "\n",
        "    def __str__(self):\n",
        "        temp_node = self.head\n",
        "        result = ''\n",
        "        while temp_node is not None:\n",
        "            result += str(temp_node.value)\n",
        "            temp_node = temp_node.next\n",
        "            if temp_node == self.head:  # Stop condition for circular list\n",
        "                break\n",
        "            result += ' -> '\n",
        "        return result\n",
        "\n",
        "    def append(self, value):\n",
        "        new_node = Node(value)\n",
        "        if self.length == 0:\n",
        "            self.head = new_node\n",
        "            self.tail = new_node\n",
        "            new_node.next = new_node\n",
        "        else:\n",
        "            self.tail.next = new_node\n",
        "            new_node.next = self.head\n",
        "            self.tail = new_node\n",
        "        self.length += 1\n",
        "\n",
        "    def delete_by_value(self, value):\n",
        "        if self.length == 0:\n",
        "          return []\n",
        "\n",
        "        if self.head == self.tail and self.head.value == value:\n",
        "          self.head= None\n",
        "          self.tail= None\n",
        "          self.length = 0\n",
        "\n",
        "        prev= None\n",
        "        curr= self.head\n",
        "        while True:\n",
        "          if curr.value == value:\n",
        "            if curr == self.head:\n",
        "              self.tail.next= self.head.next\n",
        "              self.head= self.head.next\n",
        "            else:\n",
        "              prev.next= curr.next\n",
        "              if curr == self.tail:\n",
        "                self.tail= prev\n",
        "            self.length -= 1\n",
        "            return True\n",
        "\n",
        "          else:\n",
        "            prev= curr\n",
        "            curr= curr.next\n",
        "          if curr == self.head:\n",
        "            break\n",
        "\n",
        "cslinkedlist= CSLinkedList()\n",
        "cslinkedlist.append(10)\n",
        "cslinkedlist.append(20)\n",
        "cslinkedlist.append(30)\n",
        "cslinkedlist.append(40)\n",
        "cslinkedlist.delete_by_value(30)\n",
        "cslinkedlist.delete_by_value(10)\n",
        "print(cslinkedlist)"
      ],
      "metadata": {
        "colab": {
          "base_uri": "https://localhost:8080/"
        },
        "id": "6SmD3H4u6Zz2",
        "outputId": "eba76b93-b282-44b5-dbe1-0e8de3006e73"
      },
      "execution_count": null,
      "outputs": [
        {
          "output_type": "stream",
          "name": "stdout",
          "text": [
            "20 -> 40\n"
          ]
        }
      ]
    },
    {
      "cell_type": "code",
      "source": [
        "#count number of nodes\n",
        "class Node:\n",
        "    def __init__(self, value):\n",
        "        self.value = value\n",
        "        self.next = None\n",
        "\n",
        "    def __str__(self):\n",
        "        return str(self.value)\n",
        "\n",
        "class CSLinkedList:\n",
        "    def __init__(self):\n",
        "        self.head = None\n",
        "        self.tail = None\n",
        "        self.length = 0\n",
        "\n",
        "    def __str__(self):\n",
        "        temp_node = self.head\n",
        "        result = ''\n",
        "        while temp_node is not None:\n",
        "            result += str(temp_node.value)\n",
        "            temp_node = temp_node.next\n",
        "            if temp_node == self.head:  # Stop condition for circular list\n",
        "                break\n",
        "            result += ' -> '\n",
        "        return result\n",
        "\n",
        "    def append(self, value):\n",
        "        new_node = Node(value)\n",
        "        if self.length == 0:\n",
        "            self.head = new_node\n",
        "            self.tail = new_node\n",
        "            new_node.next = new_node\n",
        "        else:\n",
        "            self.tail.next = new_node\n",
        "            new_node.next = self.head\n",
        "            self.tail = new_node\n",
        "        self.length += 1\n",
        "\n",
        "\n",
        "    def count_node(self):\n",
        "      count= 0\n",
        "      curr= self.head\n",
        "      for _ in range(self.length):\n",
        "        curr= curr.next\n",
        "        count += 1\n",
        "      return count\n",
        "\n",
        "\n",
        "cslinkedlist= CSLinkedList()\n",
        "cslinkedlist.append(10)\n",
        "cslinkedlist.append(20)\n",
        "cslinkedlist.append(30)\n",
        "cslinkedlist.append(40)\n",
        "cslinkedlist.append(50)\n",
        "cslinkedlist.append(60)\n",
        "print(cslinkedlist.count_node())"
      ],
      "metadata": {
        "colab": {
          "base_uri": "https://localhost:8080/"
        },
        "id": "kKOcvYgHBbZ8",
        "outputId": "64f6b9c8-1c8a-4e2e-f25c-f960d93fb80d"
      },
      "execution_count": null,
      "outputs": [
        {
          "output_type": "stream",
          "name": "stdout",
          "text": [
            "6\n"
          ]
        }
      ]
    },
    {
      "cell_type": "code",
      "source": [
        "# Split a Circular Linked List into Two Equal Halves\n",
        "class Node:\n",
        "    def __init__(self, value):\n",
        "        self.value = value\n",
        "        self.next = None\n",
        "\n",
        "    def __str__(self):\n",
        "        return str(self.value)\n",
        "\n",
        "class CSLinkedList:\n",
        "    def __init__(self):\n",
        "        self.head = None\n",
        "        self.tail = None\n",
        "        self.length = 0\n",
        "\n",
        "    def __str__(self):\n",
        "        temp_node = self.head\n",
        "        result = ''\n",
        "        while temp_node is not None:\n",
        "            result += str(temp_node.value)\n",
        "            temp_node = temp_node.next\n",
        "            if temp_node == self.head:  # Stop condition for circular list\n",
        "                break\n",
        "            result += ' -> '\n",
        "        return result\n",
        "\n",
        "    def append(self, value):\n",
        "        new_node = Node(value)\n",
        "        if self.length == 0:\n",
        "            self.head = new_node\n",
        "            self.tail = new_node\n",
        "            new_node.next = new_node\n",
        "        else:\n",
        "            self.tail.next = new_node\n",
        "            new_node.next = self.head\n",
        "            self.tail = new_node\n",
        "        self.length += 1\n",
        "\n",
        "    def split_list(self):\n",
        "        if self.length == 0:\n",
        "          return None,None\n",
        "\n",
        "        mid= (self.length + 1)//2\n",
        "        first_list= CSLinkedList()\n",
        "        second_list= CSLinkedList()\n",
        "        count = 1\n",
        "        curr= self.head\n",
        "        while count <= mid:\n",
        "          first_list.append(curr.value)\n",
        "          last_first_list= curr\n",
        "          curr= curr.next\n",
        "          count += 1\n",
        "\n",
        "        if last_first_list:\n",
        "          first_list.tail= last_first_list\n",
        "          first_list.tail= first_list.head\n",
        "\n",
        "        while curr != self.head:\n",
        "          second_list.append(curr.value)\n",
        "          curr= curr.next\n",
        "\n",
        "        if second_list.length > 0:\n",
        "          second_list.tail= self.tail\n",
        "          second_list.tail.next= second_list.head\n",
        "\n",
        "        return first_list,second_list\n",
        "\n",
        "\n",
        "\n",
        "cslinkedlist= CSLinkedList()\n",
        "cslinkedlist.append(10)\n",
        "cslinkedlist.append(20)\n",
        "cslinkedlist.append(30)\n",
        "cslinkedlist.append(40)\n",
        "cslinkedlist.append(50)\n",
        "cslinkedlist.append(60)\n",
        "print(cslinkedlist.split_list())\n"
      ],
      "metadata": {
        "colab": {
          "base_uri": "https://localhost:8080/"
        },
        "id": "YMLD3eSyA527",
        "outputId": "d5b143f3-29c9-4fb1-e07a-3fd258d17c79"
      },
      "execution_count": null,
      "outputs": [
        {
          "output_type": "stream",
          "name": "stdout",
          "text": [
            "(<__main__.CSLinkedList object at 0x7ba835863340>, <__main__.CSLinkedList object at 0x7ba835863280>)\n"
          ]
        }
      ]
    },
    {
      "cell_type": "code",
      "source": [
        "# Check if a Circular Linked List is Sorted\n",
        "class Node:\n",
        "    def __init__(self, data):\n",
        "        self.data = data\n",
        "        self.next = None\n",
        "\n",
        "class CircularLinkedList:\n",
        "    def __init__(self):\n",
        "        self.head = None\n",
        "\n",
        "    def append(self, data):\n",
        "        new_node = Node(data)\n",
        "        if not self.head:\n",
        "            self.head = new_node\n",
        "            self.head.next = self.head\n",
        "        else:\n",
        "            temp = self.head\n",
        "            while temp.next != self.head:\n",
        "                temp = temp.next\n",
        "            temp.next = new_node\n",
        "            new_node.next = self.head\n",
        "\n",
        "    def print_list(self):\n",
        "        nodes = []\n",
        "        temp = self.head\n",
        "        while temp:\n",
        "            nodes.append(str(temp.data))\n",
        "            temp = temp.next\n",
        "            if temp == self.head:\n",
        "                break\n",
        "        print(\" -> \".join(nodes))\n",
        "\n",
        "    def is_sorted(self):\n",
        "        if self.head is None:\n",
        "            return True\n",
        "        if self.head == self.head.next:\n",
        "            return True\n",
        "\n",
        "        curr= self.head\n",
        "        while curr:\n",
        "          if curr.data > curr.next.data:\n",
        "              temp_node=curr.next\n",
        "              curr.next= curr\n",
        "              curr= temp_node\n",
        "              return False\n",
        "          curr= curr.next\n",
        "          return True\n",
        "\n",
        "          if curr == self.head:\n",
        "            break\n",
        "\n",
        "\n",
        "cslinkedlist= CircularLinkedList()\n",
        "cslinkedlist.append(10)\n",
        "cslinkedlist.append(30)\n",
        "cslinkedlist.append(50)\n",
        "cslinkedlist.append(20)\n",
        "cslinkedlist.append(40)\n",
        "cslinkedlist.append(60)\n",
        "cslinkedlist.is_sorted()\n",
        "print(cslinkedlist)\n"
      ],
      "metadata": {
        "colab": {
          "base_uri": "https://localhost:8080/"
        },
        "id": "NtTJ5f1pGydj",
        "outputId": "7e864e75-051d-4766-9bd1-e6bb791b6a6d"
      },
      "execution_count": null,
      "outputs": [
        {
          "output_type": "stream",
          "name": "stdout",
          "text": [
            "<__main__.CircularLinkedList object at 0x78636a464c10>\n"
          ]
        }
      ]
    },
    {
      "cell_type": "code",
      "source": [
        "# Insert into a Sorted Circular Linked List\n",
        "class Node:\n",
        "    def __init__(self, data):\n",
        "        self.data = data\n",
        "        self.next = None\n",
        "\n",
        "class CircularLinkedList:\n",
        "    def __init__(self):\n",
        "        self.head = None\n",
        "\n",
        "    def append(self, data):\n",
        "        new_node = Node(data)\n",
        "        if not self.head:\n",
        "            self.head = new_node\n",
        "            self.head.next = new_node\n",
        "        else:\n",
        "            temp = self.head\n",
        "            while temp.next != self.head:\n",
        "                temp = temp.next\n",
        "            temp.next = new_node\n",
        "            new_node.next = self.head\n",
        "\n",
        "    def prepend(self, data):\n",
        "        new_node = Node(data)\n",
        "        if not self.head:\n",
        "            self.head = new_node\n",
        "            new_node.next = new_node\n",
        "        else:\n",
        "            new_node.next = self.head\n",
        "            temp = self.head\n",
        "            while temp.next != self.head:\n",
        "                temp = temp.next\n",
        "            temp.next = new_node\n",
        "            self.head = new_node\n",
        "\n",
        "\n",
        "    def insert_into_sorted(self, data):\n",
        "      newnode= Node(data)\n",
        "      if self.head is None:\n",
        "        self.head= newnode\n",
        "        newnode.next= newnode\n",
        "      elif data <= self.head.data:\n",
        "        self.prepend(data)\n",
        "      else:\n",
        "        curr= self.head\n",
        "        prev= None\n",
        "        curr = self.head\n",
        "        while curr.next != self.head and curr.next.data < data:\n",
        "            curr = curr.next\n",
        "\n",
        "        newnode.next = curr.next\n",
        "        curr.next = newnode\n",
        "\n",
        "\n",
        "\n",
        "cslinkedlist= CircularLinkedList()\n",
        "cslinkedlist.append(10)\n",
        "cslinkedlist.append(20)\n",
        "cslinkedlist.append(40)\n",
        "cslinkedlist.append(50)\n",
        "cslinkedlist.insert_into_sorted(30)\n",
        "print(cslinkedlist)\n",
        "\n"
      ],
      "metadata": {
        "colab": {
          "base_uri": "https://localhost:8080/"
        },
        "id": "zKIml-oxmWqb",
        "outputId": "8bd65b11-bfce-4829-dd1c-822df7a7cb4a"
      },
      "execution_count": null,
      "outputs": [
        {
          "output_type": "stream",
          "name": "stdout",
          "text": [
            "<__main__.CircularLinkedList object at 0x786334d34ee0>\n"
          ]
        }
      ]
    },
    {
      "cell_type": "markdown",
      "source": [
        "# **Stack and Queue Problems**"
      ],
      "metadata": {
        "id": "J4JS_5wVl0XF"
      }
    },
    {
      "cell_type": "code",
      "source": [
        "#How single python list ot implement 3 stack\n",
        "class MultiStack:\n",
        "  def __init__(self,stacksize):\n",
        "    self.numstack=3\n",
        "    self.custlist= [0]* (stacksize*self.numstack)\n",
        "    self.sizes= [0]* self.numstack   #no. of element in the stack\n",
        "    self.stacksize= stacksize\n",
        "\n",
        "  def isFull(self,stacknum):\n",
        "    if self.sizes[stacknum] == self.stacksize:\n",
        "      return True\n",
        "    else:\n",
        "      return False\n",
        "\n",
        "  def isEmpty(self,stacknum):\n",
        "    if self.sizes[stacknum] == 0:\n",
        "      return True\n",
        "    else:\n",
        "      return False\n",
        "\n",
        "  def indextotop(self,stacknum):\n",
        "    offset= stacknum * self.stacksize\n",
        "    return offset * self.sizes[stacknum]-1\n",
        "\n",
        "  def push(self,value,stacknum):\n",
        "    if self.isFull(stacknum):\n",
        "      return \"The stack is Full\"\n",
        "    else:\n",
        "      self.sizes[stacknum] += 1\n",
        "      self.custlist[self.indextotop(stacknum)]= value\n",
        "\n",
        "  def pop(self,stacknum):\n",
        "    if self.isEmpty(stacknum):\n",
        "      return \"The stack is empty\"\n",
        "    else:\n",
        "      value= self.custlist[self.indextotop(stacknum)]\n",
        "      self.custlist[self.indextotop(stacknum)]= 0\n",
        "      self.sizes[stacknum] -= 1\n",
        "      return value\n",
        "\n",
        "  def peek(self,stacknum):\n",
        "    if self.isEmpty(stacknum):\n",
        "      return \"The stack is empty\"\n",
        "    else:\n",
        "      value= self.custlist[self.indextotop(stacknum)]\n",
        "      return value\n",
        "\n",
        "stack= MultiStack(6)\n",
        "print(stack.isFull(0))\n",
        "print(stack.isEmpty(0))\n",
        "stack.push(1,0)\n",
        "stack.push(2,0)\n",
        "stack.push(3,2)\n",
        "print(stack)\n",
        "print(stack.peek(0))"
      ],
      "metadata": {
        "colab": {
          "base_uri": "https://localhost:8080/"
        },
        "id": "sq3DMcmgl832",
        "outputId": "3859e6d5-78ed-438b-ef11-6426a757a852"
      },
      "execution_count": null,
      "outputs": [
        {
          "output_type": "stream",
          "name": "stdout",
          "text": [
            "False\n",
            "True\n",
            "<__main__.MultiStack object at 0x7e84887a8b50>\n",
            "2\n"
          ]
        }
      ]
    },
    {
      "cell_type": "code",
      "source": [
        "#stack return minimum element\n",
        "class Stack:\n",
        "  def __init__(self):\n",
        "    self.list=[]\n",
        "    self.min_stack=[]\n",
        "\n",
        "  def __str__(self):\n",
        "    values= [str(x) for x in reversed(self.list)]\n",
        "    return '\\n'.join(values)\n",
        "\n",
        "  def push(self,value):\n",
        "    self.list.append(value)\n",
        "    if not self.min_stack or value <= self.min_stack[-1]:\n",
        "      self.min_stack.append(value)\n",
        "\n",
        "  def pop(self):\n",
        "    if not self.list:\n",
        "      return None\n",
        "    popped_value= self.list.pop()\n",
        "    if self.min_stack[-1] == popped_value:\n",
        "      self.min_stack.pop()\n",
        "    return popped_value\n",
        "\n",
        "  def minimum(self):\n",
        "    if not self.list:\n",
        "      return None\n",
        "    return self.min_stack[-1]\n",
        "\n",
        "\n",
        "stack1= Stack()\n",
        "stack1.push(5)\n",
        "stack1.push(2)\n",
        "stack1.minimum()\n",
        "stack1.push(1)\n",
        "stack1.minimum()\n",
        "stack1.push(6)\n",
        "stack1.minimum()\n",
        "stack1.pop()\n",
        "stack1.minimum()\n",
        "\n",
        "#Time complexity: O(1)\n"
      ],
      "metadata": {
        "colab": {
          "base_uri": "https://localhost:8080/"
        },
        "id": "HaYU_8pfppc6",
        "outputId": "cf0291e8-28f1-4f46-dedc-8baac42af8f1"
      },
      "execution_count": null,
      "outputs": [
        {
          "output_type": "stream",
          "name": "stdout",
          "text": [
            "<__main__.MultiStack object at 0x7e84887a8b50>\n"
          ]
        }
      ]
    },
    {
      "cell_type": "markdown",
      "source": [
        "# **Recursion Problems**"
      ],
      "metadata": {
        "id": "kMTYie1lOVZS"
      }
    },
    {
      "cell_type": "code",
      "source": [
        "#Find the sum of digits of positive interger number using recursion\n",
        "def sum_digit(n):\n",
        "  if n < 0:\n",
        "    return \"The number has only positive integer\"\n",
        "  elif n == 0:\n",
        "    return 0\n",
        "  else:\n",
        "    return int(n%10) + sum_digit(int(n//10))\n",
        "\n",
        "n= 24\n",
        "print(sum_digit(n))\n",
        "\n",
        "n1= 224\n",
        "print(sum_digit(n1))\n",
        "\n",
        "n2= 1234\n",
        "print(sum_digit(n2))\n",
        "\n",
        "n3= 1\n",
        "print(sum_digit(n3))"
      ],
      "metadata": {
        "id": "GoGZn0eNS-4s",
        "colab": {
          "base_uri": "https://localhost:8080/"
        },
        "outputId": "e8784ad6-ee6f-43bc-def2-c1c7a27bebd5"
      },
      "execution_count": null,
      "outputs": [
        {
          "output_type": "stream",
          "name": "stdout",
          "text": [
            "6\n",
            "8\n",
            "10\n",
            "1\n"
          ]
        }
      ]
    },
    {
      "cell_type": "code",
      "source": [
        "#Power of number using recursion\n",
        "def power(x,n):\n",
        "  if n == 0:\n",
        "    return 1\n",
        "  elif n == 1:\n",
        "    return x\n",
        "  elif n < 0:\n",
        "    return 1/x * power(x,n-1)\n",
        "  else:\n",
        "    return x * power(x,n-1)\n",
        "\n",
        "x= 2\n",
        "n=5\n",
        "print(power(x,n))\n",
        "\n",
        "x1= 5\n",
        "n1=0\n",
        "print(power(x1,n1))\n",
        "\n",
        "x2= 4\n",
        "n2= 1\n",
        "print(power(x2,n2))"
      ],
      "metadata": {
        "id": "h6XISz4eymv3",
        "colab": {
          "base_uri": "https://localhost:8080/"
        },
        "outputId": "77566c81-0aab-42d2-c178-9287ee256c0e"
      },
      "execution_count": null,
      "outputs": [
        {
          "output_type": "stream",
          "name": "stdout",
          "text": [
            "32\n",
            "1\n",
            "4\n"
          ]
        }
      ]
    },
    {
      "cell_type": "code",
      "source": [
        "#Find GCD of  number\n",
        "def gcd(a,b):\n",
        "  if a < 0:\n",
        "    a = -1*a\n",
        "  if b < 0:\n",
        "    b = -1* b\n",
        "  if b == 0:\n",
        "    return a\n",
        "  elif a != int(a) or b != int(b):\n",
        "    return \"Number should be integer\"\n",
        "  else:\n",
        "    return gcd(b,a%b)\n",
        "\n",
        "n1= 48\n",
        "n2= 18\n",
        "print(gcd(n1,n2))\n",
        "\n",
        "\n",
        "n3=  12\n",
        "n4= 0\n",
        "print(gcd(n3,n4))\n",
        "\n",
        "n5=  12\n",
        "n6= -16\n",
        "print(gcd(n5,n6))\n",
        "\n",
        "n5=  12\n",
        "n6= 2.4\n",
        "print(gcd(n5,n6))"
      ],
      "metadata": {
        "colab": {
          "base_uri": "https://localhost:8080/"
        },
        "id": "HwTfhT4VJy1_",
        "outputId": "77f34f88-3ae1-4588-c819-7a2618dbe81d"
      },
      "execution_count": null,
      "outputs": [
        {
          "output_type": "stream",
          "name": "stdout",
          "text": [
            "6\n",
            "12\n",
            "4\n",
            "Number should be integer\n"
          ]
        }
      ]
    },
    {
      "cell_type": "code",
      "source": [
        "# Decimal to binary\n",
        "# step1: Divide number of integer by 2\n",
        "# step2: Get interger quotient for next iteration\n",
        "# step3: Get remider for binary digits\n",
        "# step4: Repeat until quoient euqal to 1\n",
        "\n",
        "def decimal2bin(n):\n",
        "  if n < 0:\n",
        "    return \"Value should be positve integer\"\n",
        "  elif n == 1 or n == 0:\n",
        "    return n\n",
        "  else:\n",
        "    return (n%2) + 10* decimal2bin(int(n/2))\n",
        "\n",
        "n= 16\n",
        "print(decimal2bin(n))"
      ],
      "metadata": {
        "colab": {
          "base_uri": "https://localhost:8080/"
        },
        "id": "wgtyJDPcLYno",
        "outputId": "7848754f-b3bf-4332-cce6-46327151cb20"
      },
      "execution_count": null,
      "outputs": [
        {
          "output_type": "stream",
          "name": "stdout",
          "text": [
            "10000\n"
          ]
        }
      ]
    },
    {
      "cell_type": "code",
      "source": [
        "#product of array\n",
        "def productOfArray(arr):\n",
        "    if len(arr) == 0:\n",
        "      return 1\n",
        "    elif len(arr) == 1:\n",
        "        return arr[0]\n",
        "    else:\n",
        "        product= arr[0] * productOfArray(arr[1:])\n",
        "        return product\n",
        "\n",
        "arr= [1,2,3]\n",
        "print(productOfArray(arr))\n"
      ],
      "metadata": {
        "id": "fVgWc814O3ZG",
        "colab": {
          "base_uri": "https://localhost:8080/"
        },
        "outputId": "eda257c2-27b5-4faa-ef05-9d728844085a"
      },
      "execution_count": null,
      "outputs": [
        {
          "output_type": "stream",
          "name": "stdout",
          "text": [
            "6\n"
          ]
        }
      ]
    },
    {
      "cell_type": "code",
      "source": [
        "#Recursive range\n",
        "def recursiveRange(num):\n",
        "  if num < 0:\n",
        "    return 0\n",
        "  else:\n",
        "    return int(num) + recursiveRange(int(num)-1)\n",
        "\n",
        "num= 6\n",
        "print(recursiveRange(num))\n",
        "\n",
        "num1= 55\n",
        "print(recursiveRange(num1))\n"
      ],
      "metadata": {
        "id": "QjwlDscOJhLN",
        "colab": {
          "base_uri": "https://localhost:8080/"
        },
        "outputId": "bb7c7f2a-0bd7-4966-ce11-5c21da5e2ec4"
      },
      "execution_count": null,
      "outputs": [
        {
          "output_type": "stream",
          "name": "stdout",
          "text": [
            "21\n",
            "1540\n"
          ]
        }
      ]
    },
    {
      "cell_type": "code",
      "source": [
        "#fibonacci series\n",
        "def fib(num):\n",
        "    if num == 0 or num == 1:\n",
        "        return num\n",
        "    else:\n",
        "        return fib(num-1) + fib(num-2)\n",
        "\n",
        "n= 4\n",
        "print(fib(n))\n",
        "\n",
        "n1= 10\n",
        "print(fib(n1))\n",
        "\n",
        "n2= 28\n",
        "print(fib(n2))\n",
        "\n",
        "n3= 35\n",
        "print(fib(n3))"
      ],
      "metadata": {
        "id": "vNJ7zQNTgFVm",
        "colab": {
          "base_uri": "https://localhost:8080/"
        },
        "outputId": "57959b03-aaca-408c-f1c6-4011d4ab27af"
      },
      "execution_count": null,
      "outputs": [
        {
          "output_type": "stream",
          "name": "stdout",
          "text": [
            "3\n",
            "55\n",
            "317811\n",
            "9227465\n"
          ]
        }
      ]
    },
    {
      "cell_type": "code",
      "source": [
        "#reverse\n",
        "def reverse(string):\n",
        "  if len(string) == 0:\n",
        "    return ''\n",
        "  else:\n",
        "    return string[-1]  + reverse(string[:-1])\n",
        "\n",
        "\n",
        "string= 'python'\n",
        "print(reverse(string))\n"
      ],
      "metadata": {
        "id": "HayVvBUaGhKh",
        "colab": {
          "base_uri": "https://localhost:8080/"
        },
        "outputId": "f22e1738-eaa8-40fc-a10b-fa527c28ea89"
      },
      "execution_count": null,
      "outputs": [
        {
          "output_type": "stream",
          "name": "stdout",
          "text": [
            "nohtyp\n"
          ]
        }
      ]
    },
    {
      "cell_type": "code",
      "source": [
        "#Palindrome\n",
        "def isPalindrome(strng):\n",
        "  if len(strng) == 0:\n",
        "    return True\n",
        "  else:\n",
        "    return strng[0] == strng[-1] and isPalindrome(strng[1:-1])\n",
        "\n",
        "s1= 'awesome'\n",
        "print(isPalindrome(s1))\n",
        "\n",
        "s2= 'tacocat'\n",
        "print(isPalindrome(s2))"
      ],
      "metadata": {
        "colab": {
          "base_uri": "https://localhost:8080/"
        },
        "id": "LhDM8YYrwd9T",
        "outputId": "3b6f4462-454c-4d4b-8504-aa5edc3bd721"
      },
      "execution_count": null,
      "outputs": [
        {
          "output_type": "stream",
          "name": "stdout",
          "text": [
            "False\n",
            "True\n"
          ]
        }
      ]
    },
    {
      "cell_type": "code",
      "source": [
        "#Some recursive\n",
        "def isOdd(num):\n",
        "    if num%2==0:\n",
        "        return False\n",
        "    else:\n",
        "        return True\n",
        "\n",
        "def someRecursive(arr, cb):\n",
        "  if len(arr) == 0:\n",
        "    return False\n",
        "  elif cb(arr[0]):\n",
        "    return True\n",
        "  else:\n",
        "    return someRecursive(arr[1:],cb)\n",
        "\n",
        "arr= [1,2,3,4]\n",
        "print(someRecursive(arr, isOdd))"
      ],
      "metadata": {
        "colab": {
          "base_uri": "https://localhost:8080/"
        },
        "id": "mda1ZqYvxxvj",
        "outputId": "599d00d1-267f-4e2b-952d-f2ed67abfb60"
      },
      "execution_count": null,
      "outputs": [
        {
          "output_type": "stream",
          "name": "stdout",
          "text": [
            "True\n"
          ]
        }
      ]
    },
    {
      "cell_type": "code",
      "source": [
        "#Flatten\n",
        "def flatten(arr):\n",
        "  ans=[]\n",
        "  for a in arr:\n",
        "    if type(a) is list:\n",
        "      ans.extend(flatten(a))\n",
        "    else:\n",
        "      ans.append(a)\n",
        "  return ans\n",
        "\n",
        "\n",
        "arr= [1, 2, 3, [4, 5]]\n",
        "print(flatten(arr))\n",
        "\n",
        "arr1= [1, [2, [3, 4], [[5]]]]\n",
        "print(flatten(arr1))"
      ],
      "metadata": {
        "colab": {
          "base_uri": "https://localhost:8080/"
        },
        "id": "iUIZGyOo8xaT",
        "outputId": "89351d1c-10a6-44ad-c858-af43bf6b8e7e"
      },
      "execution_count": null,
      "outputs": [
        {
          "output_type": "stream",
          "name": "stdout",
          "text": [
            "[1, 2, 3, 4, 5]\n",
            "[1, 2, 3, 4, 5]\n"
          ]
        }
      ]
    },
    {
      "cell_type": "code",
      "source": [
        "#Capitalize first\n",
        "def capitalizeFirst(arr):\n",
        "  if not arr:\n",
        "    return []\n",
        "  else:\n",
        "    return [arr[0].capitalize()] + capitalizeFirst(arr[1:])\n",
        "\n",
        "\n",
        "arr= ['car', 'taco', 'banana']\n",
        "print(capitalizeFirst(arr))"
      ],
      "metadata": {
        "colab": {
          "base_uri": "https://localhost:8080/"
        },
        "id": "VxSriVfy-cXy",
        "outputId": "1fbed095-ade6-443c-8e51-f6cef473ff2b"
      },
      "execution_count": null,
      "outputs": [
        {
          "output_type": "stream",
          "name": "stdout",
          "text": [
            "['Car', 'Taco', 'Banana']\n"
          ]
        }
      ]
    },
    {
      "cell_type": "code",
      "source": [
        "#nested even sum\n",
        "obj1 = {\n",
        "  \"outer\": 2,\n",
        "  \"obj\": {\n",
        "    \"inner\": 2,\n",
        "    \"otherObj\": {\n",
        "      \"superInner\": 2,\n",
        "      \"notANumber\": True,\n",
        "      \"alsoNotANumber\": \"yup\"\n",
        "    }\n",
        "  }\n",
        "}\n",
        "\n",
        "obj2 = {\n",
        "  \"a\": 2,\n",
        "  \"b\": {\"b\": 2, \"bb\": {\"b\": 3, \"bb\": {\"b\": 2}}},\n",
        "  \"c\": {\"c\": {\"c\": 2}, \"cc\": 'ball', \"ccc\": 5},\n",
        "  \"d\": 1,\n",
        "  \"e\": {\"e\": {\"e\": 2}, \"ee\": 'car'}\n",
        "}\n",
        "\n",
        "\n",
        "def nestedEvenSum(obj, sum=0):\n",
        "  for k,v in obj.items():\n",
        "    if type(v) is dict:\n",
        "      sum = nestedEvenSum(v, sum)\n",
        "    elif type(v) is int and v % 2 == 0:\n",
        "      sum += v\n",
        "  return sum\n",
        "\n",
        "\n",
        "\n",
        "\n",
        "print(nestedEvenSum(obj1))\n"
      ],
      "metadata": {
        "colab": {
          "base_uri": "https://localhost:8080/"
        },
        "id": "h2xTKcLi_r3L",
        "outputId": "8b0db23b-9b8b-40ff-9c6f-9b6f4a7f5adb"
      },
      "execution_count": null,
      "outputs": [
        {
          "output_type": "stream",
          "name": "stdout",
          "text": [
            "6\n"
          ]
        }
      ]
    },
    {
      "cell_type": "code",
      "source": [
        "#Capitalize words\n",
        "def capitalizeWords(arr):\n",
        "  if not arr:\n",
        "    return []\n",
        "  else:\n",
        "    return [arr[0].upper()] + capitalizeWords(arr[1:])\n",
        "\n",
        "\n",
        "words = ['i', 'am', 'learning', 'recursion']\n",
        "print(capitalizeWords(words))"
      ],
      "metadata": {
        "colab": {
          "base_uri": "https://localhost:8080/"
        },
        "id": "XUjGvIXrBH5D",
        "outputId": "a18b5876-0b72-4138-e31d-34d87dd68f0e"
      },
      "execution_count": null,
      "outputs": [
        {
          "output_type": "stream",
          "name": "stdout",
          "text": [
            "['I', 'AM', 'LEARNING', 'RECURSION']\n"
          ]
        }
      ]
    },
    {
      "cell_type": "code",
      "source": [
        "#Stringify number=finds all of the values which are numbers and converts them to strings.\n",
        "def stringifyNumbers(obj):\n",
        "  for k,v in obj.items():\n",
        "    if type(v) is int:\n",
        "      obj[k] = str(v)\n",
        "    elif type(v) is dict:\n",
        "      stringifyNumbers(v)\n",
        "  return obj\n",
        "\n",
        "\n",
        "\n",
        "obj = {\n",
        "  \"num\": 1,\n",
        "  \"test\": [],\n",
        "  \"data\": {\n",
        "    \"val\": 4,\n",
        "    \"info\": {\n",
        "      \"isRight\": True,\n",
        "      \"random\": 66\n",
        "    }\n",
        "  }\n",
        "}\n",
        "print(stringifyNumbers(obj))"
      ],
      "metadata": {
        "colab": {
          "base_uri": "https://localhost:8080/"
        },
        "id": "PzMz8sGYDpCS",
        "outputId": "3818d6d9-894a-4e34-d2b1-cdfce94e4f88"
      },
      "execution_count": null,
      "outputs": [
        {
          "output_type": "stream",
          "name": "stdout",
          "text": [
            "{'num': '1', 'test': [], 'data': {'val': '4', 'info': {'isRight': True, 'random': '66'}}}\n"
          ]
        }
      ]
    },
    {
      "cell_type": "code",
      "source": [
        "#Collect strings= accepts an object and returns an array of all the values in the object that have a typeof string.\n",
        "def collectStrings(obj):\n",
        "  ans=[]\n",
        "  for k,v in obj.items():\n",
        "    if type(v) is str:\n",
        "      ans.append(v)\n",
        "    elif type(v) is dict:\n",
        "      ans.extend(collectStrings(v))\n",
        "  return ans\n",
        "\n",
        "\n",
        "\n",
        "\n",
        "obj = {\n",
        "  \"stuff\": 'foo',\n",
        "  \"data\": {\n",
        "    \"val\": {\n",
        "      \"thing\": {\n",
        "        \"info\": 'bar',\n",
        "        \"moreInfo\": {\n",
        "          \"evenMoreInfo\": {\n",
        "            \"weMadeIt\": 'baz'\n",
        "          }\n",
        "        }\n",
        "      }\n",
        "    }\n",
        "  }\n",
        "}\n",
        "print(collectStrings(obj))"
      ],
      "metadata": {
        "colab": {
          "base_uri": "https://localhost:8080/"
        },
        "id": "FgYk-DH9Ec2U",
        "outputId": "f5d943cd-89b2-4a9a-ce7c-85eb11c278c2"
      },
      "execution_count": null,
      "outputs": [
        {
          "output_type": "stream",
          "name": "stdout",
          "text": [
            "['foo', 'bar', 'baz']\n"
          ]
        }
      ]
    },
    {
      "cell_type": "code",
      "source": [],
      "metadata": {
        "id": "dFk0lgkCF4aH"
      },
      "execution_count": null,
      "outputs": []
    }
  ]
}