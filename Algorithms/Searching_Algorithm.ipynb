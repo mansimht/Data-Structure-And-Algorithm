{
  "nbformat": 4,
  "nbformat_minor": 0,
  "metadata": {
    "colab": {
      "provenance": []
    },
    "kernelspec": {
      "name": "python3",
      "display_name": "Python 3"
    },
    "language_info": {
      "name": "python"
    }
  },
  "cells": [
    {
      "cell_type": "markdown",
      "source": [
        "**Searching Algorithm**\n",
        "\n",
        "1. Linear Search\n",
        "2. Binary Search\n",
        "\n",
        "Ex. User login with username and password then we need to check username exist or not. So these case searching algorithm works.\n",
        "\n",
        "**Linear Search**\n",
        "- Here items are search one by one.\n",
        "- These procedure is applicable for sorted and unsorted arrays.\n",
        "- Linear search also known as sequential search\n",
        "\n",
        "**Psuedocode for linear search**\n",
        "1. Create a function with two parameters which are an array and a value\n",
        "2. Loop through array and check if current array element is equal to value\n",
        "3. If it is return the index at which element is found\n",
        "4. If the value is never found return -1\n",
        "\n"
      ],
      "metadata": {
        "id": "c7_TP32qS-71"
      }
    },
    {
      "cell_type": "code",
      "source": [
        "#linear search\n",
        "def linear_search(arr,val):\n",
        "  for i in range(len(arr)):\n",
        "    if arr[i] == val:\n",
        "      return i\n",
        "  return -1\n",
        "\n",
        "arr1= [10,20,30,40,50,60]\n",
        "print(linear_search(arr1,30))\n",
        "print(linear_search(arr1,70))\n",
        "\n",
        "\n",
        "#Time complexity: O(n)\n",
        "#Space complexity: O(1)\n",
        "\n"
      ],
      "metadata": {
        "colab": {
          "base_uri": "https://localhost:8080/"
        },
        "id": "9Bbrk5suT5C5",
        "outputId": "8b010eb2-7e7c-4b11-ade4-e3c4f5a3a39b"
      },
      "execution_count": 8,
      "outputs": [
        {
          "output_type": "stream",
          "name": "stdout",
          "text": [
            "2\n",
            "-1\n"
          ]
        }
      ]
    },
    {
      "cell_type": "markdown",
      "source": [
        "**Binary Search**\n",
        "- Binary search is faster than linear search\n",
        "- Half of remaning element can be eleminated at a time, instead of eliminating them one by one\n",
        "- Binary search works only with sorted array(lowest to highest,highest to lowest or albhbatical)\n",
        "\n",
        "\n",
        "**Psuedocode for binary search**\n",
        "1. Create function with two parameters sorted array and value\n",
        "2. Create two pointers: left and right. Left pointer at start of array and right pointer at end of array\n",
        "3. Based on left and right pointer find middle points\n",
        "4. While middle is not equal to value and start <= endloop(l<<r),\n",
        "   - if middle is greater than value then move right pointer down(decrease r)\n",
        "   - if middle is less than value then move left pointer up\n",
        "5. If the value never found return -1\n",
        "\n"
      ],
      "metadata": {
        "id": "VRL-XUjqVoD-"
      }
    },
    {
      "cell_type": "code",
      "source": [
        "#Binary search\n",
        "def binary_search(arr,val):\n",
        "  l=0\n",
        "  r= len(arr)-1\n",
        "  while l <= r:\n",
        "    mid= int((l+r)//2)\n",
        "    if arr[mid] == val:\n",
        "      return mid\n",
        "    elif arr[mid] > val:\n",
        "      r = mid -1\n",
        "    else:\n",
        "      l = mid + 1\n",
        "  return -1\n",
        "\n",
        "\n",
        "arr= [2,4,6,7,8,9]\n",
        "print(binary_search(arr,8))\n",
        "print(binary_search(arr,10))\n",
        "\n",
        "#Time complexity: O(logn)\n",
        "#Space complexity: O(1)"
      ],
      "metadata": {
        "colab": {
          "base_uri": "https://localhost:8080/"
        },
        "id": "q-uxfmfsVSPz",
        "outputId": "7f7b424c-5de9-40cd-92f0-f05e47b2200b"
      },
      "execution_count": 20,
      "outputs": [
        {
          "output_type": "stream",
          "name": "stdout",
          "text": [
            "4\n",
            "-1\n"
          ]
        }
      ]
    },
    {
      "cell_type": "code",
      "source": [],
      "metadata": {
        "id": "uyuy8yKNZf7M"
      },
      "execution_count": null,
      "outputs": []
    }
  ]
}