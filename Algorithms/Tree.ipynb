{
  "nbformat": 4,
  "nbformat_minor": 0,
  "metadata": {
    "colab": {
      "provenance": []
    },
    "kernelspec": {
      "name": "python3",
      "display_name": "Python 3"
    },
    "language_info": {
      "name": "python"
    }
  },
  "cells": [
    {
      "cell_type": "markdown",
      "source": [
        "**What is Tree?**\n",
        "\n",
        "- A tree is non linear data structure with hierarichal relationships between its elements without having cycle. basically reveresed from real life tree\n",
        "\n",
        "Ex. We are in cafe and irder drink. So in drink there are 2 type of drink- hot or cold and burther more subcategories are there coffee or Tea in hot then in Tea lemon tea,ginger tea etc... These structure is Tree structure to make cafe menu easier to understand\n",
        "\n",
        "**Tree Properties:**\n",
        "- Representation heirarchical data\n",
        "- Each node has 2 componenet: data and link to its subcategory\n",
        "- Base category and sub category under it\n"
      ],
      "metadata": {
        "id": "afyMgL1V95xN"
      }
    },
    {
      "cell_type": "markdown",
      "source": [
        "**Why Tree?**\n",
        "\n",
        "- In linear data structure, as data size increase time complexity also increases.\n",
        "- So tree data structures allow quicker,easier access to the data as it is non linear data structure\n",
        "- Quicker and easier to access data\n",
        "- diferent type tree data structure\n",
        "  - binary search Tree, AVL,Red black Tree, Trie\n",
        "\n",
        "\n"
      ],
      "metadata": {
        "id": "ZV0ohqQZDWhE"
      }
    },
    {
      "cell_type": "markdown",
      "source": [
        "**Tree Terminology**\n",
        "\n",
        "1. root: which doesn't have any parent(base node at top of tree)\n",
        "2. edge: a link between parent and child\n",
        "3. leaf: a node which doesn't have children\n",
        "4. Sibling: children of same parent\n",
        "5. Ancestor: parent,grandparent and great parent of a node\n",
        "6. Depth of node: a length of the path from root to node\n",
        "7. Height of node: a length og the path from the node to the deeoesr node\n",
        "8. Depth of tree: epth of root node\n",
        "\n"
      ],
      "metadata": {
        "id": "o3M5Ce0gE3uk"
      }
    },
    {
      "cell_type": "markdown",
      "source": [
        "**Create Basic Tree**"
      ],
      "metadata": {
        "id": "otI5RDE0GHii"
      }
    },
    {
      "cell_type": "code",
      "execution_count": null,
      "metadata": {
        "colab": {
          "base_uri": "https://localhost:8080/"
        },
        "id": "MXjf3Zw-GzsX",
        "outputId": "b799addc-e9e3-4eac-8690-55049ee37a43"
      },
      "outputs": [
        {
          "output_type": "stream",
          "name": "stdout",
          "text": [
            "Drinks\n",
            " Cold\n",
            " hot\n",
            "  coffee\n",
            "  Tea\n",
            "\n"
          ]
        }
      ],
      "source": [
        "#Create basic tree\n",
        "class TreeNode:\n",
        "  def __init__(self,data,child=[]):\n",
        "    self.data= data\n",
        "    self.child= child\n",
        "\n",
        "  def __str__(self,level=0):\n",
        "    ret = \" \" * level + str(self.data) + \"\\n\"\n",
        "    for child in self.child:\n",
        "      ret += child.__str__(level+1)\n",
        "    return ret\n",
        "\n",
        "  def addChild(self,TreeNode):\n",
        "    self.child.append(TreeNode)\n",
        "\n",
        "root= TreeNode('Drinks',[])\n",
        "cold= TreeNode('Cold',[])\n",
        "hot= TreeNode('hot',[])\n",
        "root.addChild(cold)\n",
        "root.addChild(hot)\n",
        "\n",
        "coffee= TreeNode('coffee',[])\n",
        "tea= TreeNode('Tea',[])\n",
        "hot.addChild(coffee)\n",
        "hot.addChild(tea)\n",
        "print(root)"
      ]
    },
    {
      "cell_type": "markdown",
      "source": [
        "**Binary Tree**\n",
        "\n",
        "- Binary tree are the data structures in which  each node has at most two children often reffred as left and right children\n",
        "- Binary tree is a family of data structue(BST, AVL, Heap tree,read black trees,Syntax tree)\n",
        "\n",
        "**Why need binary tree?**\n",
        "\n",
        "- Binary tree are prerequiste for mode advanced trees like BST,AVL, Red black Trees\n",
        "- Huffman coding problem,heap priority problem and expressio parsing problem can be solve using binary tree\n",
        "\n",
        "**Type of Binary Tree**\n",
        "1. Full Binary tree: each node of a binary tree has zeero or two children but not one then it is called ull binary tree\n",
        "2. Perfect Binary tree: all non leaf node has 2 children and they are at same depth\n",
        "3. Complete Binary Tree: all levels are completely filled except last level\n",
        "4. Balanced biary Tree: all leaf nodes are from the root in the same distance\n",
        "\n",
        "\n",
        "**Binary Tree Representation**\n",
        "With 2 type:\n",
        "\n",
        "-Linked List\n",
        "\n",
        "-Python List(array)\n",
        "\n",
        "\n"
      ],
      "metadata": {
        "id": "vCvDPNSAKoZu"
      }
    },
    {
      "cell_type": "markdown",
      "source": [
        " # **Create Binary Tree using Linked List**\n",
        "\n",
        " - Creation of tree\n",
        " - Insertion of node\n",
        " - Deletion of node\n",
        " - Search for a Value\n",
        " - Traverse all nodes\n",
        " - Deletion of tree"
      ],
      "metadata": {
        "id": "p_Kvt5N5xUW4"
      }
    },
    {
      "cell_type": "code",
      "source": [
        "#Creation of Binary Tree\n",
        "class TreeNode:\n",
        "  def __init__(self,data):\n",
        "    self.data= data\n",
        "    self.leftchild= None\n",
        "    self.rightChild= None\n",
        "\n",
        "newBT= TreeNode(\"Drinks\")\n",
        "newBT\n",
        "\n",
        "#Time complexity: O(1)\n",
        "#Space Complexity: O(1)"
      ],
      "metadata": {
        "id": "mMKx4IR6Hfkw",
        "colab": {
          "base_uri": "https://localhost:8080/"
        },
        "outputId": "31cbcc82-83c0-4351-9562-9d3b8b519505"
      },
      "execution_count": null,
      "outputs": [
        {
          "output_type": "execute_result",
          "data": {
            "text/plain": [
              "<__main__.TreeNode at 0x7fe957f85990>"
            ]
          },
          "metadata": {},
          "execution_count": 2
        }
      ]
    },
    {
      "cell_type": "markdown",
      "source": [
        "**Traverse throught binary tree**\n",
        "\n",
        "**Depth First Search**\n",
        "- Preorder= root,left subtree and right subtree\n",
        "- Inorder= left subtree, root, right subtree\n",
        "- Postorder= left subtree,right subtree,root\n",
        "\n",
        "**Breath First Search**\n",
        "- Level Order traversal\n",
        "\n"
      ],
      "metadata": {
        "id": "o1r3g0yAoh1b"
      }
    },
    {
      "cell_type": "code",
      "source": [
        "#Preorder Traversal= root-left-right\n",
        "class TreeNode:\n",
        "  def __init__(self,data):\n",
        "    self.data= data\n",
        "    self.leftChild= None\n",
        "    self.rightChild= None\n",
        "\n",
        "newBT= TreeNode(\"Drinks\")\n",
        "leftChild= TreeNode(\"Hot\")\n",
        "rightChild= TreeNode('Cold')\n",
        "leftChild1= TreeNode(\"Tea\")\n",
        "rightChild1= TreeNode('Frappe')\n",
        "newBT.leftChild= leftChild\n",
        "newBT.rightChild= rightChild\n",
        "newBT.leftChild.leftChild= leftChild1\n",
        "newBT.rightChild.rightChild= rightChild1\n",
        "\n",
        "\n",
        "\n",
        "def preorder(root):\n",
        "  if not root:\n",
        "    return None\n",
        "  print(root.data)\n",
        "  preorder(root.leftChild)     #O(n/2)\n",
        "  preorder(root.rightChild)     #O(n/2)\n",
        "\n",
        "preorder(newBT)\n",
        "\n",
        "\n",
        "#Time Complexity: O(n)\n",
        "#Space COmplexity: O(n)"
      ],
      "metadata": {
        "colab": {
          "base_uri": "https://localhost:8080/"
        },
        "id": "vJgMjWQ9oQYS",
        "outputId": "4154fef0-2f28-4ecf-e70c-227537d5f20f"
      },
      "execution_count": null,
      "outputs": [
        {
          "output_type": "stream",
          "name": "stdout",
          "text": [
            "Drinks\n",
            "Hot\n",
            "Tea\n",
            "Cold\n",
            "Frappe\n"
          ]
        }
      ]
    },
    {
      "cell_type": "code",
      "source": [
        "#InOrder traversal= left-root-right\n",
        "class TreeNode:\n",
        "  def __init__(self,data):\n",
        "    self.data= data\n",
        "    self.leftChild= None\n",
        "    self.rightChild= None\n",
        "\n",
        "newBT= TreeNode(\"Drinks\")\n",
        "leftChild= TreeNode(\"Hot\")\n",
        "rightChild= TreeNode('Cold')\n",
        "leftChild1= TreeNode(\"Tea\")\n",
        "rightChild1= TreeNode('Frappe')\n",
        "newBT.leftChild= leftChild\n",
        "newBT.rightChild= rightChild\n",
        "newBT.leftChild.leftChild= leftChild1\n",
        "newBT.rightChild.rightChild= rightChild1\n",
        "\n",
        "def InOrder(root):\n",
        "  if not root:\n",
        "    return None\n",
        "  InOrder(root.leftChild)\n",
        "  print(root.data)\n",
        "  InOrder(root.rightChild)\n",
        "\n",
        "InOrder(newBT)\n",
        "\n",
        "#Time COmplexity: O(n)\n",
        "#Space Complexity: O(n)"
      ],
      "metadata": {
        "colab": {
          "base_uri": "https://localhost:8080/"
        },
        "id": "TWo0v1hWrY5V",
        "outputId": "82234660-69b9-47e9-88dd-a84c7cb1fe06"
      },
      "execution_count": null,
      "outputs": [
        {
          "output_type": "stream",
          "name": "stdout",
          "text": [
            "Tea\n",
            "Hot\n",
            "Drinks\n",
            "Cold\n",
            "Frappe\n"
          ]
        }
      ]
    },
    {
      "cell_type": "code",
      "source": [
        "#PostOrder Traversal= left-right-root\n",
        "\n",
        "class TreeNode:\n",
        "  def __init__(self,data):\n",
        "    self.data= data\n",
        "    self.leftChild= None\n",
        "    self.rightChild= None\n",
        "\n",
        "newBT= TreeNode(\"Drinks\")\n",
        "leftChild= TreeNode(\"Hot\")\n",
        "rightChild= TreeNode('Cold')\n",
        "leftChild1= TreeNode(\"Tea\")\n",
        "rightChild1= TreeNode('Frappe')\n",
        "newBT.leftChild= leftChild\n",
        "newBT.rightChild= rightChild\n",
        "newBT.leftChild.leftChild= leftChild1\n",
        "newBT.rightChild.rightChild= rightChild1\n",
        "\n",
        "\n",
        "def postorder(root):\n",
        "  if not root:\n",
        "    return None\n",
        "  postorder(root.leftChild)\n",
        "  postorder(root.rightChild)\n",
        "  print(root.data)\n",
        "\n",
        "\n",
        "postorder(newBT)\n",
        "\n",
        "#Time Complexity: O(n)\n",
        "#Space Complexity: O(n)"
      ],
      "metadata": {
        "colab": {
          "base_uri": "https://localhost:8080/"
        },
        "id": "6hn53XqwuY0P",
        "outputId": "70b94aed-4a1d-4f61-e71a-850d1b989c9d"
      },
      "execution_count": null,
      "outputs": [
        {
          "output_type": "stream",
          "name": "stdout",
          "text": [
            "Tea\n",
            "Hot\n",
            "Frappe\n",
            "Cold\n",
            "Drinks\n"
          ]
        }
      ]
    },
    {
      "cell_type": "markdown",
      "source": [
        "**Level Order Binary Tree Using BFS**\n",
        "\n",
        "1. Intialise empty queue to store the nodes during traversal. Create vector of vector to store level order traversal. If  tree is empty, return empty 2D vector\n",
        "\n",
        "\n",
        "2. Enque root node. Add root node of binary tree to the queue.\n",
        "\n",
        "\n",
        "3. Iterate until queue is empty:\n",
        "- Get the current size of queue. Size indicates the number of nodes at the current levwl\n",
        "- create vector \"level\" to store the nodes art the current level\n",
        "- Iterate thriugh the size number of nodes at current level\n",
        "   - Pop the front node fom queue\n",
        "   - Store the nodes's values in level vector\n",
        "   - enqueue left and right child of nodes of the current node\n",
        "-After processing all the nodes the current level, add the level vector to the 2D vector,representing current vector\n",
        "4. Once Traversal loop complexites, all levels have been processed, return ans 2D vector contain level order traversal\n",
        "\n"
      ],
      "metadata": {
        "id": "SUPuIH6fMzmn"
      }
    },
    {
      "cell_type": "code",
      "source": [
        "#Level Order Binary Tree- Breath First Search= go level by level\n",
        "from collections import deque\n",
        "class TreeNode:\n",
        "  def __init__(self,data):\n",
        "    self.data= data\n",
        "    self.leftChild= None\n",
        "    self.rightChild= None\n",
        "\n",
        "newBT= TreeNode(\"Drinks\")\n",
        "leftChild= TreeNode(\"Hot\")\n",
        "rightChild= TreeNode('Cold')\n",
        "leftChild1= TreeNode(\"Tea\")\n",
        "rightChild1= TreeNode('Frappe')\n",
        "newBT.leftChild= leftChild\n",
        "newBT.rightChild= rightChild\n",
        "newBT.leftChild.leftChild= leftChild1\n",
        "newBT.rightChild.rightChild= rightChild1\n",
        "\n",
        "def levelorder(root):\n",
        "  #create list to store the levels\n",
        "  ans=[]\n",
        "  if not root:\n",
        "    return ans\n",
        "\n",
        "  #create queue for store nodes of level order\n",
        "  q= deque()\n",
        "\n",
        "  #Enqueue queue qith root node\n",
        "  q.append(root)\n",
        "\n",
        "  #iterate until queue is empty\n",
        "  while q:\n",
        "    #get size of queue\n",
        "    size= len(q)\n",
        "    #create new level vector\n",
        "    level=[]\n",
        "    #iterate through size of number of nodes\n",
        "    for i in range(size):\n",
        "      #Get front node of queue\n",
        "      node= q.popleft()\n",
        "      #store node value into level vector\n",
        "      level.append(node.data)\n",
        "\n",
        "      #enque childnode if exists\n",
        "      if node.leftChild:\n",
        "        q.append(node.leftChild)\n",
        "      if node.rightChild:\n",
        "        q.append(node.rightChild)\n",
        "\n",
        "    #Store current level into ans\n",
        "    ans.append(level)\n",
        "    #Return level order traversal of tree\n",
        "  return ans\n",
        "\n",
        "levelorder(newBT)\n",
        "\n",
        "#Time complexity: O(n)\n",
        "#Space COmplexity: O(n)"
      ],
      "metadata": {
        "colab": {
          "base_uri": "https://localhost:8080/"
        },
        "id": "jkDN4MmE050O",
        "outputId": "78278ccd-8953-44ee-92e3-d207a8daabfd"
      },
      "execution_count": null,
      "outputs": [
        {
          "output_type": "execute_result",
          "data": {
            "text/plain": [
              "[['Drinks'], ['Hot', 'Cold'], ['Tea', 'Frappe']]"
            ]
          },
          "metadata": {},
          "execution_count": 5
        }
      ]
    },
    {
      "cell_type": "markdown",
      "source": [
        "**Level Order Binary Tree Using DFS**\n",
        "\n",
        "1. Create function which take argument root node, level vector to keep track depth of node of tree and res variable to store the data\n",
        "2. Check if root node is not there then return None\n",
        "3. Set res to the empty list at initally\n",
        "4. Expand res to hold new value as depth increases(new levels)\n",
        "5. Append the current node to it's level\n",
        "6. Make a recursive call if left and right child is there by increasing the level\n"
      ],
      "metadata": {
        "id": "cf9Su0qVcfaW"
      }
    },
    {
      "cell_type": "code",
      "source": [
        "#Level order Traverasall using DFS and stack\n",
        "class TreeNode:\n",
        "  def __init__(self,data):\n",
        "    self.data= data\n",
        "    self.leftChild= None\n",
        "    self.rightChild= None\n",
        "\n",
        "newBT= TreeNode(\"Drinks\")\n",
        "leftChild= TreeNode(\"Hot\")\n",
        "rightChild= TreeNode('Cold')\n",
        "leftChild1= TreeNode(\"Tea\")\n",
        "rightChild1= TreeNode('Frappe')\n",
        "newBT.leftChild= leftChild\n",
        "newBT.rightChild= rightChild\n",
        "newBT.leftChild.leftChild= leftChild1\n",
        "newBT.rightChild.rightChild= rightChild1\n",
        "\n",
        "def levelorderdfs(root,level=0,res=None):\n",
        "  if not root:\n",
        "    return\n",
        "\n",
        "  if res is None:\n",
        "        res = []\n",
        "\n",
        "  # Expand res if necessary\n",
        "  if len(res) <= level:\n",
        "    res.append([])\n",
        "\n",
        "  # Append the current node's value\n",
        "  res[level].append(root.data)\n",
        "\n",
        "  # Recur for left and right children\n",
        "  levelorderdfs(root.leftChild, level + 1, res)\n",
        "  levelorderdfs(root.rightChild, level + 1, res)\n",
        "  return res\n",
        "\n",
        "levelorderdfs(newBT)\n",
        "\n",
        "#Time complexity: O(n)\n",
        "#Space COmplexity: O(n)"
      ],
      "metadata": {
        "colab": {
          "base_uri": "https://localhost:8080/"
        },
        "id": "Upf0Bga8Zu8R",
        "outputId": "c9137831-93b2-4096-f91f-f4058ff3c40e"
      },
      "execution_count": null,
      "outputs": [
        {
          "output_type": "execute_result",
          "data": {
            "text/plain": [
              "[['Drinks'], ['Hot', 'Cold'], ['Tea', 'Frappe']]"
            ]
          },
          "metadata": {},
          "execution_count": 7
        }
      ]
    },
    {
      "cell_type": "code",
      "source": [
        "# Searching for node in Binary tree= Level order traversal= queue\n",
        "from collections import deque\n",
        "\n",
        "class TreeNode:\n",
        "  def __init__(self,data):\n",
        "    self.data= data\n",
        "    self.leftChild= None\n",
        "    self.rightChild= None\n",
        "\n",
        "newBT= TreeNode(\"Drinks\")\n",
        "leftChild= TreeNode(\"Hot\")\n",
        "rightChild= TreeNode('Cold')\n",
        "leftChild1= TreeNode(\"Tea\")\n",
        "rightChild1= TreeNode('Frappe')\n",
        "newBT.leftChild= leftChild\n",
        "newBT.rightChild= rightChild\n",
        "newBT.leftChild.leftChild= leftChild1\n",
        "newBT.rightChild.rightChild= rightChild1\n",
        "\n",
        "def searchnode(root,value):\n",
        "  if not root:\n",
        "    return f'Tree is empty'\n",
        "\n",
        "  q= deque()\n",
        "  q.append(root)\n",
        "  while q:\n",
        "    size= len(q)\n",
        "    for i in range(size):\n",
        "      node= q.popleft()\n",
        "      if node.data == value:\n",
        "        return  f'Value \"{value}\" found at node: {node}'\n",
        "\n",
        "      if node.leftChild:\n",
        "        q.append(node.leftChild)\n",
        "      if node.rightChild:\n",
        "        q.append(node.rightChild)\n",
        "\n",
        "  return f'Value \"{value}\" not found in the tree'\n",
        "\n",
        "print(searchnode(newBT,'Tea'))\n",
        "print(searchnode(newBT,'Cocacola'))\n",
        "\n",
        "#Time complexity: O(n)\n",
        "#Space Complexity: O(n)"
      ],
      "metadata": {
        "colab": {
          "base_uri": "https://localhost:8080/"
        },
        "id": "tQumo5bLb5To",
        "outputId": "79b8e206-c34a-4107-b2b8-4f7b5b47f8f7"
      },
      "execution_count": null,
      "outputs": [
        {
          "output_type": "stream",
          "name": "stdout",
          "text": [
            "Value \"Tea\" found at node: <__main__.TreeNode object at 0x7d7815154e90>\n",
            "Value \"Cocacola\" not found in the tree\n"
          ]
        }
      ]
    },
    {
      "cell_type": "markdown",
      "source": [
        "**Inserting Node in binary tree**(Using level order traversal)\n",
        "\n",
        "\n",
        "Case1: A root is blank\n",
        "\n",
        "Case2: The tree exists and we have to look for first vacant place\n"
      ],
      "metadata": {
        "id": "fTn1WlRpjUj-"
      }
    },
    {
      "cell_type": "code",
      "source": [
        "#Inserting Node in binary tree= using level order traversal\n",
        "from collections import deque\n",
        "\n",
        "class TreeNode:\n",
        "  def __init__(self,data):\n",
        "    self.data= data\n",
        "    self.leftChild= None\n",
        "    self.rightChild= None\n",
        "\n",
        "newBT= TreeNode(\"Drinks\")\n",
        "leftChild= TreeNode(\"Hot\")\n",
        "rightChild= TreeNode('Cold')\n",
        "leftChild1= TreeNode(\"Tea\")\n",
        "leftChild2= TreeNode(\"Coffee\")\n",
        "rightChild1= TreeNode('Frappe')\n",
        "newBT.leftChild= leftChild\n",
        "newBT.rightChild= rightChild\n",
        "newBT.leftChild.leftChild= leftChild1\n",
        "newBT.leftChild.leftChild.leftChild= leftChild2\n",
        "newBT.rightChild.rightChild= rightChild1\n",
        "\n",
        "def insert(root,newNode):\n",
        "  if not root:\n",
        "    root=  newNode\n",
        "  else:\n",
        "    q= deque()\n",
        "    q.append(root)\n",
        "    while q:\n",
        "      size= len(q)\n",
        "      for i in range(size):\n",
        "        node= q.popleft()\n",
        "\n",
        "        if node.leftChild:\n",
        "          q.append(node.leftChild)\n",
        "        else:\n",
        "          node.leftChild= newNode\n",
        "          return \"Newnode sucessfully insert at left tree\"\n",
        "        if node.rightChild:\n",
        "          q.append(node.rightChild)\n",
        "        else:\n",
        "          node.rightChild= newNode\n",
        "          return \"Newnode sucessfully insert at right tree\"\n",
        "\n",
        "\n",
        "print(insert(newBT,\"Fanta\"))\n",
        "print(insert(newBT,\"Lemon Tea\"))\n",
        "\n",
        "\n",
        "#Time complexity: O(n)\n",
        "#Space Complexity: O(n)\n",
        "\n"
      ],
      "metadata": {
        "colab": {
          "base_uri": "https://localhost:8080/"
        },
        "id": "Kk6hB_twgjHm",
        "outputId": "62e342e2-6c88-4ce2-ede2-047a5cc6e1c4"
      },
      "execution_count": null,
      "outputs": [
        {
          "output_type": "stream",
          "name": "stdout",
          "text": [
            "Newnode sucessfully insert at right tree\n",
            "Newnode sucessfully insert at left tree\n"
          ]
        }
      ]
    },
    {
      "cell_type": "markdown",
      "source": [
        "**Delete node binary tree**\n",
        "\n",
        "1. Visit deepest node of binary tree\n",
        "2. Replace value of node with value of node\n",
        "3. Delete deepest node\n",
        "\n"
      ],
      "metadata": {
        "id": "eyLJwpfdngKE"
      }
    },
    {
      "cell_type": "code",
      "source": [
        "#Delete node binary tree= level order traversal\n",
        "from collections import deque\n",
        "\n",
        "class TreeNode:\n",
        "  def __init__(self,data):\n",
        "    self.data= data\n",
        "    self.leftChild= None\n",
        "    self.rightChild= None\n",
        "\n",
        "newBT= TreeNode(\"Drinks\")\n",
        "leftChild= TreeNode(\"Hot\")\n",
        "rightChild= TreeNode('Cold')\n",
        "leftChild1= TreeNode(\"Tea\")\n",
        "leftChild2= TreeNode(\"Coffee\")\n",
        "rightChild1= TreeNode('Frappe')\n",
        "newBT.leftChild= leftChild\n",
        "newBT.rightChild= rightChild\n",
        "newBT.leftChild.leftChild= leftChild1\n",
        "newBT.leftChild.leftChild.leftChild= leftChild2\n",
        "newBT.rightChild.rightChild= rightChild1\n",
        "\n",
        "def levelorder(root):\n",
        "  #create list to store the levels\n",
        "  ans=[]\n",
        "  if not root:\n",
        "    return ans\n",
        "\n",
        "  #create queue for store nodes of level order\n",
        "  q= deque()\n",
        "\n",
        "  #Enqueue queue qith root node\n",
        "  q.append(root)\n",
        "\n",
        "  #iterate until queue is empty\n",
        "  while q:\n",
        "    #get size of queue\n",
        "    size= len(q)\n",
        "    #create new level vector\n",
        "    level=[]\n",
        "    #iterate through size of number of nodes\n",
        "    for i in range(size):\n",
        "      #Get front node of queue\n",
        "      node= q.popleft()\n",
        "      #store node value into level vector\n",
        "      level.append(node.data)\n",
        "\n",
        "      #enque childnode if exists\n",
        "      if node.leftChild:\n",
        "        q.append(node.leftChild)\n",
        "      if node.rightChild:\n",
        "        q.append(node.rightChild)\n",
        "\n",
        "    #Store current level into ans\n",
        "    ans.append(level)\n",
        "    #Return level order traversal of tree\n",
        "  return ans\n",
        "\n",
        "\n",
        "def getdeepestnode(root):\n",
        "  if not root:\n",
        "    return\n",
        "  else:\n",
        "    q= deque()\n",
        "    q.append(root)\n",
        "    while q:\n",
        "      node= q.popleft()\n",
        "      if node.leftChild:\n",
        "        q.append(node.leftChild)\n",
        "      if node.rightChild:\n",
        "        q.append(node.rightChild)\n",
        "    return node\n",
        "\n",
        "\n",
        "def deletedeepestnode(root,delnode):\n",
        "  if not root:\n",
        "    return\n",
        "  else:\n",
        "    q= deque()\n",
        "    q.append(root)\n",
        "    while q:\n",
        "      node= q.popleft()\n",
        "      if node.data == delnode:\n",
        "        node.data = None\n",
        "      else:\n",
        "       if node.leftChild:\n",
        "        if node.leftChild == delnode:\n",
        "          node.leftChild= None\n",
        "        else:\n",
        "          q.append(node.leftChild)\n",
        "      if node.rightChild:\n",
        "        if node.rightChild == delnode:\n",
        "          node.rightchild= None\n",
        "        else:\n",
        "          q.append(node.rightChild)\n",
        "\n",
        "\n",
        "def delete_node(root,delnode):\n",
        "  if not root:\n",
        "    return\n",
        "  if root.data == delnode and not root.leftChild and not root.rightChild:\n",
        "        return None\n",
        "  else:\n",
        "    q = deque()\n",
        "    q.append(root)\n",
        "    target_node= None\n",
        "    while q:\n",
        "      node= q.popleft()\n",
        "      if node.data == delnode:\n",
        "       target_node= node\n",
        "      if node.leftChild:\n",
        "        q.append(node.leftChild)\n",
        "      if node.rightChild:\n",
        "        q.append(node.rightChild)\n",
        "\n",
        "    if target_node:\n",
        "      deepest_node= getdeepestnode(target_node)\n",
        "      if deepest_node:\n",
        "        target_node.data= deepest_node.data\n",
        "        deletedeepestnode(root,deepest_node)\n",
        "        return \"Node successfully deleted\"\n",
        "\n",
        "print(levelorder(newBT))\n",
        "print(delete_node(newBT,\"Coffee\"))\n",
        "print(levelorder(newBT))\n",
        "\n",
        "#Time complexity:O(n)\n",
        "#Space Complexity:O(n)"
      ],
      "metadata": {
        "colab": {
          "base_uri": "https://localhost:8080/"
        },
        "id": "DyR9NFyYmbvn",
        "outputId": "d09346dd-5615-4bd2-fa53-59b415ddbbe0"
      },
      "execution_count": null,
      "outputs": [
        {
          "output_type": "stream",
          "name": "stdout",
          "text": [
            "[['Drinks'], ['Hot', 'Cold'], ['Tea', 'Frappe'], ['Coffee']]\n",
            "Node successfully deleted\n",
            "[['Drinks'], ['Hot', 'Cold'], ['Tea', 'Frappe']]\n"
          ]
        }
      ]
    },
    {
      "cell_type": "code",
      "source": [
        "# Delete ENtire binary tree\n",
        "from collections import deque\n",
        "\n",
        "class TreeNode:\n",
        "  def __init__(self,data):\n",
        "    self.data= data\n",
        "    self.leftChild= None\n",
        "    self.rightChild= None\n",
        "\n",
        "newBT= TreeNode(\"Drinks\")\n",
        "leftChild= TreeNode(\"Hot\")\n",
        "rightChild= TreeNode('Cold')\n",
        "leftChild1= TreeNode(\"Tea\")\n",
        "leftChild2= TreeNode(\"Coffee\")\n",
        "rightChild1= TreeNode('Frappe')\n",
        "newBT.leftChild= leftChild\n",
        "newBT.rightChild= rightChild\n",
        "newBT.leftChild.leftChild= leftChild1\n",
        "newBT.leftChild.leftChild.leftChild= leftChild2\n",
        "newBT.rightChild.rightChild= rightChild1\n",
        "\n",
        "def levelorder(root):\n",
        "  #create list to store the levels\n",
        "  ans=[]\n",
        "  if not root:\n",
        "    return ans\n",
        "\n",
        "  #create queue for store nodes of level order\n",
        "  q= deque()\n",
        "\n",
        "  #Enqueue queue qith root node\n",
        "  q.append(root)\n",
        "\n",
        "  #iterate until queue is empty\n",
        "  while q:\n",
        "    #get size of queue\n",
        "    size= len(q)\n",
        "    #create new level vector\n",
        "    level=[]\n",
        "    #iterate through size of number of nodes\n",
        "    for i in range(size):\n",
        "      #Get front node of queue\n",
        "      node= q.popleft()\n",
        "      #store node value into level vector\n",
        "      level.append(node.data)\n",
        "\n",
        "      #enque childnode if exists\n",
        "      if node.leftChild:\n",
        "        q.append(node.leftChild)\n",
        "      if node.rightChild:\n",
        "        q.append(node.rightChild)\n",
        "\n",
        "    #Store current level into ans\n",
        "    ans.append(level)\n",
        "    #Return level order traversal of tree\n",
        "  return ans\n",
        "\n",
        "def delBT(root):\n",
        "    root.data= None\n",
        "    root.leftChild= None\n",
        "    root.rightChild= None\n",
        "    return \"THE BT has been deletd successfully\"\n",
        "\n",
        "\n",
        "print(levelorder(newBT))\n",
        "print(delBT(newBT))\n",
        "\n",
        "#TIme complexity: O(1)\n",
        "#Space Complexity: O(1)"
      ],
      "metadata": {
        "colab": {
          "base_uri": "https://localhost:8080/"
        },
        "id": "jhKZpssHquO6",
        "outputId": "4cf51dad-6f5f-406c-bb81-8d3427f601f4"
      },
      "execution_count": null,
      "outputs": [
        {
          "output_type": "stream",
          "name": "stdout",
          "text": [
            "[['Drinks'], ['Hot', 'Cold'], ['Tea', 'Frappe'], ['Coffee']]\n",
            "THE BT has been deletd successfully\n"
          ]
        }
      ]
    },
    {
      "cell_type": "markdown",
      "source": [
        "# **Create BT using list**\n",
        "\n",
        "newBT= BTclass()\n",
        "\n",
        "fixed size python list\n",
        "last used Index\n"
      ],
      "metadata": {
        "id": "vzAuhxBCxYaj"
      }
    },
    {
      "cell_type": "code",
      "source": [
        "#create BT usinh list\n",
        "class BinaryTree:\n",
        "  def __init__(self,size):\n",
        "    self.lst= size*[None]\n",
        "    self.lastusedindex=0\n",
        "    self.maxSize= size\n",
        "\n",
        "newBT= BinaryTree(8)\n",
        "print(newBT)\n",
        "\n",
        "#Time Complexit: O(1)\n",
        "#Space Complexity: O(n)"
      ],
      "metadata": {
        "colab": {
          "base_uri": "https://localhost:8080/"
        },
        "id": "n0eHivPdxGcH",
        "outputId": "22d4f57a-4d11-4834-d65e-b60ccbb67a47"
      },
      "execution_count": null,
      "outputs": [
        {
          "output_type": "stream",
          "name": "stdout",
          "text": [
            "<__main__.BinaryTree object at 0x7d3058ae17d0>\n"
          ]
        }
      ]
    },
    {
      "cell_type": "markdown",
      "source": [
        "**Insert value in BT**\n",
        "\n",
        "Case1: The binary tree is FUll\n",
        "\n",
        "Case2: We have to look for a first vacant place"
      ],
      "metadata": {
        "id": "uw9NYdP21jjU"
      }
    },
    {
      "cell_type": "code",
      "source": [
        "#Insert value in BT\n",
        "class BinaryTree:\n",
        "  def __init__(self,size):\n",
        "    self.lst= size * [None]\n",
        "    self.lastusedindex= 0\n",
        "    self.maxSize= size\n",
        "\n",
        "  def insert(self,value):\n",
        "    if self.lastusedindex+1 == self.maxSize:\n",
        "      return \"Binary Tree is full\"\n",
        "    self.lst[self.lastusedindex+1]= value\n",
        "    self.lastusedindex + 1\n",
        "    return \"Value is successfully inserted\"\n",
        "\n",
        "newBT= BinaryTree(8)\n",
        "print(newBT.insert(\"Drinks\"))\n",
        "print(newBT.insert(\"Hot\"))\n",
        "print(newBT.insert(\"COld\"))\n",
        "\n",
        "#Time complexity: O(1)\n",
        "#Space complexity: O(1)\n"
      ],
      "metadata": {
        "colab": {
          "base_uri": "https://localhost:8080/"
        },
        "id": "7f6yTNLm1UzC",
        "outputId": "e75cacfb-3b0b-465e-dee2-21984b102c70"
      },
      "execution_count": null,
      "outputs": [
        {
          "output_type": "stream",
          "name": "stdout",
          "text": [
            "Value is successfully inserted\n",
            "Value is successfully inserted\n",
            "Value is successfully inserted\n"
          ]
        }
      ]
    },
    {
      "cell_type": "code",
      "source": [
        "#Search node in BT\n",
        "class BinaryTree:\n",
        "  def __init__(self,size):\n",
        "    self.lst= size * [None]\n",
        "    self.lastusedindex= 0\n",
        "    self.maxSize= size\n",
        "\n",
        "  def insert(self,value):\n",
        "    if self.lastusedindex+1 == self.maxSize:\n",
        "      return \"Binary Tree is full\"\n",
        "    self.lst[self.lastusedindex+1]= value\n",
        "    self.lastusedindex += 1\n",
        "    return \"Value is successfully inserted\"\n",
        "\n",
        "  def search(self,value):\n",
        "    for i in range(len(self.lst)):\n",
        "      if self.lst[i] == value:\n",
        "        return \"Success\"\n",
        "    return \"Not Found\"\n",
        "\n",
        "newBT= BinaryTree(8)\n",
        "print(newBT.insert(\"Drinks\"))\n",
        "print(newBT.insert(\"Hot\"))\n",
        "print(newBT.insert(\"COld\"))\n",
        "\n",
        "print(newBT.search(\"Hot\"))\n",
        "\n",
        "#Time complexity: O(n)\n",
        "#Space complexity: O(1)\n"
      ],
      "metadata": {
        "colab": {
          "base_uri": "https://localhost:8080/"
        },
        "id": "4_kCzpxq3EJC",
        "outputId": "27f94310-fa7d-4f7d-c90b-1445b963c281"
      },
      "execution_count": null,
      "outputs": [
        {
          "output_type": "stream",
          "name": "stdout",
          "text": [
            "Value is successfully inserted\n",
            "Value is successfully inserted\n",
            "Value is successfully inserted\n",
            "Success\n"
          ]
        }
      ]
    },
    {
      "cell_type": "code",
      "source": [
        "#Preorder traversal\n",
        "class BinaryTree:\n",
        "  def __init__(self,size):\n",
        "    self.lst= size * [None]\n",
        "    self.lastusedindex= 0\n",
        "    self.maxSize= size\n",
        "\n",
        "  def insert(self,value):\n",
        "    if self.lastusedindex+1 == self.maxSize:\n",
        "      return \"Binary Tree is full\"\n",
        "    self.lst[self.lastusedindex+1]= value\n",
        "    self.lastusedindex += 1\n",
        "\n",
        "  def preorder(self,index):\n",
        "    if index > self.lastusedindex:\n",
        "      return\n",
        "    print(self.lst[index])\n",
        "    self.preorder(index*2)\n",
        "    self.preorder(index*2+1)\n",
        "\n",
        "\n",
        "\n",
        "newBT= BinaryTree(8)\n",
        "newBT.insert(\"Drinks\")\n",
        "newBT.insert(\"Hot\")\n",
        "newBT.insert(\"Cold\")\n",
        "newBT.insert(\"Tea\")\n",
        "newBT.insert(\"Coffee\")\n",
        "\n",
        "newBT.preorder(1)\n",
        "\n",
        "#Time compelxity: O(n)\n",
        "#Spce complexity:O(n)\n"
      ],
      "metadata": {
        "colab": {
          "base_uri": "https://localhost:8080/"
        },
        "id": "Iy_T9Lur4o32",
        "outputId": "5247be20-0666-4871-c072-e699c56ed021"
      },
      "execution_count": null,
      "outputs": [
        {
          "output_type": "stream",
          "name": "stdout",
          "text": [
            "Drinks\n",
            "Hot\n",
            "Tea\n",
            "Coffee\n",
            "Cold\n"
          ]
        }
      ]
    },
    {
      "cell_type": "code",
      "source": [
        "#Inorder Traversal\n",
        "class BinaryTree:\n",
        "  def __init__(self,size):\n",
        "    self.lst= size * [None]\n",
        "    self.lastusedindex= 0\n",
        "    self.maxSize= size\n",
        "\n",
        "  def insert(self,value):\n",
        "    if self.lastusedindex+1 == self.maxSize:\n",
        "      return \"Binary Tree is full\"\n",
        "    self.lst[self.lastusedindex+1]= value\n",
        "    self.lastusedindex += 1\n",
        "\n",
        "\n",
        "  def inorder(self,index):\n",
        "    if index > self.lastusedindex:\n",
        "      return\n",
        "    self.inorder(index*2)\n",
        "    print(self.lst[index])\n",
        "    self.inorder(index*2+1)\n",
        "\n",
        "\n",
        "\n",
        "newBT= BinaryTree(8)\n",
        "newBT.insert(\"Drinks\")\n",
        "newBT.insert(\"Hot\")\n",
        "newBT.insert(\"Cold\")\n",
        "newBT.insert(\"Tea\")\n",
        "newBT.insert(\"Coffee\")\n",
        "\n",
        "newBT.inorder(1)\n",
        "\n",
        "#Time compelxity: O(n)\n",
        "#Spce complexity:O(n)\n"
      ],
      "metadata": {
        "colab": {
          "base_uri": "https://localhost:8080/"
        },
        "id": "HMSzfgbQ33Lh",
        "outputId": "f18fa6cd-70e3-49ce-bfe8-c94f0e356eac"
      },
      "execution_count": null,
      "outputs": [
        {
          "output_type": "stream",
          "name": "stdout",
          "text": [
            "Tea\n",
            "Hot\n",
            "Coffee\n",
            "Drinks\n",
            "Cold\n"
          ]
        }
      ]
    },
    {
      "cell_type": "code",
      "source": [
        "#postorder Traversal\n",
        "class BinaryTree:\n",
        "  def __init__(self,size):\n",
        "    self.lst= size * [None]\n",
        "    self.lastusedindex= 0\n",
        "    self.maxSize= size\n",
        "\n",
        "  def insert(self,value):\n",
        "    if self.lastusedindex+1 == self.maxSize:\n",
        "      return \"Binary Tree is full\"\n",
        "    self.lst[self.lastusedindex+1]= value\n",
        "    self.lastusedindex += 1\n",
        "\n",
        "  def postorder(self,index):\n",
        "    if index > self.lastusedindex:\n",
        "      return\n",
        "    self.postorder(index*2)\n",
        "    self.postorder(index*2+1)\n",
        "    print(self.lst[index])\n",
        "\n",
        "\n",
        "newBT= BinaryTree(8)\n",
        "newBT.insert(\"Drinks\")\n",
        "newBT.insert(\"Hot\")\n",
        "newBT.insert(\"Cold\")\n",
        "newBT.insert(\"Tea\")\n",
        "newBT.insert(\"Coffee\")\n",
        "\n",
        "newBT.postorder(1)\n",
        "\n",
        "#Time compelxity: O(n)\n",
        "#Spce complexity:O(n)\n"
      ],
      "metadata": {
        "colab": {
          "base_uri": "https://localhost:8080/"
        },
        "id": "GNHAaqQS6fER",
        "outputId": "b4508b8f-8a47-48b1-a1d4-ec56f0d3b597"
      },
      "execution_count": null,
      "outputs": [
        {
          "output_type": "stream",
          "name": "stdout",
          "text": [
            "Tea\n",
            "Coffee\n",
            "Hot\n",
            "Cold\n",
            "Drinks\n"
          ]
        }
      ]
    },
    {
      "cell_type": "code",
      "source": [
        "#Levelorder Traversal\n",
        "class BinaryTree:\n",
        "  def __init__(self,size):\n",
        "    self.lst= size * [None]\n",
        "    self.lastusedindex= 0\n",
        "    self.maxSize= size\n",
        "\n",
        "  def insert(self,value):\n",
        "    if self.lastusedindex+1 == self.maxSize:\n",
        "      return \"Binary Tree is full\"\n",
        "    self.lst[self.lastusedindex+1]= value\n",
        "    self.lastusedindex += 1\n",
        "\n",
        "\n",
        "  def levelorder(self,index):\n",
        "    for i in range(index,self.lastusedindex+1):\n",
        "      print(self.lst[i])\n",
        "\n",
        "\n",
        "\n",
        "newBT= BinaryTree(8)\n",
        "newBT.insert(\"Drinks\")\n",
        "newBT.insert(\"Hot\")\n",
        "newBT.insert(\"Cold\")\n",
        "newBT.insert(\"Tea\")\n",
        "newBT.insert(\"Coffee\")\n",
        "\n",
        "newBT.levelorder(1)\n",
        "\n",
        "#Time compelxity: O(n)\n",
        "#Spce complexity:O(n)\n"
      ],
      "metadata": {
        "colab": {
          "base_uri": "https://localhost:8080/"
        },
        "id": "Rz61eZUx7PWw",
        "outputId": "68af9b00-5105-4bce-c87e-a41e926df5b8"
      },
      "execution_count": null,
      "outputs": [
        {
          "output_type": "stream",
          "name": "stdout",
          "text": [
            "Drinks\n",
            "Hot\n",
            "Cold\n",
            "Tea\n",
            "Coffee\n"
          ]
        }
      ]
    },
    {
      "cell_type": "code",
      "source": [
        "#delete nodefrom BT\n",
        "\n",
        "class BinaryTree:\n",
        "  def __init__(self,size):\n",
        "    self.lst= size * [None]\n",
        "    self.lastusedindex= 0\n",
        "    self.maxSize= size\n",
        "\n",
        "  def insert(self,value):\n",
        "    if self.lastusedindex+1 == self.maxSize:\n",
        "      return \"Binary Tree is full\"\n",
        "    self.lst[self.lastusedindex+1]= value\n",
        "    self.lastusedindex += 1\n",
        "\n",
        "\n",
        "  def deleteNode(self,value):\n",
        "    if self.lastusedindex == 0:\n",
        "      return \"There are no node to delete\"\n",
        "    for i in range(1,self.lastusedindex+1):\n",
        "      if self.lst[i] == value:\n",
        "        self.lst[i]= self.lst[self.lastusedindex]\n",
        "        self.lst[self.lastusedindex]= None\n",
        "        self.lastusedindex -= 1\n",
        "        return \"Node successfully deleted\"\n",
        "\n",
        "\n",
        "\n",
        "newBT= BinaryTree(8)\n",
        "newBT.insert(\"Drinks\")\n",
        "newBT.insert(\"Hot\")\n",
        "newBT.insert(\"Cold\")\n",
        "newBT.insert(\"Tea\")\n",
        "newBT.insert(\"Coffee\")\n",
        "\n",
        "newBT.deleteNode(\"Coffee\")\n",
        "\n",
        "#Time compelxity: O(n)\n",
        "#Spce complexity:O(1)\n"
      ],
      "metadata": {
        "colab": {
          "base_uri": "https://localhost:8080/",
          "height": 36
        },
        "id": "pam5wJAA8xaN",
        "outputId": "e8bd1b60-31b3-4158-ccb5-2f315b49af96"
      },
      "execution_count": null,
      "outputs": [
        {
          "output_type": "execute_result",
          "data": {
            "text/plain": [
              "'Node successfully deleted'"
            ],
            "application/vnd.google.colaboratory.intrinsic+json": {
              "type": "string"
            }
          },
          "metadata": {},
          "execution_count": 46
        }
      ]
    },
    {
      "cell_type": "code",
      "source": [
        "#delete entire BT\n",
        "class BinaryTree:\n",
        "  def __init__(self,size):\n",
        "    self.lst= size * [None]\n",
        "    self.lastusedindex= 0\n",
        "    self.maxSize= size\n",
        "\n",
        "  def insert(self,value):\n",
        "    if self.lastusedindex+1 == self.maxSize:\n",
        "      return \"Binary Tree is full\"\n",
        "    self.lst[self.lastusedindex+1]= value\n",
        "    self.lastusedindex += 1\n",
        "\n",
        "  def deleteall(self):\n",
        "    self.lst= None\n",
        "    return \"Deleted BInary Tree\"\n",
        "\n",
        "newBT= BinaryTree(8)\n",
        "newBT.insert(\"Drinks\")\n",
        "newBT.insert(\"Hot\")\n",
        "newBT.insert(\"Cold\")\n",
        "newBT.insert(\"Tea\")\n",
        "newBT.insert(\"Coffee\")\n",
        "\n",
        "newBT.deleteall()\n",
        "\n",
        "#Time compelxity: O(1)\n",
        "#Spce complexity:O(1)"
      ],
      "metadata": {
        "colab": {
          "base_uri": "https://localhost:8080/",
          "height": 36
        },
        "id": "M-PiAzaN91_N",
        "outputId": "06b64804-b692-4f78-ae80-43d9ebd3bde9"
      },
      "execution_count": null,
      "outputs": [
        {
          "output_type": "execute_result",
          "data": {
            "text/plain": [
              "'Deleted BInary Tree'"
            ],
            "application/vnd.google.colaboratory.intrinsic+json": {
              "type": "string"
            }
          },
          "metadata": {},
          "execution_count": 48
        }
      ]
    },
    {
      "cell_type": "markdown",
      "source": [
        "**Binary Tree(List VS LinkedList)**\n",
        "\n",
        "![image.png](data:image/png;base64,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)"
      ],
      "metadata": {
        "id": "zWgKlLIN-TYa"
      }
    },
    {
      "cell_type": "code",
      "source": [],
      "metadata": {
        "id": "x8oEzV0k-QG5"
      },
      "execution_count": null,
      "outputs": []
    }
  ]
}