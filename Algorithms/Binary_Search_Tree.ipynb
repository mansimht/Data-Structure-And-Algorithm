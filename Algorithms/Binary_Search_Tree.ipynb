{
  "nbformat": 4,
  "nbformat_minor": 0,
  "metadata": {
    "colab": {
      "provenance": []
    },
    "kernelspec": {
      "name": "python3",
      "display_name": "Python 3"
    },
    "language_info": {
      "name": "python"
    }
  },
  "cells": [
    {
      "cell_type": "markdown",
      "source": [
        "**What is Binary Search Tree?**\n",
        "\n",
        "It is binary tree with additional property.\n",
        "- In left subtree the value of node is less than or equal to its parent node's value\n",
        "- In right subtree the value of node is greater than its parent node's value              \n",
        "- It performs faster than binary tree when inserting and deleting nodes\n"
      ],
      "metadata": {
        "id": "oEMPExrdIMxd"
      }
    },
    {
      "cell_type": "markdown",
      "source": [
        "**Common Operation in BST**\n",
        "\n",
        "1. Creation of Tree\n",
        "2. Insertion of a node\n",
        "3. Deletion of a node\n",
        "4. Search for a value\n",
        "5. Traverse all nodes\n",
        "6. Deletion of tree\n",
        "\n"
      ],
      "metadata": {
        "id": "pBF_HMn5J20r"
      }
    },
    {
      "cell_type": "code",
      "execution_count": null,
      "metadata": {
        "id": "9nPttl3E_nP5",
        "colab": {
          "base_uri": "https://localhost:8080/"
        },
        "outputId": "7cdd2b36-3dd9-4200-f69c-9a4bcefb1fd6"
      },
      "outputs": [
        {
          "output_type": "execute_result",
          "data": {
            "text/plain": [
              "<__main__.BST at 0x7c9b2441f310>"
            ]
          },
          "metadata": {},
          "execution_count": 2
        }
      ],
      "source": [
        "#Creation BST\n",
        "class BST:\n",
        "  def __init__(self,data):\n",
        "    self.data= data\n",
        "    self.left= None\n",
        "    self.right= None\n",
        "\n",
        "newBST= BST(None)\n",
        "newBST\n",
        "\n",
        "#Time COmplexity:O(1)\n",
        "#Space Complexity: O(1)"
      ]
    },
    {
      "cell_type": "code",
      "source": [
        "#Insert a node in BST\n",
        "class BST:\n",
        "  def __init__(self,data):\n",
        "    self.data= data\n",
        "    self.left= None\n",
        "    self.right= None\n",
        "\n",
        "def insert(root,nodeval):\n",
        "  if root.data== None:\n",
        "    root.data= nodeval\n",
        "  elif nodeval < root.data:\n",
        "    if root.left is None:\n",
        "      root.left= BST(nodeval)\n",
        "    else:\n",
        "      insert(root.left,nodeval)\n",
        "  elif nodeval > root.data:\n",
        "    if root.right is None:\n",
        "      root.right= BST(nodeval)\n",
        "    else:\n",
        "      insert(root.riight,nodeval)\n",
        "  return f\"The node has been successfully inserted\"\n",
        "\n",
        "newBST= BST(None)\n",
        "print(insert(newBST,70))\n",
        "print(insert(newBST,50))\n",
        "print(insert(newBST,80))\n",
        "\n",
        "print(f'Root node: {newBST.data}')\n",
        "print(f'Left child: {newBST.left.data}')\n",
        "print(f'Right child: {newBST.right.data}')\n",
        "\n",
        "#Time Complexity:O(logn)\n",
        "#Space Complexity: O(logn)"
      ],
      "metadata": {
        "colab": {
          "base_uri": "https://localhost:8080/"
        },
        "id": "J7_Fy33EKlBO",
        "outputId": "e581e7b1-d710-4424-fee8-993f7ffd337a"
      },
      "execution_count": null,
      "outputs": [
        {
          "output_type": "stream",
          "name": "stdout",
          "text": [
            "The node has been successfully inserted\n",
            "The node has been successfully inserted\n",
            "The node has been successfully inserted\n",
            "Root node: 70\n",
            "Left child: 50\n",
            "Right child: 80\n"
          ]
        }
      ]
    },
    {
      "cell_type": "markdown",
      "source": [
        "**Traverse BST**\n",
        "\n",
        "1. Depth First Search:\n",
        "   - Preorder\n",
        "   - Inorder\n",
        "   - PostOrder\n",
        "2. Breath First Search:\n",
        "   - Level order traversal\n",
        "   "
      ],
      "metadata": {
        "id": "tqfAFjkHOwp8"
      }
    },
    {
      "cell_type": "code",
      "source": [
        "#Traverse BST\n",
        "from collections import deque\n",
        "class BST:\n",
        "  def __init__(self,data):\n",
        "    self.data= data\n",
        "    self.left= None\n",
        "    self.right= None\n",
        "\n",
        "def insert(root,nodeval):\n",
        "  if root.data== None:\n",
        "    root.data= nodeval\n",
        "  elif nodeval < root.data:\n",
        "    if root.left is None:\n",
        "      root.left= BST(nodeval)\n",
        "    else:\n",
        "      insert(root.left,nodeval)\n",
        "  elif nodeval > root.data:\n",
        "    if root.right is None:\n",
        "      root.right= BST(nodeval)\n",
        "    else:\n",
        "      insert(root.right,nodeval)\n",
        "  return f\"The node has been successfully inserted\"\n",
        "\n",
        "def preorder(root):\n",
        "  if not root:\n",
        "    return\n",
        "  print(root.data)\n",
        "  preorder(root.left)\n",
        "  preorder(root.right)\n",
        "\n",
        "def inorder(root):\n",
        "  if not root:\n",
        "    return\n",
        "  inorder(root.left)\n",
        "  print(root.data)\n",
        "  inorder(root.right)\n",
        "\n",
        "def postorder(root):\n",
        "  if not root:\n",
        "    return\n",
        "  postorder(root.left)\n",
        "  postorder(root.right)\n",
        "  print(root.data)\n",
        "\n",
        "def levelorder(root):\n",
        "  if not root:\n",
        "    return\n",
        "  q= deque()\n",
        "  q.append(root)\n",
        "  while q:\n",
        "    size= len(q)\n",
        "    for i in range(size):\n",
        "      node= q.popleft()\n",
        "      print(node.data)\n",
        "      if node.left:\n",
        "        q.append(node.left)\n",
        "      if node.right:\n",
        "        q.append(node.right)\n",
        "\n",
        "\n",
        "\n",
        "\n",
        "newBST= BST(None)\n",
        "insert(newBST,70)\n",
        "insert(newBST,50)\n",
        "insert(newBST,80)\n",
        "insert(newBST,30)\n",
        "insert(newBST,90)\n",
        "insert(newBST,60)\n",
        "insert(newBST,100)\n",
        "insert(newBST,20)\n",
        "\n",
        "print(f'PreOrder')\n",
        "preorder(newBST)\n",
        "\n",
        "print(f'Inorder')\n",
        "inorder(newBST)\n",
        "\n",
        "print(f'Postorder')\n",
        "postorder(newBST)\n",
        "\n",
        "print(f'Level order')\n",
        "levelorder(newBST)\n",
        "\n",
        "#Time complexity: O(n)\n",
        "#Space complexity: O(n)"
      ],
      "metadata": {
        "colab": {
          "base_uri": "https://localhost:8080/"
        },
        "id": "N_UYBvFcMDR6",
        "outputId": "d0b93983-cb30-4872-e610-845ed330e20c"
      },
      "execution_count": 23,
      "outputs": [
        {
          "output_type": "stream",
          "name": "stdout",
          "text": [
            "PreOrder\n",
            "70\n",
            "50\n",
            "30\n",
            "20\n",
            "60\n",
            "80\n",
            "90\n",
            "100\n",
            "Inorder\n",
            "20\n",
            "30\n",
            "50\n",
            "60\n",
            "70\n",
            "80\n",
            "90\n",
            "100\n",
            "Postorder\n",
            "20\n",
            "30\n",
            "60\n",
            "50\n",
            "100\n",
            "90\n",
            "80\n",
            "70\n",
            "Level order\n",
            "70\n",
            "50\n",
            "80\n",
            "30\n",
            "60\n",
            "90\n",
            "20\n",
            "100\n"
          ]
        }
      ]
    },
    {
      "cell_type": "code",
      "source": [
        "#Search in BST\n",
        "from collections import deque\n",
        "class BST:\n",
        "  def __init__(self,data):\n",
        "    self.data= data\n",
        "    self.left= None\n",
        "    self.right= None\n",
        "\n",
        "def insert(root,nodeval):\n",
        "  if root.data== None:\n",
        "    root.data= nodeval\n",
        "  elif nodeval < root.data:\n",
        "    if root.left is None:\n",
        "      root.left= BST(nodeval)\n",
        "    else:\n",
        "      insert(root.left,nodeval)\n",
        "  elif nodeval > root.data:\n",
        "    if root.right is None:\n",
        "      root.right= BST(nodeval)\n",
        "    else:\n",
        "      insert(root.right,nodeval)\n",
        "  return f\"The node has been successfully inserted\"\n",
        "\n",
        "def search(root,value):\n",
        "  if root.data == value:\n",
        "    return f'Value is at root node'\n",
        "  elif value < root.data:\n",
        "    if root.left and root.left.data == value:\n",
        "      return f'Value is found in left side of tree'\n",
        "    else:\n",
        "      return search(root.left,value)\n",
        "  elif value > root.data:\n",
        "    if root.right and root.right.data == value:\n",
        "      return f'Value is found in right side of tree'\n",
        "    else:\n",
        "      return search(root.right,value)\n",
        "  else:\n",
        "    return f'Value not found'\n",
        "\n",
        "newBST= BST(None)\n",
        "insert(newBST,70)\n",
        "insert(newBST,50)\n",
        "insert(newBST,80)\n",
        "insert(newBST,30)\n",
        "insert(newBST,90)\n",
        "insert(newBST,60)\n",
        "insert(newBST,100)\n",
        "insert(newBST,20)\n",
        "\n",
        "print(search(newBST,30))\n",
        "print(search(newBST,80))\n",
        "print(search(newBST,70))\n",
        "\n",
        "#Time complexity: O(logn)\n",
        "#Space COmplexity: O(logn)"
      ],
      "metadata": {
        "id": "HZy1SwFKPl-h",
        "colab": {
          "base_uri": "https://localhost:8080/"
        },
        "outputId": "a9bea3ef-87e6-4d8c-db01-95b52fd87af0"
      },
      "execution_count": 32,
      "outputs": [
        {
          "output_type": "stream",
          "name": "stdout",
          "text": [
            "Value is found in left side of tree\n",
            "Value is found in right side of tree\n",
            "Value is at root node\n"
          ]
        }
      ]
    },
    {
      "cell_type": "markdown",
      "source": [
        "**Delete node in BST**\n",
        "\n",
        "Case1: The node tobe deleted is leaf node\n",
        "\n",
        "Case2: The node has one child\n",
        "\n",
        "Case3: The node has two children\n"
      ],
      "metadata": {
        "id": "2Kmu3bbYuiCL"
      }
    },
    {
      "cell_type": "code",
      "source": [
        "#Delete node  in BST\n",
        "from collections import deque\n",
        "class BST:\n",
        "  def __init__(self,data):\n",
        "    self.data= data\n",
        "    self.left= None\n",
        "    self.right= None\n",
        "\n",
        "def insert(root,nodeval):\n",
        "  if root.data== None:\n",
        "    root.data= nodeval\n",
        "  elif nodeval < root.data:\n",
        "    if root.left is None:\n",
        "      root.left= BST(nodeval)\n",
        "    else:\n",
        "      insert(root.left,nodeval)\n",
        "  elif nodeval > root.data:\n",
        "    if root.right is None:\n",
        "      root.right= BST(nodeval)\n",
        "    else:\n",
        "      insert(root.right,nodeval)\n",
        "  return f\"The node has been successfully inserted\"\n",
        "\n",
        "def levelorder(root):\n",
        "  if not root:\n",
        "    return\n",
        "  q= deque()\n",
        "  q.append(root)\n",
        "  while q:\n",
        "    size= len(q)\n",
        "    for i in range(size):\n",
        "      node= q.popleft()\n",
        "      print(node.data)\n",
        "      if node.left:\n",
        "        q.append(node.left)\n",
        "      if node.right:\n",
        "        q.append(node.right)\n",
        "\n",
        "def minVal(root):\n",
        "  current= root\n",
        "  while current.left is not None:\n",
        "    current= current.left\n",
        "  return current\n",
        "\n",
        "def delete(root,delnode):\n",
        "  if root is None:\n",
        "    return None\n",
        "  if delnode < root.data:\n",
        "    root.left.data= delete(root.left,delnode)\n",
        "  elif delnode > root.data:\n",
        "    root.right.data= delete(root.right,delnode)\n",
        "  else:\n",
        "    if root.left == None:\n",
        "      temp= root.right\n",
        "      root= None\n",
        "      return temp\n",
        "    if root.right == None:\n",
        "      temp= root.left\n",
        "      root= None\n",
        "      return temp\n",
        "\n",
        "    temp= minVal(root.right)\n",
        "    root.data= temp.data\n",
        "    root.right= delete(root.right, temp)\n",
        "  return root\n",
        "\n",
        "\n",
        "\n",
        "\n",
        "newBST= BST(None)\n",
        "insert(newBST,70)\n",
        "insert(newBST,50)\n",
        "insert(newBST,80)\n",
        "insert(newBST,30)\n",
        "insert(newBST,90)\n",
        "insert(newBST,60)\n",
        "insert(newBST,100)\n",
        "insert(newBST,20)\n",
        "\n",
        "delete(newBST,30)\n",
        "levelorder(newBST)\n",
        "\n",
        "#Time complexity: O(logn)\n",
        "#Space COmplexity: O(logn)"
      ],
      "metadata": {
        "colab": {
          "base_uri": "https://localhost:8080/"
        },
        "id": "lRmhQeBCpfbC",
        "outputId": "36142d80-a2eb-4fde-91df-082f3c510375"
      },
      "execution_count": 34,
      "outputs": [
        {
          "output_type": "stream",
          "name": "stdout",
          "text": [
            "70\n",
            "<__main__.BST object at 0x7c9ae670ad10>\n",
            "80\n",
            "<__main__.BST object at 0x7c9ae6708310>\n",
            "60\n",
            "90\n",
            "20\n",
            "100\n"
          ]
        }
      ]
    },
    {
      "cell_type": "code",
      "source": [
        "#Delete entire BST\n",
        "from collections import deque\n",
        "class BST:\n",
        "  def __init__(self,data):\n",
        "    self.data= data\n",
        "    self.left= None\n",
        "    self.right= None\n",
        "\n",
        "def insert(root,nodeval):\n",
        "  if root.data== None:\n",
        "    root.data= nodeval\n",
        "  elif nodeval < root.data:\n",
        "    if root.left is None:\n",
        "      root.left= BST(nodeval)\n",
        "    else:\n",
        "      insert(root.left,nodeval)\n",
        "  elif nodeval > root.data:\n",
        "    if root.right is None:\n",
        "      root.right= BST(nodeval)\n",
        "    else:\n",
        "      insert(root.right,nodeval)\n",
        "  return f\"The node has been successfully inserted\"\n",
        "\n",
        "def deleteall(root):\n",
        "  root.data= None\n",
        "  root.left.data= None\n",
        "  root.right.data=None\n",
        "  return f\"All nodes of tree deleted successfully\"\n",
        "\n",
        "newBST= BST(None)\n",
        "insert(newBST,70)\n",
        "insert(newBST,50)\n",
        "insert(newBST,80)\n",
        "insert(newBST,30)\n",
        "insert(newBST,90)\n",
        "insert(newBST,60)\n",
        "\n",
        "deleteall(newBST)\n",
        "\n",
        "\n",
        "\n",
        "#Time complexity: O(1)\n",
        "#Space COmplexity: O(1)"
      ],
      "metadata": {
        "colab": {
          "base_uri": "https://localhost:8080/",
          "height": 35
        },
        "id": "FximqeiUxLa6",
        "outputId": "23036261-bfd8-41e9-c040-d6b8c02c8110"
      },
      "execution_count": 38,
      "outputs": [
        {
          "output_type": "execute_result",
          "data": {
            "text/plain": [
              "'All nodes of tree deleted successfully'"
            ],
            "application/vnd.google.colaboratory.intrinsic+json": {
              "type": "string"
            }
          },
          "metadata": {},
          "execution_count": 38
        }
      ]
    },
    {
      "cell_type": "markdown",
      "source": [
        "**Time and Space Complexity**\n",
        "\n",
        "1. Creation of Tree:\n",
        "   - Time Complexity: O(1)\n",
        "   - Space COmplexity: O(1)\n",
        "\n",
        "2. Insertion of a node:\n",
        "   - Time Complexity: O(logN)\n",
        "   - Space COmplexity: O(logN)\n",
        "\n",
        "3. Deletion of a node:\n",
        "   - Time Complexity: O(N)\n",
        "   - Space COmplexity: O(N)\n",
        "\n",
        "4. Search for a value\n",
        "   - Time Complexity: O(logN)\n",
        "   - Space COmplexity: O(logN)\n",
        "\n",
        "5. Traverse all nodes:\n",
        "   - Time Complexity: O(logN)\n",
        "   - Space COmplexity: O(logN)\n",
        "\n",
        "6. Deletion of tree:\n",
        "   - Time Complexity: O(1)\n",
        "   - Space COmplexity: O(1)"
      ],
      "metadata": {
        "id": "XC6cOH7Bx84K"
      }
    },
    {
      "cell_type": "code",
      "source": [],
      "metadata": {
        "id": "IwaPpX61x1aB"
      },
      "execution_count": null,
      "outputs": []
    }
  ]
}